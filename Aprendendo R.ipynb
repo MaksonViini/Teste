{
  "nbformat": 4,
  "nbformat_minor": 0,
  "metadata": {
    "colab": {
      "name": "Inicio R.ipynb",
      "provenance": [],
      "collapsed_sections": []
    },
    "kernelspec": {
      "name": "ir",
      "display_name": "R"
    }
  },
  "cells": [
    {
      "cell_type": "markdown",
      "metadata": {
        "id": "r93EgmUTkBb4",
        "colab_type": "text"
      },
      "source": [
        "###Inicio"
      ]
    },
    {
      "cell_type": "code",
      "metadata": {
        "id": "mkyjEeDDjGXn",
        "colab_type": "code",
        "colab": {
          "base_uri": "https://localhost:8080/",
          "height": 34
        },
        "outputId": "00b91f8b-4667-4fb7-fd4e-09f32929f339"
      },
      "source": [
        "x = \"Ola\"\n",
        "print(x)"
      ],
      "execution_count": 1,
      "outputs": [
        {
          "output_type": "stream",
          "text": [
            "[1] \"Ola\"\n"
          ],
          "name": "stdout"
        }
      ]
    },
    {
      "cell_type": "code",
      "metadata": {
        "id": "FTldPH8djdlj",
        "colab_type": "code",
        "colab": {
          "base_uri": "https://localhost:8080/",
          "height": 50
        },
        "outputId": "7cbdc90d-af53-40c9-a42e-4a17e70158f2"
      },
      "source": [
        "nome = readline(\"Qual e seu nome? \")\n",
        "print(nome)"
      ],
      "execution_count": 2,
      "outputs": [
        {
          "output_type": "stream",
          "text": [
            "Qual e seu nome? viini\n",
            "[1] \"viini\"\n"
          ],
          "name": "stdout"
        }
      ]
    },
    {
      "cell_type": "code",
      "metadata": {
        "id": "-r4uE5eqjky0",
        "colab_type": "code",
        "colab": {
          "base_uri": "https://localhost:8080/",
          "height": 34
        },
        "outputId": "f03ed99f-41f1-47b4-ad3f-8c5316b6f036"
      },
      "source": [
        "caract = 15\n",
        "class(caract) \n",
        "#retorna os tipos das variaveis"
      ],
      "execution_count": 11,
      "outputs": [
        {
          "output_type": "display_data",
          "data": {
            "text/plain": [
              "[1] \"numeric\""
            ],
            "text/latex": "'numeric'",
            "text/markdown": "'numeric'",
            "text/html": [
              "'numeric'"
            ]
          },
          "metadata": {
            "tags": []
          }
        }
      ]
    },
    {
      "cell_type": "markdown",
      "metadata": {
        "id": "fjEuEhcAj9pH",
        "colab_type": "text"
      },
      "source": [
        "####Vetor"
      ]
    },
    {
      "cell_type": "code",
      "metadata": {
        "id": "2odRUtepj8fa",
        "colab_type": "code",
        "colab": {
          "base_uri": "https://localhost:8080/",
          "height": 34
        },
        "outputId": "6a1df89f-942d-42fa-c7bf-9b73b9f0db23"
      },
      "source": [
        "vec = 3\n",
        "is.vector(vector)\n",
        "#Retorna true para o vetor"
      ],
      "execution_count": 17,
      "outputs": [
        {
          "output_type": "display_data",
          "data": {
            "text/plain": [
              "[1] TRUE"
            ],
            "text/latex": "TRUE",
            "text/markdown": "TRUE",
            "text/html": [
              "TRUE"
            ]
          },
          "metadata": {
            "tags": []
          }
        }
      ]
    },
    {
      "cell_type": "code",
      "metadata": {
        "id": "QLoFVUXvkMbd",
        "colab_type": "code",
        "colab": {
          "base_uri": "https://localhost:8080/",
          "height": 50
        },
        "outputId": "dc782974-372f-40e9-9114-d631c7d48438"
      },
      "source": [
        "vec = readline(\"Informe os vetores\")\n",
        "print(vec)\n",
        "#Inserir em vetor"
      ],
      "execution_count": 19,
      "outputs": [
        {
          "output_type": "stream",
          "text": [
            "Informe os vetores1, 2, 5, 6, 4, 8, 9\n",
            "[1] \"1, 2, 5, 6, 4, 8, 9\"\n"
          ],
          "name": "stdout"
        }
      ]
    },
    {
      "cell_type": "markdown",
      "metadata": {
        "id": "cW_yJjj7l8qH",
        "colab_type": "text"
      },
      "source": [
        "###Matriz"
      ]
    },
    {
      "cell_type": "code",
      "metadata": {
        "id": "qWBiM1HckgQ1",
        "colab_type": "code",
        "colab": {
          "base_uri": "https://localhost:8080/",
          "height": 67
        },
        "outputId": "eae0645d-2932-48fe-abbf-e45369fded4d"
      },
      "source": [
        "mat = matrix(c(2, 4, 5, 6), ncol = 2, nrow = 2, byrow = TRUE)\n",
        "print(mat)"
      ],
      "execution_count": 33,
      "outputs": [
        {
          "output_type": "stream",
          "text": [
            "     [,1] [,2]\n",
            "[1,]    2    4\n",
            "[2,]    5    6\n"
          ],
          "name": "stdout"
        }
      ]
    },
    {
      "cell_type": "markdown",
      "metadata": {
        "id": "2RKyzlrTm8Go",
        "colab_type": "text"
      },
      "source": [
        "###Data Frame\n"
      ]
    },
    {
      "cell_type": "code",
      "metadata": {
        "id": "iHwMsjSJlmQI",
        "colab_type": "code",
        "colab": {}
      },
      "source": [
        "df = data.frame(nome = c(\"Ana\", \"Maria\", \"Vinicio\"), \n",
        "                idade = c(24L, 14L, 20L),\n",
        "                Salario = c(1200, 300, 100))"
      ],
      "execution_count": 35,
      "outputs": []
    },
    {
      "cell_type": "code",
      "metadata": {
        "id": "MrRxnDwmnb_X",
        "colab_type": "code",
        "colab": {
          "base_uri": "https://localhost:8080/",
          "height": 84
        },
        "outputId": "e969e0b5-dd42-457d-9113-aa7ed333b3ce"
      },
      "source": [
        "print(df)"
      ],
      "execution_count": 36,
      "outputs": [
        {
          "output_type": "stream",
          "text": [
            "     nome idade Salario\n",
            "1     Ana    24    1200\n",
            "2   Maria    14     300\n",
            "3 Vinicio    20     100\n"
          ],
          "name": "stdout"
        }
      ]
    },
    {
      "cell_type": "markdown",
      "metadata": {
        "id": "GBIUM7NQuS3S",
        "colab_type": "text"
      },
      "source": [
        "###Condicionais\n"
      ]
    },
    {
      "cell_type": "code",
      "metadata": {
        "id": "aQJZtit8uU0-",
        "colab_type": "code",
        "colab": {
          "base_uri": "https://localhost:8080/",
          "height": 50
        },
        "outputId": "2565a11c-1c8e-483f-fb03-ca83b8024ecd"
      },
      "source": [
        "x = 3\n",
        "y = 6\n",
        "if(y > x) {\n",
        "  print(\"O maior e ... \")\n",
        "  print(y)\n",
        "} else {\n",
        "  print(\"O maior e ... \")\n",
        "  print(x)\n",
        "}"
      ],
      "execution_count": 44,
      "outputs": [
        {
          "output_type": "stream",
          "text": [
            "[1] \"O maior e ... \"\n",
            "[1] 9\n"
          ],
          "name": "stdout"
        }
      ]
    },
    {
      "cell_type": "code",
      "metadata": {
        "id": "rtuChYE2ug0U",
        "colab_type": "code",
        "colab": {
          "base_uri": "https://localhost:8080/",
          "height": 34
        },
        "outputId": "e31a5fda-5515-4108-91cd-5953b12b12d2"
      },
      "source": [
        "a = 1\n",
        "b = 3\n",
        "ifelse(a > b, \"A maior que B\", \"B maior que A\")"
      ],
      "execution_count": 46,
      "outputs": [
        {
          "output_type": "display_data",
          "data": {
            "text/plain": [
              "[1] \"B maior que A\""
            ],
            "text/latex": "'B maior que A'",
            "text/markdown": "'B maior que A'",
            "text/html": [
              "'B maior que A'"
            ]
          },
          "metadata": {
            "tags": []
          }
        }
      ]
    },
    {
      "cell_type": "markdown",
      "metadata": {
        "id": "67lxGUcqxhpC",
        "colab_type": "text"
      },
      "source": [
        "###Funcoes"
      ]
    },
    {
      "cell_type": "code",
      "metadata": {
        "id": "wnVIKuINvJEl",
        "colab_type": "code",
        "colab": {
          "base_uri": "https://localhost:8080/",
          "height": 229
        },
        "outputId": "f9588968-dcbb-44bd-8957-a1b3fbafb846"
      },
      "source": [
        "#funcoes padraos do R\n",
        "x = c(1, 8, 6, 9, 3, 5, 7, 4, 50)\n",
        "mean(x) #media\n",
        "sd(x) #desvio padrao\n",
        "#head(iris) #primeira linhas do data frame iris\n",
        "tail(iris) #ultimas linhas do data frame iris"
      ],
      "execution_count": 56,
      "outputs": [
        {
          "output_type": "display_data",
          "data": {
            "text/plain": [
              "[1] 10.33333"
            ],
            "text/latex": "10.3333333333333",
            "text/markdown": "10.3333333333333",
            "text/html": [
              "10.3333333333333"
            ]
          },
          "metadata": {
            "tags": []
          }
        },
        {
          "output_type": "display_data",
          "data": {
            "text/plain": [
              "[1] 15.0831"
            ],
            "text/latex": "15.0831031289984",
            "text/markdown": "15.0831031289984",
            "text/html": [
              "15.0831031289984"
            ]
          },
          "metadata": {
            "tags": []
          }
        },
        {
          "output_type": "display_data",
          "data": {
            "text/plain": [
              "    Sepal.Length Sepal.Width Petal.Length Petal.Width Species  \n",
              "145 6.7          3.3         5.7          2.5         virginica\n",
              "146 6.7          3.0         5.2          2.3         virginica\n",
              "147 6.3          2.5         5.0          1.9         virginica\n",
              "148 6.5          3.0         5.2          2.0         virginica\n",
              "149 6.2          3.4         5.4          2.3         virginica\n",
              "150 5.9          3.0         5.1          1.8         virginica"
            ],
            "text/latex": "A data.frame: 6 × 5\n\\begin{tabular}{r|lllll}\n  & Sepal.Length & Sepal.Width & Petal.Length & Petal.Width & Species\\\\\n  & <dbl> & <dbl> & <dbl> & <dbl> & <fct>\\\\\n\\hline\n\t145 & 6.7 & 3.3 & 5.7 & 2.5 & virginica\\\\\n\t146 & 6.7 & 3.0 & 5.2 & 2.3 & virginica\\\\\n\t147 & 6.3 & 2.5 & 5.0 & 1.9 & virginica\\\\\n\t148 & 6.5 & 3.0 & 5.2 & 2.0 & virginica\\\\\n\t149 & 6.2 & 3.4 & 5.4 & 2.3 & virginica\\\\\n\t150 & 5.9 & 3.0 & 5.1 & 1.8 & virginica\\\\\n\\end{tabular}\n",
            "text/markdown": "\nA data.frame: 6 × 5\n\n| <!--/--> | Sepal.Length &lt;dbl&gt; | Sepal.Width &lt;dbl&gt; | Petal.Length &lt;dbl&gt; | Petal.Width &lt;dbl&gt; | Species &lt;fct&gt; |\n|---|---|---|---|---|---|\n| 145 | 6.7 | 3.3 | 5.7 | 2.5 | virginica |\n| 146 | 6.7 | 3.0 | 5.2 | 2.3 | virginica |\n| 147 | 6.3 | 2.5 | 5.0 | 1.9 | virginica |\n| 148 | 6.5 | 3.0 | 5.2 | 2.0 | virginica |\n| 149 | 6.2 | 3.4 | 5.4 | 2.3 | virginica |\n| 150 | 5.9 | 3.0 | 5.1 | 1.8 | virginica |\n\n",
            "text/html": [
              "<table>\n",
              "<caption>A data.frame: 6 × 5</caption>\n",
              "<thead>\n",
              "\t<tr><th></th><th scope=col>Sepal.Length</th><th scope=col>Sepal.Width</th><th scope=col>Petal.Length</th><th scope=col>Petal.Width</th><th scope=col>Species</th></tr>\n",
              "\t<tr><th></th><th scope=col>&lt;dbl&gt;</th><th scope=col>&lt;dbl&gt;</th><th scope=col>&lt;dbl&gt;</th><th scope=col>&lt;dbl&gt;</th><th scope=col>&lt;fct&gt;</th></tr>\n",
              "</thead>\n",
              "<tbody>\n",
              "\t<tr><th scope=row>145</th><td>6.7</td><td>3.3</td><td>5.7</td><td>2.5</td><td>virginica</td></tr>\n",
              "\t<tr><th scope=row>146</th><td>6.7</td><td>3.0</td><td>5.2</td><td>2.3</td><td>virginica</td></tr>\n",
              "\t<tr><th scope=row>147</th><td>6.3</td><td>2.5</td><td>5.0</td><td>1.9</td><td>virginica</td></tr>\n",
              "\t<tr><th scope=row>148</th><td>6.5</td><td>3.0</td><td>5.2</td><td>2.0</td><td>virginica</td></tr>\n",
              "\t<tr><th scope=row>149</th><td>6.2</td><td>3.4</td><td>5.4</td><td>2.3</td><td>virginica</td></tr>\n",
              "\t<tr><th scope=row>150</th><td>5.9</td><td>3.0</td><td>5.1</td><td>1.8</td><td>virginica</td></tr>\n",
              "</tbody>\n",
              "</table>\n"
            ]
          },
          "metadata": {
            "tags": []
          }
        }
      ]
    },
    {
      "cell_type": "code",
      "metadata": {
        "id": "wBXDKGGiyUhU",
        "colab_type": "code",
        "colab": {
          "base_uri": "https://localhost:8080/",
          "height": 34
        },
        "outputId": "ea593560-9648-4b57-f580-ff8a164b280d"
      },
      "source": [
        "quadrado = function(x) {\n",
        "  return (x * x)\n",
        "}\n",
        "quadrado(5)\n"
      ],
      "execution_count": 59,
      "outputs": [
        {
          "output_type": "display_data",
          "data": {
            "text/plain": [
              "[1] 25"
            ],
            "text/latex": "25",
            "text/markdown": "25",
            "text/html": [
              "25"
            ]
          },
          "metadata": {
            "tags": []
          }
        }
      ]
    },
    {
      "cell_type": "code",
      "metadata": {
        "id": "WlaCWmsYyilG",
        "colab_type": "code",
        "colab": {
          "base_uri": "https://localhost:8080/",
          "height": 34
        },
        "outputId": "32aca857-b63a-4aeb-94b5-70bc60b82440"
      },
      "source": [
        "maior = function(x, y) {\n",
        "  ifelse(x > y, return (x), return (y))\n",
        "}\n",
        "maior(9, 8)"
      ],
      "execution_count": 62,
      "outputs": [
        {
          "output_type": "display_data",
          "data": {
            "text/plain": [
              "[1] 9"
            ],
            "text/latex": "9",
            "text/markdown": "9",
            "text/html": [
              "9"
            ]
          },
          "metadata": {
            "tags": []
          }
        }
      ]
    },
    {
      "cell_type": "code",
      "metadata": {
        "id": "w-G7unaazMbt",
        "colab_type": "code",
        "colab": {
          "base_uri": "https://localhost:8080/",
          "height": 34
        },
        "outputId": "c999fd3e-f382-430c-c4f0-5d9df8205217"
      },
      "source": [
        "menor = function(x, y) {\n",
        "  ifelse(x > y, return (y), return (x))\n",
        "}\n",
        "menor(2, 8)"
      ],
      "execution_count": 63,
      "outputs": [
        {
          "output_type": "display_data",
          "data": {
            "text/plain": [
              "[1] 2"
            ],
            "text/latex": "2",
            "text/markdown": "2",
            "text/html": [
              "2"
            ]
          },
          "metadata": {
            "tags": []
          }
        }
      ]
    },
    {
      "cell_type": "code",
      "metadata": {
        "id": "MLl5dmnIzaJ9",
        "colab_type": "code",
        "colab": {}
      },
      "source": [
        "par = function(x) {\n",
        "  ifelse(x %% 2 == 0, return (TRUE), return (FALSE))\n",
        "}"
      ],
      "execution_count": 72,
      "outputs": []
    },
    {
      "cell_type": "code",
      "metadata": {
        "id": "0K48QtcEz_jz",
        "colab_type": "code",
        "colab": {
          "base_uri": "https://localhost:8080/",
          "height": 34
        },
        "outputId": "ba65d202-788e-4080-d57d-579a009b3299"
      },
      "source": [
        "par(9)"
      ],
      "execution_count": 73,
      "outputs": [
        {
          "output_type": "display_data",
          "data": {
            "text/plain": [
              "[1] FALSE"
            ],
            "text/latex": "FALSE",
            "text/markdown": "FALSE",
            "text/html": [
              "FALSE"
            ]
          },
          "metadata": {
            "tags": []
          }
        }
      ]
    },
    {
      "cell_type": "code",
      "metadata": {
        "id": "uChklovV0AqA",
        "colab_type": "code",
        "colab": {}
      },
      "source": [
        "divisivel = function(x, y) {\n",
        "  ifelse(x %% y == 0 , return (TRUE), return (FALSE))\n",
        "}"
      ],
      "execution_count": 85,
      "outputs": []
    },
    {
      "cell_type": "code",
      "metadata": {
        "id": "Pmje3RT30onh",
        "colab_type": "code",
        "colab": {
          "base_uri": "https://localhost:8080/",
          "height": 34
        },
        "outputId": "bea2fee3-3e11-45f1-dedd-f0ec8857d561"
      },
      "source": [
        "divisivel(4L, 2L)"
      ],
      "execution_count": 86,
      "outputs": [
        {
          "output_type": "display_data",
          "data": {
            "text/plain": [
              "[1] TRUE"
            ],
            "text/latex": "TRUE",
            "text/markdown": "TRUE",
            "text/html": [
              "TRUE"
            ]
          },
          "metadata": {
            "tags": []
          }
        }
      ]
    },
    {
      "cell_type": "markdown",
      "metadata": {
        "id": "Hp-m82pz1MPC",
        "colab_type": "text"
      },
      "source": [
        "###Instalando Pacotes"
      ]
    },
    {
      "cell_type": "code",
      "metadata": {
        "id": "3ICSTN5b0pqV",
        "colab_type": "code",
        "colab": {
          "base_uri": "https://localhost:8080/",
          "height": 238
        },
        "outputId": "7e3ebb6b-1535-4097-ff8e-f7e622479a95"
      },
      "source": [
        "#intala a biblioteca\n",
        "install.packages(\"ggplot2\", dependencies = TRUE)"
      ],
      "execution_count": null,
      "outputs": [
        {
          "output_type": "stream",
          "text": [
            "Installing package into ‘/usr/local/lib/R/site-library’\n",
            "(as ‘lib’ is unspecified)\n",
            "\n",
            "also installing the dependencies ‘png’, ‘jpeg’, ‘checkmate’, ‘zoo’, ‘matrixStats’, ‘RcppArmadillo’, ‘e1071’, ‘fontBitstreamVera’, ‘fontLiberation’, ‘httpuv’, ‘xtable’, ‘sourcetools’, ‘fastmap’, ‘Formula’, ‘latticeExtra’, ‘acepack’, ‘gridExtra’, ‘data.table’, ‘htmlTable’, ‘viridis’, ‘sp’, ‘mvtnorm’, ‘TH.data’, ‘sandwich’, ‘SparseM’, ‘MatrixModels’, ‘conquer’, ‘classInt’, ‘units’, ‘diffobj’, ‘fontquiver’, ‘freetypeharfbuzz’, ‘shiny’, ‘ggplot2movies’, ‘hexbin’, ‘Hmisc’, ‘mapproj’, ‘maps’, ‘maptools’, ‘multcomp’, ‘profvis’, ‘quantreg’, ‘rgeos’, ‘sf’, ‘vdiffr’\n",
            "\n",
            "\n",
            "Warning message in install.packages(\"ggplot2\", dependencies = TRUE):\n",
            "“installation of package ‘units’ had non-zero exit status”\n",
            "Warning message in install.packages(\"ggplot2\", dependencies = TRUE):\n",
            "“installation of package ‘conquer’ had non-zero exit status”\n",
            "Warning message in install.packages(\"ggplot2\", dependencies = TRUE):\n",
            "“installation of package ‘classInt’ had non-zero exit status”\n"
          ],
          "name": "stderr"
        }
      ]
    },
    {
      "cell_type": "code",
      "metadata": {
        "id": "EOmQJVV-1ZIi",
        "colab_type": "code",
        "colab": {}
      },
      "source": [
        "#Carregado o pacote\n",
        "library(ggplot2)"
      ],
      "execution_count": null,
      "outputs": []
    },
    {
      "cell_type": "markdown",
      "metadata": {
        "id": "JJ_rKdjl2XaI",
        "colab_type": "text"
      },
      "source": [
        "### END TO END COM Shiny"
      ]
    },
    {
      "cell_type": "code",
      "metadata": {
        "id": "g2UAdIxf2GkG",
        "colab_type": "code",
        "colab": {}
      },
      "source": [
        "#instalando pacotes\n",
        "install.packages(\"shiny\")\n",
        "install.packages(\"sets\")"
      ],
      "execution_count": null,
      "outputs": []
    },
    {
      "cell_type": "code",
      "metadata": {
        "id": "Y6cjq1HH2V_n",
        "colab_type": "code",
        "colab": {}
      },
      "source": [
        ""
      ],
      "execution_count": null,
      "outputs": []
    }
  ]
}