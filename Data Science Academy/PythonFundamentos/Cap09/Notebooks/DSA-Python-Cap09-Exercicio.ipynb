{
 "cells": [
  {
   "cell_type": "markdown",
   "metadata": {},
   "source": [
    "# <font color='blue'>Data Science Academy - Python Fundamentos - Capítulo 9</font>\n",
    "\n",
    "## Download: http://github.com/dsacademybr"
   ]
  },
  {
   "cell_type": "code",
   "execution_count": 2,
   "metadata": {},
   "outputs": [
    {
     "output_type": "stream",
     "name": "stdout",
     "text": [
      "Versão da Linguagem Python Usada Neste Jupyter Notebook: 3.9.5\n"
     ]
    }
   ],
   "source": [
    "# Versão da Linguagem Python\n",
    "from platform import python_version\n",
    "print('Versão da Linguagem Python Usada Neste Jupyter Notebook:', python_version())"
   ]
  },
  {
   "cell_type": "markdown",
   "metadata": {},
   "source": [
    "## Exercício: Análise Exploratória de Dados com Python\n",
    "\n",
    "Neste exercício, você vai realizar uma análise exploratória em um dos mais famosos datasets para Machine Learning, o dataset iris com informações sobre 3 tipos de plantas. Esse dataset é comumente usado em problemas de Machine Learning de classificação, quando nosso objetivo é prever a classe dos dados. No caso deste dataset, prever a categoria de uma planta a partir de medidas da planta (sepal e petal).\n",
    "\n",
    "Em cada célula, você encontra a tarefa a ser realizada. Faça todo o exercício e depois compare com a solução proposta.\n",
    "\n",
    "Dataset (já disponível com o Scikit-Learn): https://archive.ics.uci.edu/ml/datasets/iris"
   ]
  },
  {
   "cell_type": "code",
   "execution_count": 3,
   "metadata": {},
   "outputs": [],
   "source": [
    "# Imports\n",
    "import time\n",
    "import numpy as np\n",
    "import pandas as pd\n",
    "import matplotlib as mat\n",
    "from matplotlib import pyplot as plt\n",
    "from sklearn.datasets import load_iris\n",
    "%matplotlib inline\n",
    "\n",
    "fontsize = 14\n",
    "ticklabelsize = 14"
   ]
  },
  {
   "cell_type": "code",
   "execution_count": 4,
   "metadata": {},
   "outputs": [
    {
     "output_type": "execute_result",
     "data": {
      "text/plain": [
       "'1.19.5'"
      ]
     },
     "metadata": {},
     "execution_count": 4
    }
   ],
   "source": [
    "np.__version__"
   ]
  },
  {
   "cell_type": "code",
   "execution_count": 5,
   "metadata": {},
   "outputs": [
    {
     "output_type": "execute_result",
     "data": {
      "text/plain": [
       "'1.2.5'"
      ]
     },
     "metadata": {},
     "execution_count": 5
    }
   ],
   "source": [
    "pd.__version__"
   ]
  },
  {
   "cell_type": "code",
   "execution_count": 6,
   "metadata": {},
   "outputs": [
    {
     "output_type": "execute_result",
     "data": {
      "text/plain": [
       "'3.4.2'"
      ]
     },
     "metadata": {},
     "execution_count": 6
    }
   ],
   "source": [
    "mat.__version__"
   ]
  },
  {
   "cell_type": "code",
   "execution_count": 7,
   "metadata": {},
   "outputs": [
    {
     "output_type": "stream",
     "name": "stdout",
     "text": [
      "150\n"
     ]
    },
    {
     "output_type": "execute_result",
     "data": {
      "text/plain": [
       "   sepal length (cm)  sepal width (cm)  petal length (cm)  petal width (cm)\n",
       "0                5.1               3.5                1.4               0.2\n",
       "1                4.9               3.0                1.4               0.2\n",
       "2                4.7               3.2                1.3               0.2\n",
       "3                4.6               3.1                1.5               0.2\n",
       "4                5.0               3.6                1.4               0.2"
      ],
      "text/html": "<div>\n<style scoped>\n    .dataframe tbody tr th:only-of-type {\n        vertical-align: middle;\n    }\n\n    .dataframe tbody tr th {\n        vertical-align: top;\n    }\n\n    .dataframe thead th {\n        text-align: right;\n    }\n</style>\n<table border=\"1\" class=\"dataframe\">\n  <thead>\n    <tr style=\"text-align: right;\">\n      <th></th>\n      <th>sepal length (cm)</th>\n      <th>sepal width (cm)</th>\n      <th>petal length (cm)</th>\n      <th>petal width (cm)</th>\n    </tr>\n  </thead>\n  <tbody>\n    <tr>\n      <th>0</th>\n      <td>5.1</td>\n      <td>3.5</td>\n      <td>1.4</td>\n      <td>0.2</td>\n    </tr>\n    <tr>\n      <th>1</th>\n      <td>4.9</td>\n      <td>3.0</td>\n      <td>1.4</td>\n      <td>0.2</td>\n    </tr>\n    <tr>\n      <th>2</th>\n      <td>4.7</td>\n      <td>3.2</td>\n      <td>1.3</td>\n      <td>0.2</td>\n    </tr>\n    <tr>\n      <th>3</th>\n      <td>4.6</td>\n      <td>3.1</td>\n      <td>1.5</td>\n      <td>0.2</td>\n    </tr>\n    <tr>\n      <th>4</th>\n      <td>5.0</td>\n      <td>3.6</td>\n      <td>1.4</td>\n      <td>0.2</td>\n    </tr>\n  </tbody>\n</table>\n</div>"
     },
     "metadata": {},
     "execution_count": 7
    }
   ],
   "source": [
    "# Carregando o dataset\n",
    "iris = load_iris()\n",
    "df = pd.DataFrame(iris.data, columns = iris.feature_names)\n",
    "print(len(df))\n",
    "df.head()"
   ]
  },
  {
   "cell_type": "markdown",
   "metadata": {},
   "source": [
    "## Extração e Transformação de Dados"
   ]
  },
  {
   "cell_type": "code",
   "execution_count": 27,
   "metadata": {},
   "outputs": [
    {
     "output_type": "execute_result",
     "data": {
      "text/plain": [
       "array(['setosa', 'versicolor', 'virginica'], dtype='<U10')"
      ]
     },
     "metadata": {},
     "execution_count": 27
    }
   ],
   "source": [
    "# Imprima os valores numéricos da Variável target (o que queremos prever), \n",
    "# uma de 3 possíveis categorias de plantas: setosa, versicolor ou virginica\n",
    "iris.target_names"
   ]
  },
  {
   "cell_type": "code",
   "execution_count": 25,
   "metadata": {},
   "outputs": [
    {
     "output_type": "execute_result",
     "data": {
      "text/plain": [
       "array([0, 0, 0, 0, 0, 0, 0, 0, 0, 0, 0, 0, 0, 0, 0, 0, 0, 0, 0, 0, 0, 0,\n",
       "       0, 0, 0, 0, 0, 0, 0, 0, 0, 0, 0, 0, 0, 0, 0, 0, 0, 0, 0, 0, 0, 0,\n",
       "       0, 0, 0, 0, 0, 0, 1, 1, 1, 1, 1, 1, 1, 1, 1, 1, 1, 1, 1, 1, 1, 1,\n",
       "       1, 1, 1, 1, 1, 1, 1, 1, 1, 1, 1, 1, 1, 1, 1, 1, 1, 1, 1, 1, 1, 1,\n",
       "       1, 1, 1, 1, 1, 1, 1, 1, 1, 1, 1, 1, 2, 2, 2, 2, 2, 2, 2, 2, 2, 2,\n",
       "       2, 2, 2, 2, 2, 2, 2, 2, 2, 2, 2, 2, 2, 2, 2, 2, 2, 2, 2, 2, 2, 2,\n",
       "       2, 2, 2, 2, 2, 2, 2, 2, 2, 2, 2, 2, 2, 2, 2, 2, 2, 2])"
      ]
     },
     "metadata": {},
     "execution_count": 25
    }
   ],
   "source": [
    "# Imprima os valores numéricos da Variável target (o que queremos prever), \n",
    "# uma de 3 possíveis categorias de plantas: 0, 1 ou 2\n",
    "iris.target"
   ]
  },
  {
   "cell_type": "code",
   "execution_count": 31,
   "metadata": {},
   "outputs": [
    {
     "output_type": "execute_result",
     "data": {
      "text/plain": [
       "   sepal length (cm)  sepal width (cm)  petal length (cm)  petal width (cm)  \\\n",
       "0                5.1               3.5                1.4               0.2   \n",
       "1                4.9               3.0                1.4               0.2   \n",
       "2                4.7               3.2                1.3               0.2   \n",
       "3                4.6               3.1                1.5               0.2   \n",
       "4                5.0               3.6                1.4               0.2   \n",
       "\n",
       "  species  \n",
       "0  setosa  \n",
       "1  setosa  \n",
       "2  setosa  \n",
       "3  setosa  \n",
       "4  setosa  "
      ],
      "text/html": "<div>\n<style scoped>\n    .dataframe tbody tr th:only-of-type {\n        vertical-align: middle;\n    }\n\n    .dataframe tbody tr th {\n        vertical-align: top;\n    }\n\n    .dataframe thead th {\n        text-align: right;\n    }\n</style>\n<table border=\"1\" class=\"dataframe\">\n  <thead>\n    <tr style=\"text-align: right;\">\n      <th></th>\n      <th>sepal length (cm)</th>\n      <th>sepal width (cm)</th>\n      <th>petal length (cm)</th>\n      <th>petal width (cm)</th>\n      <th>species</th>\n    </tr>\n  </thead>\n  <tbody>\n    <tr>\n      <th>0</th>\n      <td>5.1</td>\n      <td>3.5</td>\n      <td>1.4</td>\n      <td>0.2</td>\n      <td>setosa</td>\n    </tr>\n    <tr>\n      <th>1</th>\n      <td>4.9</td>\n      <td>3.0</td>\n      <td>1.4</td>\n      <td>0.2</td>\n      <td>setosa</td>\n    </tr>\n    <tr>\n      <th>2</th>\n      <td>4.7</td>\n      <td>3.2</td>\n      <td>1.3</td>\n      <td>0.2</td>\n      <td>setosa</td>\n    </tr>\n    <tr>\n      <th>3</th>\n      <td>4.6</td>\n      <td>3.1</td>\n      <td>1.5</td>\n      <td>0.2</td>\n      <td>setosa</td>\n    </tr>\n    <tr>\n      <th>4</th>\n      <td>5.0</td>\n      <td>3.6</td>\n      <td>1.4</td>\n      <td>0.2</td>\n      <td>setosa</td>\n    </tr>\n  </tbody>\n</table>\n</div>"
     },
     "metadata": {},
     "execution_count": 31
    }
   ],
   "source": [
    "# Adicione ao dataset uma nova coluna com os nomes das espécies, pois é isso que vamos tentar prever (variável target)\n",
    "df['species'] = pd.Categorical.from_codes(iris.target, iris.target_names)\n",
    "df.head()"
   ]
  },
  {
   "cell_type": "code",
   "execution_count": 32,
   "metadata": {},
   "outputs": [],
   "source": [
    "# Inclua no dataset uma coluna com os valores numéricos da variável target\n",
    "df['target'] = iris.target"
   ]
  },
  {
   "cell_type": "code",
   "execution_count": 34,
   "metadata": {},
   "outputs": [
    {
     "output_type": "execute_result",
     "data": {
      "text/plain": [
       "Index(['sepal length (cm)', 'sepal width (cm)', 'petal length (cm)',\n",
       "       'petal width (cm)', 'species', 'target'],\n",
       "      dtype='object')"
      ]
     },
     "metadata": {},
     "execution_count": 34
    }
   ],
   "source": [
    "# Extraia as features (atributos) do dataset e imprima \n",
    "df.columns"
   ]
  },
  {
   "cell_type": "code",
   "execution_count": 38,
   "metadata": {},
   "outputs": [
    {
     "output_type": "execute_result",
     "data": {
      "text/plain": [
       "target                 0      1      2\n",
       "sepal length (cm)  5.006  5.936  6.588\n",
       "sepal width (cm)   3.428  2.770  2.974\n",
       "petal length (cm)  1.462  4.260  5.552\n",
       "petal width (cm)   0.246  1.326  2.026"
      ],
      "text/html": "<div>\n<style scoped>\n    .dataframe tbody tr th:only-of-type {\n        vertical-align: middle;\n    }\n\n    .dataframe tbody tr th {\n        vertical-align: top;\n    }\n\n    .dataframe thead th {\n        text-align: right;\n    }\n</style>\n<table border=\"1\" class=\"dataframe\">\n  <thead>\n    <tr style=\"text-align: right;\">\n      <th>target</th>\n      <th>0</th>\n      <th>1</th>\n      <th>2</th>\n    </tr>\n  </thead>\n  <tbody>\n    <tr>\n      <th>sepal length (cm)</th>\n      <td>5.006</td>\n      <td>5.936</td>\n      <td>6.588</td>\n    </tr>\n    <tr>\n      <th>sepal width (cm)</th>\n      <td>3.428</td>\n      <td>2.770</td>\n      <td>2.974</td>\n    </tr>\n    <tr>\n      <th>petal length (cm)</th>\n      <td>1.462</td>\n      <td>4.260</td>\n      <td>5.552</td>\n    </tr>\n    <tr>\n      <th>petal width (cm)</th>\n      <td>0.246</td>\n      <td>1.326</td>\n      <td>2.026</td>\n    </tr>\n  </tbody>\n</table>\n</div>"
     },
     "metadata": {},
     "execution_count": 38
    }
   ],
   "source": [
    "# Calcule a média de cada feature para as 3 classes\n",
    "df.groupby('target').mean().T"
   ]
  },
  {
   "cell_type": "markdown",
   "metadata": {},
   "source": [
    "## Exploração de Dados"
   ]
  },
  {
   "cell_type": "code",
   "execution_count": 39,
   "metadata": {},
   "outputs": [
    {
     "output_type": "execute_result",
     "data": {
      "text/plain": [
       "                      0       1       2       3       4       5       6    \\\n",
       "sepal length (cm)     5.1     4.9     4.7     4.6     5.0     5.4     4.6   \n",
       "sepal width (cm)      3.5     3.0     3.2     3.1     3.6     3.9     3.4   \n",
       "petal length (cm)     1.4     1.4     1.3     1.5     1.4     1.7     1.4   \n",
       "petal width (cm)      0.2     0.2     0.2     0.2     0.2     0.4     0.3   \n",
       "species            setosa  setosa  setosa  setosa  setosa  setosa  setosa   \n",
       "target                  0       0       0       0       0       0       0   \n",
       "\n",
       "                      7       8       9    ...        140        141  \\\n",
       "sepal length (cm)     5.0     4.4     4.9  ...        6.7        6.9   \n",
       "sepal width (cm)      3.4     2.9     3.1  ...        3.1        3.1   \n",
       "petal length (cm)     1.5     1.4     1.5  ...        5.6        5.1   \n",
       "petal width (cm)      0.2     0.2     0.1  ...        2.4        2.3   \n",
       "species            setosa  setosa  setosa  ...  virginica  virginica   \n",
       "target                  0       0       0  ...          2          2   \n",
       "\n",
       "                         142        143        144        145        146  \\\n",
       "sepal length (cm)        5.8        6.8        6.7        6.7        6.3   \n",
       "sepal width (cm)         2.7        3.2        3.3        3.0        2.5   \n",
       "petal length (cm)        5.1        5.9        5.7        5.2        5.0   \n",
       "petal width (cm)         1.9        2.3        2.5        2.3        1.9   \n",
       "species            virginica  virginica  virginica  virginica  virginica   \n",
       "target                     2          2          2          2          2   \n",
       "\n",
       "                         147        148        149  \n",
       "sepal length (cm)        6.5        6.2        5.9  \n",
       "sepal width (cm)         3.0        3.4        3.0  \n",
       "petal length (cm)        5.2        5.4        5.1  \n",
       "petal width (cm)         2.0        2.3        1.8  \n",
       "species            virginica  virginica  virginica  \n",
       "target                     2          2          2  \n",
       "\n",
       "[6 rows x 150 columns]"
      ],
      "text/html": "<div>\n<style scoped>\n    .dataframe tbody tr th:only-of-type {\n        vertical-align: middle;\n    }\n\n    .dataframe tbody tr th {\n        vertical-align: top;\n    }\n\n    .dataframe thead th {\n        text-align: right;\n    }\n</style>\n<table border=\"1\" class=\"dataframe\">\n  <thead>\n    <tr style=\"text-align: right;\">\n      <th></th>\n      <th>0</th>\n      <th>1</th>\n      <th>2</th>\n      <th>3</th>\n      <th>4</th>\n      <th>5</th>\n      <th>6</th>\n      <th>7</th>\n      <th>8</th>\n      <th>9</th>\n      <th>...</th>\n      <th>140</th>\n      <th>141</th>\n      <th>142</th>\n      <th>143</th>\n      <th>144</th>\n      <th>145</th>\n      <th>146</th>\n      <th>147</th>\n      <th>148</th>\n      <th>149</th>\n    </tr>\n  </thead>\n  <tbody>\n    <tr>\n      <th>sepal length (cm)</th>\n      <td>5.1</td>\n      <td>4.9</td>\n      <td>4.7</td>\n      <td>4.6</td>\n      <td>5.0</td>\n      <td>5.4</td>\n      <td>4.6</td>\n      <td>5.0</td>\n      <td>4.4</td>\n      <td>4.9</td>\n      <td>...</td>\n      <td>6.7</td>\n      <td>6.9</td>\n      <td>5.8</td>\n      <td>6.8</td>\n      <td>6.7</td>\n      <td>6.7</td>\n      <td>6.3</td>\n      <td>6.5</td>\n      <td>6.2</td>\n      <td>5.9</td>\n    </tr>\n    <tr>\n      <th>sepal width (cm)</th>\n      <td>3.5</td>\n      <td>3.0</td>\n      <td>3.2</td>\n      <td>3.1</td>\n      <td>3.6</td>\n      <td>3.9</td>\n      <td>3.4</td>\n      <td>3.4</td>\n      <td>2.9</td>\n      <td>3.1</td>\n      <td>...</td>\n      <td>3.1</td>\n      <td>3.1</td>\n      <td>2.7</td>\n      <td>3.2</td>\n      <td>3.3</td>\n      <td>3.0</td>\n      <td>2.5</td>\n      <td>3.0</td>\n      <td>3.4</td>\n      <td>3.0</td>\n    </tr>\n    <tr>\n      <th>petal length (cm)</th>\n      <td>1.4</td>\n      <td>1.4</td>\n      <td>1.3</td>\n      <td>1.5</td>\n      <td>1.4</td>\n      <td>1.7</td>\n      <td>1.4</td>\n      <td>1.5</td>\n      <td>1.4</td>\n      <td>1.5</td>\n      <td>...</td>\n      <td>5.6</td>\n      <td>5.1</td>\n      <td>5.1</td>\n      <td>5.9</td>\n      <td>5.7</td>\n      <td>5.2</td>\n      <td>5.0</td>\n      <td>5.2</td>\n      <td>5.4</td>\n      <td>5.1</td>\n    </tr>\n    <tr>\n      <th>petal width (cm)</th>\n      <td>0.2</td>\n      <td>0.2</td>\n      <td>0.2</td>\n      <td>0.2</td>\n      <td>0.2</td>\n      <td>0.4</td>\n      <td>0.3</td>\n      <td>0.2</td>\n      <td>0.2</td>\n      <td>0.1</td>\n      <td>...</td>\n      <td>2.4</td>\n      <td>2.3</td>\n      <td>1.9</td>\n      <td>2.3</td>\n      <td>2.5</td>\n      <td>2.3</td>\n      <td>1.9</td>\n      <td>2.0</td>\n      <td>2.3</td>\n      <td>1.8</td>\n    </tr>\n    <tr>\n      <th>species</th>\n      <td>setosa</td>\n      <td>setosa</td>\n      <td>setosa</td>\n      <td>setosa</td>\n      <td>setosa</td>\n      <td>setosa</td>\n      <td>setosa</td>\n      <td>setosa</td>\n      <td>setosa</td>\n      <td>setosa</td>\n      <td>...</td>\n      <td>virginica</td>\n      <td>virginica</td>\n      <td>virginica</td>\n      <td>virginica</td>\n      <td>virginica</td>\n      <td>virginica</td>\n      <td>virginica</td>\n      <td>virginica</td>\n      <td>virginica</td>\n      <td>virginica</td>\n    </tr>\n    <tr>\n      <th>target</th>\n      <td>0</td>\n      <td>0</td>\n      <td>0</td>\n      <td>0</td>\n      <td>0</td>\n      <td>0</td>\n      <td>0</td>\n      <td>0</td>\n      <td>0</td>\n      <td>0</td>\n      <td>...</td>\n      <td>2</td>\n      <td>2</td>\n      <td>2</td>\n      <td>2</td>\n      <td>2</td>\n      <td>2</td>\n      <td>2</td>\n      <td>2</td>\n      <td>2</td>\n      <td>2</td>\n    </tr>\n  </tbody>\n</table>\n<p>6 rows × 150 columns</p>\n</div>"
     },
     "metadata": {},
     "execution_count": 39
    }
   ],
   "source": [
    "# Imprima uma Transposta do dataset (transforme linhas e colunas e colunas em linhas)\n",
    "df.T"
   ]
  },
  {
   "cell_type": "code",
   "execution_count": 40,
   "metadata": {},
   "outputs": [
    {
     "output_type": "stream",
     "name": "stdout",
     "text": [
      "<class 'pandas.core.frame.DataFrame'>\nRangeIndex: 150 entries, 0 to 149\nData columns (total 6 columns):\n #   Column             Non-Null Count  Dtype   \n---  ------             --------------  -----   \n 0   sepal length (cm)  150 non-null    float64 \n 1   sepal width (cm)   150 non-null    float64 \n 2   petal length (cm)  150 non-null    float64 \n 3   petal width (cm)   150 non-null    float64 \n 4   species            150 non-null    category\n 5   target             150 non-null    int64   \ndtypes: category(1), float64(4), int64(1)\nmemory usage: 6.3 KB\n"
     ]
    }
   ],
   "source": [
    "# Utilize a função Info do dataset para obter um resumo sobre o dataset \n",
    "df.info()"
   ]
  },
  {
   "cell_type": "code",
   "execution_count": 41,
   "metadata": {},
   "outputs": [
    {
     "output_type": "execute_result",
     "data": {
      "text/plain": [
       "       sepal length (cm)  sepal width (cm)  petal length (cm)  \\\n",
       "count         150.000000        150.000000         150.000000   \n",
       "mean            5.843333          3.057333           3.758000   \n",
       "std             0.828066          0.435866           1.765298   \n",
       "min             4.300000          2.000000           1.000000   \n",
       "25%             5.100000          2.800000           1.600000   \n",
       "50%             5.800000          3.000000           4.350000   \n",
       "75%             6.400000          3.300000           5.100000   \n",
       "max             7.900000          4.400000           6.900000   \n",
       "\n",
       "       petal width (cm)      target  \n",
       "count        150.000000  150.000000  \n",
       "mean           1.199333    1.000000  \n",
       "std            0.762238    0.819232  \n",
       "min            0.100000    0.000000  \n",
       "25%            0.300000    0.000000  \n",
       "50%            1.300000    1.000000  \n",
       "75%            1.800000    2.000000  \n",
       "max            2.500000    2.000000  "
      ],
      "text/html": "<div>\n<style scoped>\n    .dataframe tbody tr th:only-of-type {\n        vertical-align: middle;\n    }\n\n    .dataframe tbody tr th {\n        vertical-align: top;\n    }\n\n    .dataframe thead th {\n        text-align: right;\n    }\n</style>\n<table border=\"1\" class=\"dataframe\">\n  <thead>\n    <tr style=\"text-align: right;\">\n      <th></th>\n      <th>sepal length (cm)</th>\n      <th>sepal width (cm)</th>\n      <th>petal length (cm)</th>\n      <th>petal width (cm)</th>\n      <th>target</th>\n    </tr>\n  </thead>\n  <tbody>\n    <tr>\n      <th>count</th>\n      <td>150.000000</td>\n      <td>150.000000</td>\n      <td>150.000000</td>\n      <td>150.000000</td>\n      <td>150.000000</td>\n    </tr>\n    <tr>\n      <th>mean</th>\n      <td>5.843333</td>\n      <td>3.057333</td>\n      <td>3.758000</td>\n      <td>1.199333</td>\n      <td>1.000000</td>\n    </tr>\n    <tr>\n      <th>std</th>\n      <td>0.828066</td>\n      <td>0.435866</td>\n      <td>1.765298</td>\n      <td>0.762238</td>\n      <td>0.819232</td>\n    </tr>\n    <tr>\n      <th>min</th>\n      <td>4.300000</td>\n      <td>2.000000</td>\n      <td>1.000000</td>\n      <td>0.100000</td>\n      <td>0.000000</td>\n    </tr>\n    <tr>\n      <th>25%</th>\n      <td>5.100000</td>\n      <td>2.800000</td>\n      <td>1.600000</td>\n      <td>0.300000</td>\n      <td>0.000000</td>\n    </tr>\n    <tr>\n      <th>50%</th>\n      <td>5.800000</td>\n      <td>3.000000</td>\n      <td>4.350000</td>\n      <td>1.300000</td>\n      <td>1.000000</td>\n    </tr>\n    <tr>\n      <th>75%</th>\n      <td>6.400000</td>\n      <td>3.300000</td>\n      <td>5.100000</td>\n      <td>1.800000</td>\n      <td>2.000000</td>\n    </tr>\n    <tr>\n      <th>max</th>\n      <td>7.900000</td>\n      <td>4.400000</td>\n      <td>6.900000</td>\n      <td>2.500000</td>\n      <td>2.000000</td>\n    </tr>\n  </tbody>\n</table>\n</div>"
     },
     "metadata": {},
     "execution_count": 41
    }
   ],
   "source": [
    "# Faça um resumo estatístico do dataset\n",
    "df.describe()"
   ]
  },
  {
   "cell_type": "code",
   "execution_count": 44,
   "metadata": {},
   "outputs": [
    {
     "output_type": "execute_result",
     "data": {
      "text/plain": [
       "sepal length (cm)    0.0\n",
       "sepal width (cm)     0.0\n",
       "petal length (cm)    0.0\n",
       "petal width (cm)     0.0\n",
       "species              0.0\n",
       "target               0.0\n",
       "dtype: float64"
      ]
     },
     "metadata": {},
     "execution_count": 44
    }
   ],
   "source": [
    "# Verifique se existem valores nulos no dataset\n",
    "(df.isna().sum() / df.shape[0]).sort_values(ascending=False)"
   ]
  },
  {
   "cell_type": "code",
   "execution_count": 47,
   "metadata": {
    "scrolled": true
   },
   "outputs": [
    {
     "output_type": "execute_result",
     "data": {
      "text/plain": [
       "5.0    10\n",
       "6.3     9\n",
       "5.1     9\n",
       "5.7     8\n",
       "6.7     8\n",
       "5.8     7\n",
       "5.5     7\n",
       "6.4     7\n",
       "4.9     6\n",
       "6.0     6\n",
       "5.4     6\n",
       "5.6     6\n",
       "6.1     6\n",
       "6.5     5\n",
       "4.8     5\n",
       "6.2     4\n",
       "5.2     4\n",
       "7.7     4\n",
       "6.9     4\n",
       "4.6     4\n",
       "7.2     3\n",
       "5.9     3\n",
       "4.4     3\n",
       "6.8     3\n",
       "6.6     2\n",
       "4.7     2\n",
       "7.1     1\n",
       "7.4     1\n",
       "7.6     1\n",
       "7.9     1\n",
       "4.5     1\n",
       "7.0     1\n",
       "5.3     1\n",
       "7.3     1\n",
       "4.3     1\n",
       "Name: sepal length (cm), dtype: int64"
      ]
     },
     "metadata": {},
     "execution_count": 47
    }
   ],
   "source": [
    "# Faça uma contagem de valores de sepal length\n",
    "df['sepal length (cm)'].value_counts()"
   ]
  },
  {
   "cell_type": "markdown",
   "metadata": {},
   "source": [
    "## Plot"
   ]
  },
  {
   "cell_type": "code",
   "execution_count": 49,
   "metadata": {},
   "outputs": [
    {
     "output_type": "execute_result",
     "data": {
      "text/plain": [
       "Index(['sepal length (cm)', 'sepal width (cm)', 'petal length (cm)',\n",
       "       'petal width (cm)', 'species', 'target'],\n",
       "      dtype='object')"
      ]
     },
     "metadata": {},
     "execution_count": 49
    }
   ],
   "source": [
    "df.columns"
   ]
  },
  {
   "cell_type": "code",
   "execution_count": 51,
   "metadata": {
    "scrolled": true
   },
   "outputs": [
    {
     "output_type": "execute_result",
     "data": {
      "text/plain": [
       "(array([ 9., 23., 14., 27., 16., 26., 18.,  6.,  5.,  6.]),\n",
       " array([4.3 , 4.66, 5.02, 5.38, 5.74, 6.1 , 6.46, 6.82, 7.18, 7.54, 7.9 ]),\n",
       " <BarContainer object of 10 artists>)"
      ]
     },
     "metadata": {},
     "execution_count": 51
    },
    {
     "output_type": "display_data",
     "data": {
      "text/plain": "<Figure size 432x288 with 1 Axes>",
      "image/svg+xml": "<?xml version=\"1.0\" encoding=\"utf-8\" standalone=\"no\"?>\n<!DOCTYPE svg PUBLIC \"-//W3C//DTD SVG 1.1//EN\"\n  \"http://www.w3.org/Graphics/SVG/1.1/DTD/svg11.dtd\">\n<svg height=\"248.518125pt\" version=\"1.1\" viewBox=\"0 0 370.112926 248.518125\" width=\"370.112926pt\" xmlns=\"http://www.w3.org/2000/svg\" xmlns:xlink=\"http://www.w3.org/1999/xlink\">\n <metadata>\n  <rdf:RDF xmlns:cc=\"http://creativecommons.org/ns#\" xmlns:dc=\"http://purl.org/dc/elements/1.1/\" xmlns:rdf=\"http://www.w3.org/1999/02/22-rdf-syntax-ns#\">\n   <cc:Work>\n    <dc:type rdf:resource=\"http://purl.org/dc/dcmitype/StillImage\"/>\n    <dc:date>2021-07-04T11:42:12.726454</dc:date>\n    <dc:format>image/svg+xml</dc:format>\n    <dc:creator>\n     <cc:Agent>\n      <dc:title>Matplotlib v3.4.2, https://matplotlib.org/</dc:title>\n     </cc:Agent>\n    </dc:creator>\n   </cc:Work>\n  </rdf:RDF>\n </metadata>\n <defs>\n  <style type=\"text/css\">*{stroke-linecap:butt;stroke-linejoin:round;}</style>\n </defs>\n <g id=\"figure_1\">\n  <g id=\"patch_1\">\n   <path d=\"M -0 248.518125 \nL 370.112926 248.518125 \nL 370.112926 0 \nL -0 0 \nz\n\" style=\"fill:none;\"/>\n  </g>\n  <g id=\"axes_1\">\n   <g id=\"patch_2\">\n    <path d=\"M 26.925 224.64 \nL 361.725 224.64 \nL 361.725 7.2 \nL 26.925 7.2 \nz\n\" style=\"fill:#ffffff;\"/>\n   </g>\n   <g id=\"patch_3\">\n    <path clip-path=\"url(#pefa2816528)\" d=\"M 42.143182 224.64 \nL 72.579545 224.64 \nL 72.579545 155.611429 \nL 42.143182 155.611429 \nz\n\" style=\"fill:#1f77b4;\"/>\n   </g>\n   <g id=\"patch_4\">\n    <path clip-path=\"url(#pefa2816528)\" d=\"M 72.579545 224.64 \nL 103.015909 224.64 \nL 103.015909 48.233651 \nL 72.579545 48.233651 \nz\n\" style=\"fill:#1f77b4;\"/>\n   </g>\n   <g id=\"patch_5\">\n    <path clip-path=\"url(#pefa2816528)\" d=\"M 103.015909 224.64 \nL 133.452273 224.64 \nL 133.452273 117.262222 \nL 103.015909 117.262222 \nz\n\" style=\"fill:#1f77b4;\"/>\n   </g>\n   <g id=\"patch_6\">\n    <path clip-path=\"url(#pefa2816528)\" d=\"M 133.452273 224.64 \nL 163.888636 224.64 \nL 163.888636 17.554286 \nL 133.452273 17.554286 \nz\n\" style=\"fill:#1f77b4;\"/>\n   </g>\n   <g id=\"patch_7\">\n    <path clip-path=\"url(#pefa2816528)\" d=\"M 163.888636 224.64 \nL 194.325 224.64 \nL 194.325 101.92254 \nL 163.888636 101.92254 \nz\n\" style=\"fill:#1f77b4;\"/>\n   </g>\n   <g id=\"patch_8\">\n    <path clip-path=\"url(#pefa2816528)\" d=\"M 194.325 224.64 \nL 224.761364 224.64 \nL 224.761364 25.224127 \nL 194.325 25.224127 \nz\n\" style=\"fill:#1f77b4;\"/>\n   </g>\n   <g id=\"patch_9\">\n    <path clip-path=\"url(#pefa2816528)\" d=\"M 224.761364 224.64 \nL 255.197727 224.64 \nL 255.197727 86.582857 \nL 224.761364 86.582857 \nz\n\" style=\"fill:#1f77b4;\"/>\n   </g>\n   <g id=\"patch_10\">\n    <path clip-path=\"url(#pefa2816528)\" d=\"M 255.197727 224.64 \nL 285.634091 224.64 \nL 285.634091 178.620952 \nL 255.197727 178.620952 \nz\n\" style=\"fill:#1f77b4;\"/>\n   </g>\n   <g id=\"patch_11\">\n    <path clip-path=\"url(#pefa2816528)\" d=\"M 285.634091 224.64 \nL 316.070455 224.64 \nL 316.070455 186.290794 \nL 285.634091 186.290794 \nz\n\" style=\"fill:#1f77b4;\"/>\n   </g>\n   <g id=\"patch_12\">\n    <path clip-path=\"url(#pefa2816528)\" d=\"M 316.070455 224.64 \nL 346.506818 224.64 \nL 346.506818 178.620952 \nL 316.070455 178.620952 \nz\n\" style=\"fill:#1f77b4;\"/>\n   </g>\n   <g id=\"matplotlib.axis_1\">\n    <g id=\"xtick_1\">\n     <g id=\"line2d_1\">\n      <defs>\n       <path d=\"M 0 0 \nL 0 3.5 \n\" id=\"mf0beece5b1\" style=\"stroke:#000000;stroke-width:0.8;\"/>\n      </defs>\n      <g>\n       <use style=\"stroke:#000000;stroke-width:0.8;\" x=\"59.052273\" xlink:href=\"#mf0beece5b1\" y=\"224.64\"/>\n      </g>\n     </g>\n     <g id=\"text_1\">\n      <!-- 4.5 -->\n      <g transform=\"translate(51.10071 239.238437)scale(0.1 -0.1)\">\n       <defs>\n        <path d=\"M 2419 4116 \nL 825 1625 \nL 2419 1625 \nL 2419 4116 \nz\nM 2253 4666 \nL 3047 4666 \nL 3047 1625 \nL 3713 1625 \nL 3713 1100 \nL 3047 1100 \nL 3047 0 \nL 2419 0 \nL 2419 1100 \nL 313 1100 \nL 313 1709 \nL 2253 4666 \nz\n\" id=\"DejaVuSans-34\" transform=\"scale(0.015625)\"/>\n        <path d=\"M 684 794 \nL 1344 794 \nL 1344 0 \nL 684 0 \nL 684 794 \nz\n\" id=\"DejaVuSans-2e\" transform=\"scale(0.015625)\"/>\n        <path d=\"M 691 4666 \nL 3169 4666 \nL 3169 4134 \nL 1269 4134 \nL 1269 2991 \nQ 1406 3038 1543 3061 \nQ 1681 3084 1819 3084 \nQ 2600 3084 3056 2656 \nQ 3513 2228 3513 1497 \nQ 3513 744 3044 326 \nQ 2575 -91 1722 -91 \nQ 1428 -91 1123 -41 \nQ 819 9 494 109 \nL 494 744 \nQ 775 591 1075 516 \nQ 1375 441 1709 441 \nQ 2250 441 2565 725 \nQ 2881 1009 2881 1497 \nQ 2881 1984 2565 2268 \nQ 2250 2553 1709 2553 \nQ 1456 2553 1204 2497 \nQ 953 2441 691 2322 \nL 691 4666 \nz\n\" id=\"DejaVuSans-35\" transform=\"scale(0.015625)\"/>\n       </defs>\n       <use xlink:href=\"#DejaVuSans-34\"/>\n       <use x=\"63.623047\" xlink:href=\"#DejaVuSans-2e\"/>\n       <use x=\"95.410156\" xlink:href=\"#DejaVuSans-35\"/>\n      </g>\n     </g>\n    </g>\n    <g id=\"xtick_2\">\n     <g id=\"line2d_2\">\n      <g>\n       <use style=\"stroke:#000000;stroke-width:0.8;\" x=\"101.325\" xlink:href=\"#mf0beece5b1\" y=\"224.64\"/>\n      </g>\n     </g>\n     <g id=\"text_2\">\n      <!-- 5.0 -->\n      <g transform=\"translate(93.373437 239.238437)scale(0.1 -0.1)\">\n       <defs>\n        <path d=\"M 2034 4250 \nQ 1547 4250 1301 3770 \nQ 1056 3291 1056 2328 \nQ 1056 1369 1301 889 \nQ 1547 409 2034 409 \nQ 2525 409 2770 889 \nQ 3016 1369 3016 2328 \nQ 3016 3291 2770 3770 \nQ 2525 4250 2034 4250 \nz\nM 2034 4750 \nQ 2819 4750 3233 4129 \nQ 3647 3509 3647 2328 \nQ 3647 1150 3233 529 \nQ 2819 -91 2034 -91 \nQ 1250 -91 836 529 \nQ 422 1150 422 2328 \nQ 422 3509 836 4129 \nQ 1250 4750 2034 4750 \nz\n\" id=\"DejaVuSans-30\" transform=\"scale(0.015625)\"/>\n       </defs>\n       <use xlink:href=\"#DejaVuSans-35\"/>\n       <use x=\"63.623047\" xlink:href=\"#DejaVuSans-2e\"/>\n       <use x=\"95.410156\" xlink:href=\"#DejaVuSans-30\"/>\n      </g>\n     </g>\n    </g>\n    <g id=\"xtick_3\">\n     <g id=\"line2d_3\">\n      <g>\n       <use style=\"stroke:#000000;stroke-width:0.8;\" x=\"143.597727\" xlink:href=\"#mf0beece5b1\" y=\"224.64\"/>\n      </g>\n     </g>\n     <g id=\"text_3\">\n      <!-- 5.5 -->\n      <g transform=\"translate(135.646165 239.238437)scale(0.1 -0.1)\">\n       <use xlink:href=\"#DejaVuSans-35\"/>\n       <use x=\"63.623047\" xlink:href=\"#DejaVuSans-2e\"/>\n       <use x=\"95.410156\" xlink:href=\"#DejaVuSans-35\"/>\n      </g>\n     </g>\n    </g>\n    <g id=\"xtick_4\">\n     <g id=\"line2d_4\">\n      <g>\n       <use style=\"stroke:#000000;stroke-width:0.8;\" x=\"185.870455\" xlink:href=\"#mf0beece5b1\" y=\"224.64\"/>\n      </g>\n     </g>\n     <g id=\"text_4\">\n      <!-- 6.0 -->\n      <g transform=\"translate(177.918892 239.238437)scale(0.1 -0.1)\">\n       <defs>\n        <path d=\"M 2113 2584 \nQ 1688 2584 1439 2293 \nQ 1191 2003 1191 1497 \nQ 1191 994 1439 701 \nQ 1688 409 2113 409 \nQ 2538 409 2786 701 \nQ 3034 994 3034 1497 \nQ 3034 2003 2786 2293 \nQ 2538 2584 2113 2584 \nz\nM 3366 4563 \nL 3366 3988 \nQ 3128 4100 2886 4159 \nQ 2644 4219 2406 4219 \nQ 1781 4219 1451 3797 \nQ 1122 3375 1075 2522 \nQ 1259 2794 1537 2939 \nQ 1816 3084 2150 3084 \nQ 2853 3084 3261 2657 \nQ 3669 2231 3669 1497 \nQ 3669 778 3244 343 \nQ 2819 -91 2113 -91 \nQ 1303 -91 875 529 \nQ 447 1150 447 2328 \nQ 447 3434 972 4092 \nQ 1497 4750 2381 4750 \nQ 2619 4750 2861 4703 \nQ 3103 4656 3366 4563 \nz\n\" id=\"DejaVuSans-36\" transform=\"scale(0.015625)\"/>\n       </defs>\n       <use xlink:href=\"#DejaVuSans-36\"/>\n       <use x=\"63.623047\" xlink:href=\"#DejaVuSans-2e\"/>\n       <use x=\"95.410156\" xlink:href=\"#DejaVuSans-30\"/>\n      </g>\n     </g>\n    </g>\n    <g id=\"xtick_5\">\n     <g id=\"line2d_5\">\n      <g>\n       <use style=\"stroke:#000000;stroke-width:0.8;\" x=\"228.143182\" xlink:href=\"#mf0beece5b1\" y=\"224.64\"/>\n      </g>\n     </g>\n     <g id=\"text_5\">\n      <!-- 6.5 -->\n      <g transform=\"translate(220.191619 239.238437)scale(0.1 -0.1)\">\n       <use xlink:href=\"#DejaVuSans-36\"/>\n       <use x=\"63.623047\" xlink:href=\"#DejaVuSans-2e\"/>\n       <use x=\"95.410156\" xlink:href=\"#DejaVuSans-35\"/>\n      </g>\n     </g>\n    </g>\n    <g id=\"xtick_6\">\n     <g id=\"line2d_6\">\n      <g>\n       <use style=\"stroke:#000000;stroke-width:0.8;\" x=\"270.415909\" xlink:href=\"#mf0beece5b1\" y=\"224.64\"/>\n      </g>\n     </g>\n     <g id=\"text_6\">\n      <!-- 7.0 -->\n      <g transform=\"translate(262.464347 239.238437)scale(0.1 -0.1)\">\n       <defs>\n        <path d=\"M 525 4666 \nL 3525 4666 \nL 3525 4397 \nL 1831 0 \nL 1172 0 \nL 2766 4134 \nL 525 4134 \nL 525 4666 \nz\n\" id=\"DejaVuSans-37\" transform=\"scale(0.015625)\"/>\n       </defs>\n       <use xlink:href=\"#DejaVuSans-37\"/>\n       <use x=\"63.623047\" xlink:href=\"#DejaVuSans-2e\"/>\n       <use x=\"95.410156\" xlink:href=\"#DejaVuSans-30\"/>\n      </g>\n     </g>\n    </g>\n    <g id=\"xtick_7\">\n     <g id=\"line2d_7\">\n      <g>\n       <use style=\"stroke:#000000;stroke-width:0.8;\" x=\"312.688636\" xlink:href=\"#mf0beece5b1\" y=\"224.64\"/>\n      </g>\n     </g>\n     <g id=\"text_7\">\n      <!-- 7.5 -->\n      <g transform=\"translate(304.737074 239.238437)scale(0.1 -0.1)\">\n       <use xlink:href=\"#DejaVuSans-37\"/>\n       <use x=\"63.623047\" xlink:href=\"#DejaVuSans-2e\"/>\n       <use x=\"95.410156\" xlink:href=\"#DejaVuSans-35\"/>\n      </g>\n     </g>\n    </g>\n    <g id=\"xtick_8\">\n     <g id=\"line2d_8\">\n      <g>\n       <use style=\"stroke:#000000;stroke-width:0.8;\" x=\"354.961364\" xlink:href=\"#mf0beece5b1\" y=\"224.64\"/>\n      </g>\n     </g>\n     <g id=\"text_8\">\n      <!-- 8.0 -->\n      <g transform=\"translate(347.009801 239.238437)scale(0.1 -0.1)\">\n       <defs>\n        <path d=\"M 2034 2216 \nQ 1584 2216 1326 1975 \nQ 1069 1734 1069 1313 \nQ 1069 891 1326 650 \nQ 1584 409 2034 409 \nQ 2484 409 2743 651 \nQ 3003 894 3003 1313 \nQ 3003 1734 2745 1975 \nQ 2488 2216 2034 2216 \nz\nM 1403 2484 \nQ 997 2584 770 2862 \nQ 544 3141 544 3541 \nQ 544 4100 942 4425 \nQ 1341 4750 2034 4750 \nQ 2731 4750 3128 4425 \nQ 3525 4100 3525 3541 \nQ 3525 3141 3298 2862 \nQ 3072 2584 2669 2484 \nQ 3125 2378 3379 2068 \nQ 3634 1759 3634 1313 \nQ 3634 634 3220 271 \nQ 2806 -91 2034 -91 \nQ 1263 -91 848 271 \nQ 434 634 434 1313 \nQ 434 1759 690 2068 \nQ 947 2378 1403 2484 \nz\nM 1172 3481 \nQ 1172 3119 1398 2916 \nQ 1625 2713 2034 2713 \nQ 2441 2713 2670 2916 \nQ 2900 3119 2900 3481 \nQ 2900 3844 2670 4047 \nQ 2441 4250 2034 4250 \nQ 1625 4250 1398 4047 \nQ 1172 3844 1172 3481 \nz\n\" id=\"DejaVuSans-38\" transform=\"scale(0.015625)\"/>\n       </defs>\n       <use xlink:href=\"#DejaVuSans-38\"/>\n       <use x=\"63.623047\" xlink:href=\"#DejaVuSans-2e\"/>\n       <use x=\"95.410156\" xlink:href=\"#DejaVuSans-30\"/>\n      </g>\n     </g>\n    </g>\n   </g>\n   <g id=\"matplotlib.axis_2\">\n    <g id=\"ytick_1\">\n     <g id=\"line2d_9\">\n      <defs>\n       <path d=\"M 0 0 \nL -3.5 0 \n\" id=\"m176db2af3c\" style=\"stroke:#000000;stroke-width:0.8;\"/>\n      </defs>\n      <g>\n       <use style=\"stroke:#000000;stroke-width:0.8;\" x=\"26.925\" xlink:href=\"#m176db2af3c\" y=\"224.64\"/>\n      </g>\n     </g>\n     <g id=\"text_9\">\n      <!-- 0 -->\n      <g transform=\"translate(13.5625 228.439219)scale(0.1 -0.1)\">\n       <use xlink:href=\"#DejaVuSans-30\"/>\n      </g>\n     </g>\n    </g>\n    <g id=\"ytick_2\">\n     <g id=\"line2d_10\">\n      <g>\n       <use style=\"stroke:#000000;stroke-width:0.8;\" x=\"26.925\" xlink:href=\"#m176db2af3c\" y=\"186.290794\"/>\n      </g>\n     </g>\n     <g id=\"text_10\">\n      <!-- 5 -->\n      <g transform=\"translate(13.5625 190.090012)scale(0.1 -0.1)\">\n       <use xlink:href=\"#DejaVuSans-35\"/>\n      </g>\n     </g>\n    </g>\n    <g id=\"ytick_3\">\n     <g id=\"line2d_11\">\n      <g>\n       <use style=\"stroke:#000000;stroke-width:0.8;\" x=\"26.925\" xlink:href=\"#m176db2af3c\" y=\"147.941587\"/>\n      </g>\n     </g>\n     <g id=\"text_11\">\n      <!-- 10 -->\n      <g transform=\"translate(7.2 151.740806)scale(0.1 -0.1)\">\n       <defs>\n        <path d=\"M 794 531 \nL 1825 531 \nL 1825 4091 \nL 703 3866 \nL 703 4441 \nL 1819 4666 \nL 2450 4666 \nL 2450 531 \nL 3481 531 \nL 3481 0 \nL 794 0 \nL 794 531 \nz\n\" id=\"DejaVuSans-31\" transform=\"scale(0.015625)\"/>\n       </defs>\n       <use xlink:href=\"#DejaVuSans-31\"/>\n       <use x=\"63.623047\" xlink:href=\"#DejaVuSans-30\"/>\n      </g>\n     </g>\n    </g>\n    <g id=\"ytick_4\">\n     <g id=\"line2d_12\">\n      <g>\n       <use style=\"stroke:#000000;stroke-width:0.8;\" x=\"26.925\" xlink:href=\"#m176db2af3c\" y=\"109.592381\"/>\n      </g>\n     </g>\n     <g id=\"text_12\">\n      <!-- 15 -->\n      <g transform=\"translate(7.2 113.3916)scale(0.1 -0.1)\">\n       <use xlink:href=\"#DejaVuSans-31\"/>\n       <use x=\"63.623047\" xlink:href=\"#DejaVuSans-35\"/>\n      </g>\n     </g>\n    </g>\n    <g id=\"ytick_5\">\n     <g id=\"line2d_13\">\n      <g>\n       <use style=\"stroke:#000000;stroke-width:0.8;\" x=\"26.925\" xlink:href=\"#m176db2af3c\" y=\"71.243175\"/>\n      </g>\n     </g>\n     <g id=\"text_13\">\n      <!-- 20 -->\n      <g transform=\"translate(7.2 75.042393)scale(0.1 -0.1)\">\n       <defs>\n        <path d=\"M 1228 531 \nL 3431 531 \nL 3431 0 \nL 469 0 \nL 469 531 \nQ 828 903 1448 1529 \nQ 2069 2156 2228 2338 \nQ 2531 2678 2651 2914 \nQ 2772 3150 2772 3378 \nQ 2772 3750 2511 3984 \nQ 2250 4219 1831 4219 \nQ 1534 4219 1204 4116 \nQ 875 4013 500 3803 \nL 500 4441 \nQ 881 4594 1212 4672 \nQ 1544 4750 1819 4750 \nQ 2544 4750 2975 4387 \nQ 3406 4025 3406 3419 \nQ 3406 3131 3298 2873 \nQ 3191 2616 2906 2266 \nQ 2828 2175 2409 1742 \nQ 1991 1309 1228 531 \nz\n\" id=\"DejaVuSans-32\" transform=\"scale(0.015625)\"/>\n       </defs>\n       <use xlink:href=\"#DejaVuSans-32\"/>\n       <use x=\"63.623047\" xlink:href=\"#DejaVuSans-30\"/>\n      </g>\n     </g>\n    </g>\n    <g id=\"ytick_6\">\n     <g id=\"line2d_14\">\n      <g>\n       <use style=\"stroke:#000000;stroke-width:0.8;\" x=\"26.925\" xlink:href=\"#m176db2af3c\" y=\"32.893968\"/>\n      </g>\n     </g>\n     <g id=\"text_14\">\n      <!-- 25 -->\n      <g transform=\"translate(7.2 36.693187)scale(0.1 -0.1)\">\n       <use xlink:href=\"#DejaVuSans-32\"/>\n       <use x=\"63.623047\" xlink:href=\"#DejaVuSans-35\"/>\n      </g>\n     </g>\n    </g>\n   </g>\n   <g id=\"patch_13\">\n    <path d=\"M 26.925 224.64 \nL 26.925 7.2 \n\" style=\"fill:none;stroke:#000000;stroke-linecap:square;stroke-linejoin:miter;stroke-width:0.8;\"/>\n   </g>\n   <g id=\"patch_14\">\n    <path d=\"M 361.725 224.64 \nL 361.725 7.2 \n\" style=\"fill:none;stroke:#000000;stroke-linecap:square;stroke-linejoin:miter;stroke-width:0.8;\"/>\n   </g>\n   <g id=\"patch_15\">\n    <path d=\"M 26.925 224.64 \nL 361.725 224.64 \n\" style=\"fill:none;stroke:#000000;stroke-linecap:square;stroke-linejoin:miter;stroke-width:0.8;\"/>\n   </g>\n   <g id=\"patch_16\">\n    <path d=\"M 26.925 7.2 \nL 361.725 7.2 \n\" style=\"fill:none;stroke:#000000;stroke-linecap:square;stroke-linejoin:miter;stroke-width:0.8;\"/>\n   </g>\n  </g>\n </g>\n <defs>\n  <clipPath id=\"pefa2816528\">\n   <rect height=\"217.44\" width=\"334.8\" x=\"26.925\" y=\"7.2\"/>\n  </clipPath>\n </defs>\n</svg>\n",
      "image/png": "[encoded data removed]"
     },
     "metadata": {
      "needs_background": "light"
     }
    }
   ],
   "source": [
    "# Crie um Histograma de sepal length\n",
    "plt.hist(x='sepal length (cm)', data=df)"
   ]
  },
  {
   "cell_type": "code",
   "execution_count": 55,
   "metadata": {},
   "outputs": [
    {
     "output_type": "execute_result",
     "data": {
      "text/plain": [
       "<matplotlib.collections.PathCollection at 0x7f5fa44ef2b0>"
      ]
     },
     "metadata": {},
     "execution_count": 55
    },
    {
     "output_type": "display_data",
     "data": {
      "text/plain": "<Figure size 432x288 with 1 Axes>",
      "image/svg+xml": "<?xml version=\"1.0\" encoding=\"utf-8\" standalone=\"no\"?>\n<!DOCTYPE svg PUBLIC \"-//W3C//DTD SVG 1.1//EN\"\n  \"http://www.w3.org/Graphics/SVG/1.1/DTD/svg11.dtd\">\n<svg height=\"248.518125pt\" version=\"1.1\" viewBox=\"0 0 372.103125 248.518125\" width=\"372.103125pt\" xmlns=\"http://www.w3.org/2000/svg\" xmlns:xlink=\"http://www.w3.org/1999/xlink\">\n <metadata>\n  <rdf:RDF xmlns:cc=\"http://creativecommons.org/ns#\" xmlns:dc=\"http://purl.org/dc/elements/1.1/\" xmlns:rdf=\"http://www.w3.org/1999/02/22-rdf-syntax-ns#\">\n   <cc:Work>\n    <dc:type rdf:resource=\"http://purl.org/dc/dcmitype/StillImage\"/>\n    <dc:date>2021-07-04T11:43:56.875581</dc:date>\n    <dc:format>image/svg+xml</dc:format>\n    <dc:creator>\n     <cc:Agent>\n      <dc:title>Matplotlib v3.4.2, https://matplotlib.org/</dc:title>\n     </cc:Agent>\n    </dc:creator>\n   </cc:Work>\n  </rdf:RDF>\n </metadata>\n <defs>\n  <style type=\"text/css\">*{stroke-linecap:butt;stroke-linejoin:round;}</style>\n </defs>\n <g id=\"figure_1\">\n  <g id=\"patch_1\">\n   <path d=\"M 0 248.518125 \nL 372.103125 248.518125 \nL 372.103125 0 \nL 0 0 \nz\n\" style=\"fill:none;\"/>\n  </g>\n  <g id=\"axes_1\">\n   <g id=\"patch_2\">\n    <path d=\"M 30.103125 224.64 \nL 364.903125 224.64 \nL 364.903125 7.2 \nL 30.103125 7.2 \nz\n\" style=\"fill:#ffffff;\"/>\n   </g>\n   <g id=\"PathCollection_1\">\n    <defs>\n     <path d=\"M 0 3 \nC 0.795609 3 1.55874 2.683901 2.12132 2.12132 \nC 2.683901 1.55874 3 0.795609 3 -0 \nC 3 -0.795609 2.683901 -1.55874 2.12132 -2.12132 \nC 1.55874 -2.683901 0.795609 -3 0 -3 \nC -0.795609 -3 -1.55874 -2.683901 -2.12132 -2.12132 \nC -2.683901 -1.55874 -3 -0.795609 -3 0 \nC -3 0.795609 -2.683901 1.55874 -2.12132 2.12132 \nC -1.55874 2.683901 -0.795609 3 0 3 \nz\n\" id=\"C0_0_c602145761\"/>\n    </defs>\n    <g clip-path=\"url(#p34a4929a73)\">\n     <use style=\"fill:#440154;stroke:#440154;\" x=\"45.321307\" xlink:href=\"#C0_0_c602145761\" y=\"170.829091\"/>\n    </g>\n    <g clip-path=\"url(#p34a4929a73)\">\n     <use style=\"fill:#440154;stroke:#440154;\" x=\"47.364016\" xlink:href=\"#C0_0_c602145761\" y=\"181.810909\"/>\n    </g>\n    <g clip-path=\"url(#p34a4929a73)\">\n     <use style=\"fill:#440154;stroke:#440154;\" x=\"49.406725\" xlink:href=\"#C0_0_c602145761\" y=\"192.792727\"/>\n    </g>\n    <g clip-path=\"url(#p34a4929a73)\">\n     <use style=\"fill:#440154;stroke:#440154;\" x=\"51.449434\" xlink:href=\"#C0_0_c602145761\" y=\"198.283636\"/>\n    </g>\n    <g clip-path=\"url(#p34a4929a73)\">\n     <use style=\"fill:#440154;stroke:#440154;\" x=\"53.492143\" xlink:href=\"#C0_0_c602145761\" y=\"176.32\"/>\n    </g>\n    <g clip-path=\"url(#p34a4929a73)\">\n     <use style=\"fill:#440154;stroke:#440154;\" x=\"55.534852\" xlink:href=\"#C0_0_c602145761\" y=\"154.356364\"/>\n    </g>\n    <g clip-path=\"url(#p34a4929a73)\">\n     <use style=\"fill:#440154;stroke:#440154;\" x=\"57.577561\" xlink:href=\"#C0_0_c602145761\" y=\"198.283636\"/>\n    </g>\n    <g clip-path=\"url(#p34a4929a73)\">\n     <use style=\"fill:#440154;stroke:#440154;\" x=\"59.62027\" xlink:href=\"#C0_0_c602145761\" y=\"176.32\"/>\n    </g>\n    <g clip-path=\"url(#p34a4929a73)\">\n     <use style=\"fill:#440154;stroke:#440154;\" x=\"61.662979\" xlink:href=\"#C0_0_c602145761\" y=\"209.265455\"/>\n    </g>\n    <g clip-path=\"url(#p34a4929a73)\">\n     <use style=\"fill:#440154;stroke:#440154;\" x=\"63.705688\" xlink:href=\"#C0_0_c602145761\" y=\"181.810909\"/>\n    </g>\n    <g clip-path=\"url(#p34a4929a73)\">\n     <use style=\"fill:#440154;stroke:#440154;\" x=\"65.748397\" xlink:href=\"#C0_0_c602145761\" y=\"154.356364\"/>\n    </g>\n    <g clip-path=\"url(#p34a4929a73)\">\n     <use style=\"fill:#440154;stroke:#440154;\" x=\"67.791105\" xlink:href=\"#C0_0_c602145761\" y=\"187.301818\"/>\n    </g>\n    <g clip-path=\"url(#p34a4929a73)\">\n     <use style=\"fill:#440154;stroke:#440154;\" x=\"69.833814\" xlink:href=\"#C0_0_c602145761\" y=\"187.301818\"/>\n    </g>\n    <g clip-path=\"url(#p34a4929a73)\">\n     <use style=\"fill:#440154;stroke:#440154;\" x=\"71.876523\" xlink:href=\"#C0_0_c602145761\" y=\"214.756364\"/>\n    </g>\n    <g clip-path=\"url(#p34a4929a73)\">\n     <use style=\"fill:#440154;stroke:#440154;\" x=\"73.919232\" xlink:href=\"#C0_0_c602145761\" y=\"132.392727\"/>\n    </g>\n    <g clip-path=\"url(#p34a4929a73)\">\n     <use style=\"fill:#440154;stroke:#440154;\" x=\"75.961941\" xlink:href=\"#C0_0_c602145761\" y=\"137.883636\"/>\n    </g>\n    <g clip-path=\"url(#p34a4929a73)\">\n     <use style=\"fill:#440154;stroke:#440154;\" x=\"78.00465\" xlink:href=\"#C0_0_c602145761\" y=\"154.356364\"/>\n    </g>\n    <g clip-path=\"url(#p34a4929a73)\">\n     <use style=\"fill:#440154;stroke:#440154;\" x=\"80.047359\" xlink:href=\"#C0_0_c602145761\" y=\"170.829091\"/>\n    </g>\n    <g clip-path=\"url(#p34a4929a73)\">\n     <use style=\"fill:#440154;stroke:#440154;\" x=\"82.090068\" xlink:href=\"#C0_0_c602145761\" y=\"137.883636\"/>\n    </g>\n    <g clip-path=\"url(#p34a4929a73)\">\n     <use style=\"fill:#440154;stroke:#440154;\" x=\"84.132777\" xlink:href=\"#C0_0_c602145761\" y=\"170.829091\"/>\n    </g>\n    <g clip-path=\"url(#p34a4929a73)\">\n     <use style=\"fill:#440154;stroke:#440154;\" x=\"86.175486\" xlink:href=\"#C0_0_c602145761\" y=\"154.356364\"/>\n    </g>\n    <g clip-path=\"url(#p34a4929a73)\">\n     <use style=\"fill:#440154;stroke:#440154;\" x=\"88.218195\" xlink:href=\"#C0_0_c602145761\" y=\"170.829091\"/>\n    </g>\n    <g clip-path=\"url(#p34a4929a73)\">\n     <use style=\"fill:#440154;stroke:#440154;\" x=\"90.260904\" xlink:href=\"#C0_0_c602145761\" y=\"198.283636\"/>\n    </g>\n    <g clip-path=\"url(#p34a4929a73)\">\n     <use style=\"fill:#440154;stroke:#440154;\" x=\"92.303613\" xlink:href=\"#C0_0_c602145761\" y=\"170.829091\"/>\n    </g>\n    <g clip-path=\"url(#p34a4929a73)\">\n     <use style=\"fill:#440154;stroke:#440154;\" x=\"94.346322\" xlink:href=\"#C0_0_c602145761\" y=\"187.301818\"/>\n    </g>\n    <g clip-path=\"url(#p34a4929a73)\">\n     <use style=\"fill:#440154;stroke:#440154;\" x=\"96.389031\" xlink:href=\"#C0_0_c602145761\" y=\"176.32\"/>\n    </g>\n    <g clip-path=\"url(#p34a4929a73)\">\n     <use style=\"fill:#440154;stroke:#440154;\" x=\"98.43174\" xlink:href=\"#C0_0_c602145761\" y=\"176.32\"/>\n    </g>\n    <g clip-path=\"url(#p34a4929a73)\">\n     <use style=\"fill:#440154;stroke:#440154;\" x=\"100.474449\" xlink:href=\"#C0_0_c602145761\" y=\"165.338182\"/>\n    </g>\n    <g clip-path=\"url(#p34a4929a73)\">\n     <use style=\"fill:#440154;stroke:#440154;\" x=\"102.517158\" xlink:href=\"#C0_0_c602145761\" y=\"165.338182\"/>\n    </g>\n    <g clip-path=\"url(#p34a4929a73)\">\n     <use style=\"fill:#440154;stroke:#440154;\" x=\"104.559867\" xlink:href=\"#C0_0_c602145761\" y=\"192.792727\"/>\n    </g>\n    <g clip-path=\"url(#p34a4929a73)\">\n     <use style=\"fill:#440154;stroke:#440154;\" x=\"106.602576\" xlink:href=\"#C0_0_c602145761\" y=\"187.301818\"/>\n    </g>\n    <g clip-path=\"url(#p34a4929a73)\">\n     <use style=\"fill:#440154;stroke:#440154;\" x=\"108.645285\" xlink:href=\"#C0_0_c602145761\" y=\"154.356364\"/>\n    </g>\n    <g clip-path=\"url(#p34a4929a73)\">\n     <use style=\"fill:#440154;stroke:#440154;\" x=\"110.687994\" xlink:href=\"#C0_0_c602145761\" y=\"165.338182\"/>\n    </g>\n    <g clip-path=\"url(#p34a4929a73)\">\n     <use style=\"fill:#440154;stroke:#440154;\" x=\"112.730703\" xlink:href=\"#C0_0_c602145761\" y=\"148.865455\"/>\n    </g>\n    <g clip-path=\"url(#p34a4929a73)\">\n     <use style=\"fill:#440154;stroke:#440154;\" x=\"114.773412\" xlink:href=\"#C0_0_c602145761\" y=\"181.810909\"/>\n    </g>\n    <g clip-path=\"url(#p34a4929a73)\">\n     <use style=\"fill:#440154;stroke:#440154;\" x=\"116.816121\" xlink:href=\"#C0_0_c602145761\" y=\"176.32\"/>\n    </g>\n    <g clip-path=\"url(#p34a4929a73)\">\n     <use style=\"fill:#440154;stroke:#440154;\" x=\"118.85883\" xlink:href=\"#C0_0_c602145761\" y=\"148.865455\"/>\n    </g>\n    <g clip-path=\"url(#p34a4929a73)\">\n     <use style=\"fill:#440154;stroke:#440154;\" x=\"120.901539\" xlink:href=\"#C0_0_c602145761\" y=\"181.810909\"/>\n    </g>\n    <g clip-path=\"url(#p34a4929a73)\">\n     <use style=\"fill:#440154;stroke:#440154;\" x=\"122.944248\" xlink:href=\"#C0_0_c602145761\" y=\"209.265455\"/>\n    </g>\n    <g clip-path=\"url(#p34a4929a73)\">\n     <use style=\"fill:#440154;stroke:#440154;\" x=\"124.986957\" xlink:href=\"#C0_0_c602145761\" y=\"170.829091\"/>\n    </g>\n    <g clip-path=\"url(#p34a4929a73)\">\n     <use style=\"fill:#440154;stroke:#440154;\" x=\"127.029666\" xlink:href=\"#C0_0_c602145761\" y=\"176.32\"/>\n    </g>\n    <g clip-path=\"url(#p34a4929a73)\">\n     <use style=\"fill:#440154;stroke:#440154;\" x=\"129.072375\" xlink:href=\"#C0_0_c602145761\" y=\"203.774545\"/>\n    </g>\n    <g clip-path=\"url(#p34a4929a73)\">\n     <use style=\"fill:#440154;stroke:#440154;\" x=\"131.115084\" xlink:href=\"#C0_0_c602145761\" y=\"209.265455\"/>\n    </g>\n    <g clip-path=\"url(#p34a4929a73)\">\n     <use style=\"fill:#440154;stroke:#440154;\" x=\"133.157792\" xlink:href=\"#C0_0_c602145761\" y=\"176.32\"/>\n    </g>\n    <g clip-path=\"url(#p34a4929a73)\">\n     <use style=\"fill:#440154;stroke:#440154;\" x=\"135.200501\" xlink:href=\"#C0_0_c602145761\" y=\"170.829091\"/>\n    </g>\n    <g clip-path=\"url(#p34a4929a73)\">\n     <use style=\"fill:#440154;stroke:#440154;\" x=\"137.24321\" xlink:href=\"#C0_0_c602145761\" y=\"187.301818\"/>\n    </g>\n    <g clip-path=\"url(#p34a4929a73)\">\n     <use style=\"fill:#440154;stroke:#440154;\" x=\"139.285919\" xlink:href=\"#C0_0_c602145761\" y=\"170.829091\"/>\n    </g>\n    <g clip-path=\"url(#p34a4929a73)\">\n     <use style=\"fill:#440154;stroke:#440154;\" x=\"141.328628\" xlink:href=\"#C0_0_c602145761\" y=\"198.283636\"/>\n    </g>\n    <g clip-path=\"url(#p34a4929a73)\">\n     <use style=\"fill:#440154;stroke:#440154;\" x=\"143.371337\" xlink:href=\"#C0_0_c602145761\" y=\"159.847273\"/>\n    </g>\n    <g clip-path=\"url(#p34a4929a73)\">\n     <use style=\"fill:#440154;stroke:#440154;\" x=\"145.414046\" xlink:href=\"#C0_0_c602145761\" y=\"176.32\"/>\n    </g>\n    <g clip-path=\"url(#p34a4929a73)\">\n     <use style=\"fill:#21918c;stroke:#21918c;\" x=\"147.456755\" xlink:href=\"#C0_0_c602145761\" y=\"66.501818\"/>\n    </g>\n    <g clip-path=\"url(#p34a4929a73)\">\n     <use style=\"fill:#21918c;stroke:#21918c;\" x=\"149.499464\" xlink:href=\"#C0_0_c602145761\" y=\"99.447273\"/>\n    </g>\n    <g clip-path=\"url(#p34a4929a73)\">\n     <use style=\"fill:#21918c;stroke:#21918c;\" x=\"151.542173\" xlink:href=\"#C0_0_c602145761\" y=\"71.992727\"/>\n    </g>\n    <g clip-path=\"url(#p34a4929a73)\">\n     <use style=\"fill:#21918c;stroke:#21918c;\" x=\"153.584882\" xlink:href=\"#C0_0_c602145761\" y=\"148.865455\"/>\n    </g>\n    <g clip-path=\"url(#p34a4929a73)\">\n     <use style=\"fill:#21918c;stroke:#21918c;\" x=\"155.627591\" xlink:href=\"#C0_0_c602145761\" y=\"93.956364\"/>\n    </g>\n    <g clip-path=\"url(#p34a4929a73)\">\n     <use style=\"fill:#21918c;stroke:#21918c;\" x=\"157.6703\" xlink:href=\"#C0_0_c602145761\" y=\"137.883636\"/>\n    </g>\n    <g clip-path=\"url(#p34a4929a73)\">\n     <use style=\"fill:#21918c;stroke:#21918c;\" x=\"159.713009\" xlink:href=\"#C0_0_c602145761\" y=\"104.938182\"/>\n    </g>\n    <g clip-path=\"url(#p34a4929a73)\">\n     <use style=\"fill:#21918c;stroke:#21918c;\" x=\"161.755718\" xlink:href=\"#C0_0_c602145761\" y=\"181.810909\"/>\n    </g>\n    <g clip-path=\"url(#p34a4929a73)\">\n     <use style=\"fill:#21918c;stroke:#21918c;\" x=\"163.798427\" xlink:href=\"#C0_0_c602145761\" y=\"88.465455\"/>\n    </g>\n    <g clip-path=\"url(#p34a4929a73)\">\n     <use style=\"fill:#21918c;stroke:#21918c;\" x=\"165.841136\" xlink:href=\"#C0_0_c602145761\" y=\"165.338182\"/>\n    </g>\n    <g clip-path=\"url(#p34a4929a73)\">\n     <use style=\"fill:#21918c;stroke:#21918c;\" x=\"167.883845\" xlink:href=\"#C0_0_c602145761\" y=\"176.32\"/>\n    </g>\n    <g clip-path=\"url(#p34a4929a73)\">\n     <use style=\"fill:#21918c;stroke:#21918c;\" x=\"169.926554\" xlink:href=\"#C0_0_c602145761\" y=\"126.901818\"/>\n    </g>\n    <g clip-path=\"url(#p34a4929a73)\">\n     <use style=\"fill:#21918c;stroke:#21918c;\" x=\"171.969263\" xlink:href=\"#C0_0_c602145761\" y=\"121.410909\"/>\n    </g>\n    <g clip-path=\"url(#p34a4929a73)\">\n     <use style=\"fill:#21918c;stroke:#21918c;\" x=\"174.011972\" xlink:href=\"#C0_0_c602145761\" y=\"115.92\"/>\n    </g>\n    <g clip-path=\"url(#p34a4929a73)\">\n     <use style=\"fill:#21918c;stroke:#21918c;\" x=\"176.054681\" xlink:href=\"#C0_0_c602145761\" y=\"143.374545\"/>\n    </g>\n    <g clip-path=\"url(#p34a4929a73)\">\n     <use style=\"fill:#21918c;stroke:#21918c;\" x=\"178.09739\" xlink:href=\"#C0_0_c602145761\" y=\"82.974545\"/>\n    </g>\n    <g clip-path=\"url(#p34a4929a73)\">\n     <use style=\"fill:#21918c;stroke:#21918c;\" x=\"180.140099\" xlink:href=\"#C0_0_c602145761\" y=\"143.374545\"/>\n    </g>\n    <g clip-path=\"url(#p34a4929a73)\">\n     <use style=\"fill:#21918c;stroke:#21918c;\" x=\"182.182808\" xlink:href=\"#C0_0_c602145761\" y=\"132.392727\"/>\n    </g>\n    <g clip-path=\"url(#p34a4929a73)\">\n     <use style=\"fill:#21918c;stroke:#21918c;\" x=\"184.225517\" xlink:href=\"#C0_0_c602145761\" y=\"110.429091\"/>\n    </g>\n    <g clip-path=\"url(#p34a4929a73)\">\n     <use style=\"fill:#21918c;stroke:#21918c;\" x=\"186.268226\" xlink:href=\"#C0_0_c602145761\" y=\"143.374545\"/>\n    </g>\n    <g clip-path=\"url(#p34a4929a73)\">\n     <use style=\"fill:#21918c;stroke:#21918c;\" x=\"188.310935\" xlink:href=\"#C0_0_c602145761\" y=\"126.901818\"/>\n    </g>\n    <g clip-path=\"url(#p34a4929a73)\">\n     <use style=\"fill:#21918c;stroke:#21918c;\" x=\"190.353644\" xlink:href=\"#C0_0_c602145761\" y=\"115.92\"/>\n    </g>\n    <g clip-path=\"url(#p34a4929a73)\">\n     <use style=\"fill:#21918c;stroke:#21918c;\" x=\"192.396353\" xlink:href=\"#C0_0_c602145761\" y=\"104.938182\"/>\n    </g>\n    <g clip-path=\"url(#p34a4929a73)\">\n     <use style=\"fill:#21918c;stroke:#21918c;\" x=\"194.439062\" xlink:href=\"#C0_0_c602145761\" y=\"115.92\"/>\n    </g>\n    <g clip-path=\"url(#p34a4929a73)\">\n     <use style=\"fill:#21918c;stroke:#21918c;\" x=\"196.481771\" xlink:href=\"#C0_0_c602145761\" y=\"99.447273\"/>\n    </g>\n    <g clip-path=\"url(#p34a4929a73)\">\n     <use style=\"fill:#21918c;stroke:#21918c;\" x=\"198.524479\" xlink:href=\"#C0_0_c602145761\" y=\"88.465455\"/>\n    </g>\n    <g clip-path=\"url(#p34a4929a73)\">\n     <use style=\"fill:#21918c;stroke:#21918c;\" x=\"200.567188\" xlink:href=\"#C0_0_c602145761\" y=\"77.483636\"/>\n    </g>\n    <g clip-path=\"url(#p34a4929a73)\">\n     <use style=\"fill:#21918c;stroke:#21918c;\" x=\"202.609897\" xlink:href=\"#C0_0_c602145761\" y=\"82.974545\"/>\n    </g>\n    <g clip-path=\"url(#p34a4929a73)\">\n     <use style=\"fill:#21918c;stroke:#21918c;\" x=\"204.652606\" xlink:href=\"#C0_0_c602145761\" y=\"121.410909\"/>\n    </g>\n    <g clip-path=\"url(#p34a4929a73)\">\n     <use style=\"fill:#21918c;stroke:#21918c;\" x=\"206.695315\" xlink:href=\"#C0_0_c602145761\" y=\"137.883636\"/>\n    </g>\n    <g clip-path=\"url(#p34a4929a73)\">\n     <use style=\"fill:#21918c;stroke:#21918c;\" x=\"208.738024\" xlink:href=\"#C0_0_c602145761\" y=\"148.865455\"/>\n    </g>\n    <g clip-path=\"url(#p34a4929a73)\">\n     <use style=\"fill:#21918c;stroke:#21918c;\" x=\"210.780733\" xlink:href=\"#C0_0_c602145761\" y=\"148.865455\"/>\n    </g>\n    <g clip-path=\"url(#p34a4929a73)\">\n     <use style=\"fill:#21918c;stroke:#21918c;\" x=\"212.823442\" xlink:href=\"#C0_0_c602145761\" y=\"132.392727\"/>\n    </g>\n    <g clip-path=\"url(#p34a4929a73)\">\n     <use style=\"fill:#21918c;stroke:#21918c;\" x=\"214.866151\" xlink:href=\"#C0_0_c602145761\" y=\"121.410909\"/>\n    </g>\n    <g clip-path=\"url(#p34a4929a73)\">\n     <use style=\"fill:#21918c;stroke:#21918c;\" x=\"216.90886\" xlink:href=\"#C0_0_c602145761\" y=\"154.356364\"/>\n    </g>\n    <g clip-path=\"url(#p34a4929a73)\">\n     <use style=\"fill:#21918c;stroke:#21918c;\" x=\"218.951569\" xlink:href=\"#C0_0_c602145761\" y=\"121.410909\"/>\n    </g>\n    <g clip-path=\"url(#p34a4929a73)\">\n     <use style=\"fill:#21918c;stroke:#21918c;\" x=\"220.994278\" xlink:href=\"#C0_0_c602145761\" y=\"82.974545\"/>\n    </g>\n    <g clip-path=\"url(#p34a4929a73)\">\n     <use style=\"fill:#21918c;stroke:#21918c;\" x=\"223.036987\" xlink:href=\"#C0_0_c602145761\" y=\"104.938182\"/>\n    </g>\n    <g clip-path=\"url(#p34a4929a73)\">\n     <use style=\"fill:#21918c;stroke:#21918c;\" x=\"225.079696\" xlink:href=\"#C0_0_c602145761\" y=\"143.374545\"/>\n    </g>\n    <g clip-path=\"url(#p34a4929a73)\">\n     <use style=\"fill:#21918c;stroke:#21918c;\" x=\"227.122405\" xlink:href=\"#C0_0_c602145761\" y=\"148.865455\"/>\n    </g>\n    <g clip-path=\"url(#p34a4929a73)\">\n     <use style=\"fill:#21918c;stroke:#21918c;\" x=\"229.165114\" xlink:href=\"#C0_0_c602145761\" y=\"148.865455\"/>\n    </g>\n    <g clip-path=\"url(#p34a4929a73)\">\n     <use style=\"fill:#21918c;stroke:#21918c;\" x=\"231.207823\" xlink:href=\"#C0_0_c602145761\" y=\"115.92\"/>\n    </g>\n    <g clip-path=\"url(#p34a4929a73)\">\n     <use style=\"fill:#21918c;stroke:#21918c;\" x=\"233.250532\" xlink:href=\"#C0_0_c602145761\" y=\"132.392727\"/>\n    </g>\n    <g clip-path=\"url(#p34a4929a73)\">\n     <use style=\"fill:#21918c;stroke:#21918c;\" x=\"235.293241\" xlink:href=\"#C0_0_c602145761\" y=\"176.32\"/>\n    </g>\n    <g clip-path=\"url(#p34a4929a73)\">\n     <use style=\"fill:#21918c;stroke:#21918c;\" x=\"237.33595\" xlink:href=\"#C0_0_c602145761\" y=\"143.374545\"/>\n    </g>\n    <g clip-path=\"url(#p34a4929a73)\">\n     <use style=\"fill:#21918c;stroke:#21918c;\" x=\"239.378659\" xlink:href=\"#C0_0_c602145761\" y=\"137.883636\"/>\n    </g>\n    <g clip-path=\"url(#p34a4929a73)\">\n     <use style=\"fill:#21918c;stroke:#21918c;\" x=\"241.421368\" xlink:href=\"#C0_0_c602145761\" y=\"137.883636\"/>\n    </g>\n    <g clip-path=\"url(#p34a4929a73)\">\n     <use style=\"fill:#21918c;stroke:#21918c;\" x=\"243.464077\" xlink:href=\"#C0_0_c602145761\" y=\"110.429091\"/>\n    </g>\n    <g clip-path=\"url(#p34a4929a73)\">\n     <use style=\"fill:#21918c;stroke:#21918c;\" x=\"245.506786\" xlink:href=\"#C0_0_c602145761\" y=\"170.829091\"/>\n    </g>\n    <g clip-path=\"url(#p34a4929a73)\">\n     <use style=\"fill:#21918c;stroke:#21918c;\" x=\"247.549495\" xlink:href=\"#C0_0_c602145761\" y=\"137.883636\"/>\n    </g>\n    <g clip-path=\"url(#p34a4929a73)\">\n     <use style=\"fill:#fde725;stroke:#fde725;\" x=\"249.592204\" xlink:href=\"#C0_0_c602145761\" y=\"104.938182\"/>\n    </g>\n    <g clip-path=\"url(#p34a4929a73)\">\n     <use style=\"fill:#fde725;stroke:#fde725;\" x=\"251.634913\" xlink:href=\"#C0_0_c602145761\" y=\"132.392727\"/>\n    </g>\n    <g clip-path=\"url(#p34a4929a73)\">\n     <use style=\"fill:#fde725;stroke:#fde725;\" x=\"253.677622\" xlink:href=\"#C0_0_c602145761\" y=\"61.010909\"/>\n    </g>\n    <g clip-path=\"url(#p34a4929a73)\">\n     <use style=\"fill:#fde725;stroke:#fde725;\" x=\"255.720331\" xlink:href=\"#C0_0_c602145761\" y=\"104.938182\"/>\n    </g>\n    <g clip-path=\"url(#p34a4929a73)\">\n     <use style=\"fill:#fde725;stroke:#fde725;\" x=\"257.76304\" xlink:href=\"#C0_0_c602145761\" y=\"93.956364\"/>\n    </g>\n    <g clip-path=\"url(#p34a4929a73)\">\n     <use style=\"fill:#fde725;stroke:#fde725;\" x=\"259.805749\" xlink:href=\"#C0_0_c602145761\" y=\"33.556364\"/>\n    </g>\n    <g clip-path=\"url(#p34a4929a73)\">\n     <use style=\"fill:#fde725;stroke:#fde725;\" x=\"261.848458\" xlink:href=\"#C0_0_c602145761\" y=\"181.810909\"/>\n    </g>\n    <g clip-path=\"url(#p34a4929a73)\">\n     <use style=\"fill:#fde725;stroke:#fde725;\" x=\"263.891166\" xlink:href=\"#C0_0_c602145761\" y=\"50.029091\"/>\n    </g>\n    <g clip-path=\"url(#p34a4929a73)\">\n     <use style=\"fill:#fde725;stroke:#fde725;\" x=\"265.933875\" xlink:href=\"#C0_0_c602145761\" y=\"82.974545\"/>\n    </g>\n    <g clip-path=\"url(#p34a4929a73)\">\n     <use style=\"fill:#fde725;stroke:#fde725;\" x=\"267.976584\" xlink:href=\"#C0_0_c602145761\" y=\"55.52\"/>\n    </g>\n    <g clip-path=\"url(#p34a4929a73)\">\n     <use style=\"fill:#fde725;stroke:#fde725;\" x=\"270.019293\" xlink:href=\"#C0_0_c602145761\" y=\"93.956364\"/>\n    </g>\n    <g clip-path=\"url(#p34a4929a73)\">\n     <use style=\"fill:#fde725;stroke:#fde725;\" x=\"272.062002\" xlink:href=\"#C0_0_c602145761\" y=\"99.447273\"/>\n    </g>\n    <g clip-path=\"url(#p34a4929a73)\">\n     <use style=\"fill:#fde725;stroke:#fde725;\" x=\"274.104711\" xlink:href=\"#C0_0_c602145761\" y=\"77.483636\"/>\n    </g>\n    <g clip-path=\"url(#p34a4929a73)\">\n     <use style=\"fill:#fde725;stroke:#fde725;\" x=\"276.14742\" xlink:href=\"#C0_0_c602145761\" y=\"137.883636\"/>\n    </g>\n    <g clip-path=\"url(#p34a4929a73)\">\n     <use style=\"fill:#fde725;stroke:#fde725;\" x=\"278.190129\" xlink:href=\"#C0_0_c602145761\" y=\"132.392727\"/>\n    </g>\n    <g clip-path=\"url(#p34a4929a73)\">\n     <use style=\"fill:#fde725;stroke:#fde725;\" x=\"280.232838\" xlink:href=\"#C0_0_c602145761\" y=\"99.447273\"/>\n    </g>\n    <g clip-path=\"url(#p34a4929a73)\">\n     <use style=\"fill:#fde725;stroke:#fde725;\" x=\"282.275547\" xlink:href=\"#C0_0_c602145761\" y=\"93.956364\"/>\n    </g>\n    <g clip-path=\"url(#p34a4929a73)\">\n     <use style=\"fill:#fde725;stroke:#fde725;\" x=\"284.318256\" xlink:href=\"#C0_0_c602145761\" y=\"28.065455\"/>\n    </g>\n    <g clip-path=\"url(#p34a4929a73)\">\n     <use style=\"fill:#fde725;stroke:#fde725;\" x=\"286.360965\" xlink:href=\"#C0_0_c602145761\" y=\"28.065455\"/>\n    </g>\n    <g clip-path=\"url(#p34a4929a73)\">\n     <use style=\"fill:#fde725;stroke:#fde725;\" x=\"288.403674\" xlink:href=\"#C0_0_c602145761\" y=\"121.410909\"/>\n    </g>\n    <g clip-path=\"url(#p34a4929a73)\">\n     <use style=\"fill:#fde725;stroke:#fde725;\" x=\"290.446383\" xlink:href=\"#C0_0_c602145761\" y=\"71.992727\"/>\n    </g>\n    <g clip-path=\"url(#p34a4929a73)\">\n     <use style=\"fill:#fde725;stroke:#fde725;\" x=\"292.489092\" xlink:href=\"#C0_0_c602145761\" y=\"143.374545\"/>\n    </g>\n    <g clip-path=\"url(#p34a4929a73)\">\n     <use style=\"fill:#fde725;stroke:#fde725;\" x=\"294.531801\" xlink:href=\"#C0_0_c602145761\" y=\"28.065455\"/>\n    </g>\n    <g clip-path=\"url(#p34a4929a73)\">\n     <use style=\"fill:#fde725;stroke:#fde725;\" x=\"296.57451\" xlink:href=\"#C0_0_c602145761\" y=\"104.938182\"/>\n    </g>\n    <g clip-path=\"url(#p34a4929a73)\">\n     <use style=\"fill:#fde725;stroke:#fde725;\" x=\"298.617219\" xlink:href=\"#C0_0_c602145761\" y=\"82.974545\"/>\n    </g>\n    <g clip-path=\"url(#p34a4929a73)\">\n     <use style=\"fill:#fde725;stroke:#fde725;\" x=\"300.659928\" xlink:href=\"#C0_0_c602145761\" y=\"55.52\"/>\n    </g>\n    <g clip-path=\"url(#p34a4929a73)\">\n     <use style=\"fill:#fde725;stroke:#fde725;\" x=\"302.702637\" xlink:href=\"#C0_0_c602145761\" y=\"110.429091\"/>\n    </g>\n    <g clip-path=\"url(#p34a4929a73)\">\n     <use style=\"fill:#fde725;stroke:#fde725;\" x=\"304.745346\" xlink:href=\"#C0_0_c602145761\" y=\"115.92\"/>\n    </g>\n    <g clip-path=\"url(#p34a4929a73)\">\n     <use style=\"fill:#fde725;stroke:#fde725;\" x=\"306.788055\" xlink:href=\"#C0_0_c602145761\" y=\"99.447273\"/>\n    </g>\n    <g clip-path=\"url(#p34a4929a73)\">\n     <use style=\"fill:#fde725;stroke:#fde725;\" x=\"308.830764\" xlink:href=\"#C0_0_c602145761\" y=\"55.52\"/>\n    </g>\n    <g clip-path=\"url(#p34a4929a73)\">\n     <use style=\"fill:#fde725;stroke:#fde725;\" x=\"310.873473\" xlink:href=\"#C0_0_c602145761\" y=\"44.538182\"/>\n    </g>\n    <g clip-path=\"url(#p34a4929a73)\">\n     <use style=\"fill:#fde725;stroke:#fde725;\" x=\"312.916182\" xlink:href=\"#C0_0_c602145761\" y=\"17.083636\"/>\n    </g>\n    <g clip-path=\"url(#p34a4929a73)\">\n     <use style=\"fill:#fde725;stroke:#fde725;\" x=\"314.958891\" xlink:href=\"#C0_0_c602145761\" y=\"99.447273\"/>\n    </g>\n    <g clip-path=\"url(#p34a4929a73)\">\n     <use style=\"fill:#fde725;stroke:#fde725;\" x=\"317.0016\" xlink:href=\"#C0_0_c602145761\" y=\"104.938182\"/>\n    </g>\n    <g clip-path=\"url(#p34a4929a73)\">\n     <use style=\"fill:#fde725;stroke:#fde725;\" x=\"319.044309\" xlink:href=\"#C0_0_c602145761\" y=\"115.92\"/>\n    </g>\n    <g clip-path=\"url(#p34a4929a73)\">\n     <use style=\"fill:#fde725;stroke:#fde725;\" x=\"321.087018\" xlink:href=\"#C0_0_c602145761\" y=\"28.065455\"/>\n    </g>\n    <g clip-path=\"url(#p34a4929a73)\">\n     <use style=\"fill:#fde725;stroke:#fde725;\" x=\"323.129727\" xlink:href=\"#C0_0_c602145761\" y=\"104.938182\"/>\n    </g>\n    <g clip-path=\"url(#p34a4929a73)\">\n     <use style=\"fill:#fde725;stroke:#fde725;\" x=\"325.172436\" xlink:href=\"#C0_0_c602145761\" y=\"99.447273\"/>\n    </g>\n    <g clip-path=\"url(#p34a4929a73)\">\n     <use style=\"fill:#fde725;stroke:#fde725;\" x=\"327.215145\" xlink:href=\"#C0_0_c602145761\" y=\"121.410909\"/>\n    </g>\n    <g clip-path=\"url(#p34a4929a73)\">\n     <use style=\"fill:#fde725;stroke:#fde725;\" x=\"329.257853\" xlink:href=\"#C0_0_c602145761\" y=\"71.992727\"/>\n    </g>\n    <g clip-path=\"url(#p34a4929a73)\">\n     <use style=\"fill:#fde725;stroke:#fde725;\" x=\"331.300562\" xlink:href=\"#C0_0_c602145761\" y=\"82.974545\"/>\n    </g>\n    <g clip-path=\"url(#p34a4929a73)\">\n     <use style=\"fill:#fde725;stroke:#fde725;\" x=\"333.343271\" xlink:href=\"#C0_0_c602145761\" y=\"71.992727\"/>\n    </g>\n    <g clip-path=\"url(#p34a4929a73)\">\n     <use style=\"fill:#fde725;stroke:#fde725;\" x=\"335.38598\" xlink:href=\"#C0_0_c602145761\" y=\"132.392727\"/>\n    </g>\n    <g clip-path=\"url(#p34a4929a73)\">\n     <use style=\"fill:#fde725;stroke:#fde725;\" x=\"337.428689\" xlink:href=\"#C0_0_c602145761\" y=\"77.483636\"/>\n    </g>\n    <g clip-path=\"url(#p34a4929a73)\">\n     <use style=\"fill:#fde725;stroke:#fde725;\" x=\"339.471398\" xlink:href=\"#C0_0_c602145761\" y=\"82.974545\"/>\n    </g>\n    <g clip-path=\"url(#p34a4929a73)\">\n     <use style=\"fill:#fde725;stroke:#fde725;\" x=\"341.514107\" xlink:href=\"#C0_0_c602145761\" y=\"82.974545\"/>\n    </g>\n    <g clip-path=\"url(#p34a4929a73)\">\n     <use style=\"fill:#fde725;stroke:#fde725;\" x=\"343.556816\" xlink:href=\"#C0_0_c602145761\" y=\"104.938182\"/>\n    </g>\n    <g clip-path=\"url(#p34a4929a73)\">\n     <use style=\"fill:#fde725;stroke:#fde725;\" x=\"345.599525\" xlink:href=\"#C0_0_c602145761\" y=\"93.956364\"/>\n    </g>\n    <g clip-path=\"url(#p34a4929a73)\">\n     <use style=\"fill:#fde725;stroke:#fde725;\" x=\"347.642234\" xlink:href=\"#C0_0_c602145761\" y=\"110.429091\"/>\n    </g>\n    <g clip-path=\"url(#p34a4929a73)\">\n     <use style=\"fill:#fde725;stroke:#fde725;\" x=\"349.684943\" xlink:href=\"#C0_0_c602145761\" y=\"126.901818\"/>\n    </g>\n   </g>\n   <g id=\"matplotlib.axis_1\">\n    <g id=\"xtick_1\">\n     <g id=\"line2d_1\">\n      <defs>\n       <path d=\"M 0 0 \nL 0 3.5 \n\" id=\"m7fc2021501\" style=\"stroke:#000000;stroke-width:0.8;\"/>\n      </defs>\n      <g>\n       <use style=\"stroke:#000000;stroke-width:0.8;\" x=\"45.321307\" xlink:href=\"#m7fc2021501\" y=\"224.64\"/>\n      </g>\n     </g>\n     <g id=\"text_1\">\n      <!-- 0 -->\n      <g transform=\"translate(42.140057 239.238438)scale(0.1 -0.1)\">\n       <defs>\n        <path d=\"M 2034 4250 \nQ 1547 4250 1301 3770 \nQ 1056 3291 1056 2328 \nQ 1056 1369 1301 889 \nQ 1547 409 2034 409 \nQ 2525 409 2770 889 \nQ 3016 1369 3016 2328 \nQ 3016 3291 2770 3770 \nQ 2525 4250 2034 4250 \nz\nM 2034 4750 \nQ 2819 4750 3233 4129 \nQ 3647 3509 3647 2328 \nQ 3647 1150 3233 529 \nQ 2819 -91 2034 -91 \nQ 1250 -91 836 529 \nQ 422 1150 422 2328 \nQ 422 3509 836 4129 \nQ 1250 4750 2034 4750 \nz\n\" id=\"DejaVuSans-30\" transform=\"scale(0.015625)\"/>\n       </defs>\n       <use xlink:href=\"#DejaVuSans-30\"/>\n      </g>\n     </g>\n    </g>\n    <g id=\"xtick_2\">\n     <g id=\"line2d_2\">\n      <g>\n       <use style=\"stroke:#000000;stroke-width:0.8;\" x=\"86.175486\" xlink:href=\"#m7fc2021501\" y=\"224.64\"/>\n      </g>\n     </g>\n     <g id=\"text_2\">\n      <!-- 20 -->\n      <g transform=\"translate(79.812986 239.238438)scale(0.1 -0.1)\">\n       <defs>\n        <path d=\"M 1228 531 \nL 3431 531 \nL 3431 0 \nL 469 0 \nL 469 531 \nQ 828 903 1448 1529 \nQ 2069 2156 2228 2338 \nQ 2531 2678 2651 2914 \nQ 2772 3150 2772 3378 \nQ 2772 3750 2511 3984 \nQ 2250 4219 1831 4219 \nQ 1534 4219 1204 4116 \nQ 875 4013 500 3803 \nL 500 4441 \nQ 881 4594 1212 4672 \nQ 1544 4750 1819 4750 \nQ 2544 4750 2975 4387 \nQ 3406 4025 3406 3419 \nQ 3406 3131 3298 2873 \nQ 3191 2616 2906 2266 \nQ 2828 2175 2409 1742 \nQ 1991 1309 1228 531 \nz\n\" id=\"DejaVuSans-32\" transform=\"scale(0.015625)\"/>\n       </defs>\n       <use xlink:href=\"#DejaVuSans-32\"/>\n       <use x=\"63.623047\" xlink:href=\"#DejaVuSans-30\"/>\n      </g>\n     </g>\n    </g>\n    <g id=\"xtick_3\">\n     <g id=\"line2d_3\">\n      <g>\n       <use style=\"stroke:#000000;stroke-width:0.8;\" x=\"127.029666\" xlink:href=\"#m7fc2021501\" y=\"224.64\"/>\n      </g>\n     </g>\n     <g id=\"text_3\">\n      <!-- 40 -->\n      <g transform=\"translate(120.667166 239.238438)scale(0.1 -0.1)\">\n       <defs>\n        <path d=\"M 2419 4116 \nL 825 1625 \nL 2419 1625 \nL 2419 4116 \nz\nM 2253 4666 \nL 3047 4666 \nL 3047 1625 \nL 3713 1625 \nL 3713 1100 \nL 3047 1100 \nL 3047 0 \nL 2419 0 \nL 2419 1100 \nL 313 1100 \nL 313 1709 \nL 2253 4666 \nz\n\" id=\"DejaVuSans-34\" transform=\"scale(0.015625)\"/>\n       </defs>\n       <use xlink:href=\"#DejaVuSans-34\"/>\n       <use x=\"63.623047\" xlink:href=\"#DejaVuSans-30\"/>\n      </g>\n     </g>\n    </g>\n    <g id=\"xtick_4\">\n     <g id=\"line2d_4\">\n      <g>\n       <use style=\"stroke:#000000;stroke-width:0.8;\" x=\"167.883845\" xlink:href=\"#m7fc2021501\" y=\"224.64\"/>\n      </g>\n     </g>\n     <g id=\"text_4\">\n      <!-- 60 -->\n      <g transform=\"translate(161.521345 239.238438)scale(0.1 -0.1)\">\n       <defs>\n        <path d=\"M 2113 2584 \nQ 1688 2584 1439 2293 \nQ 1191 2003 1191 1497 \nQ 1191 994 1439 701 \nQ 1688 409 2113 409 \nQ 2538 409 2786 701 \nQ 3034 994 3034 1497 \nQ 3034 2003 2786 2293 \nQ 2538 2584 2113 2584 \nz\nM 3366 4563 \nL 3366 3988 \nQ 3128 4100 2886 4159 \nQ 2644 4219 2406 4219 \nQ 1781 4219 1451 3797 \nQ 1122 3375 1075 2522 \nQ 1259 2794 1537 2939 \nQ 1816 3084 2150 3084 \nQ 2853 3084 3261 2657 \nQ 3669 2231 3669 1497 \nQ 3669 778 3244 343 \nQ 2819 -91 2113 -91 \nQ 1303 -91 875 529 \nQ 447 1150 447 2328 \nQ 447 3434 972 4092 \nQ 1497 4750 2381 4750 \nQ 2619 4750 2861 4703 \nQ 3103 4656 3366 4563 \nz\n\" id=\"DejaVuSans-36\" transform=\"scale(0.015625)\"/>\n       </defs>\n       <use xlink:href=\"#DejaVuSans-36\"/>\n       <use x=\"63.623047\" xlink:href=\"#DejaVuSans-30\"/>\n      </g>\n     </g>\n    </g>\n    <g id=\"xtick_5\">\n     <g id=\"line2d_5\">\n      <g>\n       <use style=\"stroke:#000000;stroke-width:0.8;\" x=\"208.738024\" xlink:href=\"#m7fc2021501\" y=\"224.64\"/>\n      </g>\n     </g>\n     <g id=\"text_5\">\n      <!-- 80 -->\n      <g transform=\"translate(202.375524 239.238438)scale(0.1 -0.1)\">\n       <defs>\n        <path d=\"M 2034 2216 \nQ 1584 2216 1326 1975 \nQ 1069 1734 1069 1313 \nQ 1069 891 1326 650 \nQ 1584 409 2034 409 \nQ 2484 409 2743 651 \nQ 3003 894 3003 1313 \nQ 3003 1734 2745 1975 \nQ 2488 2216 2034 2216 \nz\nM 1403 2484 \nQ 997 2584 770 2862 \nQ 544 3141 544 3541 \nQ 544 4100 942 4425 \nQ 1341 4750 2034 4750 \nQ 2731 4750 3128 4425 \nQ 3525 4100 3525 3541 \nQ 3525 3141 3298 2862 \nQ 3072 2584 2669 2484 \nQ 3125 2378 3379 2068 \nQ 3634 1759 3634 1313 \nQ 3634 634 3220 271 \nQ 2806 -91 2034 -91 \nQ 1263 -91 848 271 \nQ 434 634 434 1313 \nQ 434 1759 690 2068 \nQ 947 2378 1403 2484 \nz\nM 1172 3481 \nQ 1172 3119 1398 2916 \nQ 1625 2713 2034 2713 \nQ 2441 2713 2670 2916 \nQ 2900 3119 2900 3481 \nQ 2900 3844 2670 4047 \nQ 2441 4250 2034 4250 \nQ 1625 4250 1398 4047 \nQ 1172 3844 1172 3481 \nz\n\" id=\"DejaVuSans-38\" transform=\"scale(0.015625)\"/>\n       </defs>\n       <use xlink:href=\"#DejaVuSans-38\"/>\n       <use x=\"63.623047\" xlink:href=\"#DejaVuSans-30\"/>\n      </g>\n     </g>\n    </g>\n    <g id=\"xtick_6\">\n     <g id=\"line2d_6\">\n      <g>\n       <use style=\"stroke:#000000;stroke-width:0.8;\" x=\"249.592204\" xlink:href=\"#m7fc2021501\" y=\"224.64\"/>\n      </g>\n     </g>\n     <g id=\"text_6\">\n      <!-- 100 -->\n      <g transform=\"translate(240.048454 239.238438)scale(0.1 -0.1)\">\n       <defs>\n        <path d=\"M 794 531 \nL 1825 531 \nL 1825 4091 \nL 703 3866 \nL 703 4441 \nL 1819 4666 \nL 2450 4666 \nL 2450 531 \nL 3481 531 \nL 3481 0 \nL 794 0 \nL 794 531 \nz\n\" id=\"DejaVuSans-31\" transform=\"scale(0.015625)\"/>\n       </defs>\n       <use xlink:href=\"#DejaVuSans-31\"/>\n       <use x=\"63.623047\" xlink:href=\"#DejaVuSans-30\"/>\n       <use x=\"127.246094\" xlink:href=\"#DejaVuSans-30\"/>\n      </g>\n     </g>\n    </g>\n    <g id=\"xtick_7\">\n     <g id=\"line2d_7\">\n      <g>\n       <use style=\"stroke:#000000;stroke-width:0.8;\" x=\"290.446383\" xlink:href=\"#m7fc2021501\" y=\"224.64\"/>\n      </g>\n     </g>\n     <g id=\"text_7\">\n      <!-- 120 -->\n      <g transform=\"translate(280.902633 239.238438)scale(0.1 -0.1)\">\n       <use xlink:href=\"#DejaVuSans-31\"/>\n       <use x=\"63.623047\" xlink:href=\"#DejaVuSans-32\"/>\n       <use x=\"127.246094\" xlink:href=\"#DejaVuSans-30\"/>\n      </g>\n     </g>\n    </g>\n    <g id=\"xtick_8\">\n     <g id=\"line2d_8\">\n      <g>\n       <use style=\"stroke:#000000;stroke-width:0.8;\" x=\"331.300562\" xlink:href=\"#m7fc2021501\" y=\"224.64\"/>\n      </g>\n     </g>\n     <g id=\"text_8\">\n      <!-- 140 -->\n      <g transform=\"translate(321.756812 239.238438)scale(0.1 -0.1)\">\n       <use xlink:href=\"#DejaVuSans-31\"/>\n       <use x=\"63.623047\" xlink:href=\"#DejaVuSans-34\"/>\n       <use x=\"127.246094\" xlink:href=\"#DejaVuSans-30\"/>\n      </g>\n     </g>\n    </g>\n   </g>\n   <g id=\"matplotlib.axis_2\">\n    <g id=\"ytick_1\">\n     <g id=\"line2d_9\">\n      <defs>\n       <path d=\"M 0 0 \nL -3.5 0 \n\" id=\"mfe1ea8f39e\" style=\"stroke:#000000;stroke-width:0.8;\"/>\n      </defs>\n      <g>\n       <use style=\"stroke:#000000;stroke-width:0.8;\" x=\"30.103125\" xlink:href=\"#mfe1ea8f39e\" y=\"203.774545\"/>\n      </g>\n     </g>\n     <g id=\"text_9\">\n      <!-- 4.5 -->\n      <g transform=\"translate(7.2 207.573764)scale(0.1 -0.1)\">\n       <defs>\n        <path d=\"M 684 794 \nL 1344 794 \nL 1344 0 \nL 684 0 \nL 684 794 \nz\n\" id=\"DejaVuSans-2e\" transform=\"scale(0.015625)\"/>\n        <path d=\"M 691 4666 \nL 3169 4666 \nL 3169 4134 \nL 1269 4134 \nL 1269 2991 \nQ 1406 3038 1543 3061 \nQ 1681 3084 1819 3084 \nQ 2600 3084 3056 2656 \nQ 3513 2228 3513 1497 \nQ 3513 744 3044 326 \nQ 2575 -91 1722 -91 \nQ 1428 -91 1123 -41 \nQ 819 9 494 109 \nL 494 744 \nQ 775 591 1075 516 \nQ 1375 441 1709 441 \nQ 2250 441 2565 725 \nQ 2881 1009 2881 1497 \nQ 2881 1984 2565 2268 \nQ 2250 2553 1709 2553 \nQ 1456 2553 1204 2497 \nQ 953 2441 691 2322 \nL 691 4666 \nz\n\" id=\"DejaVuSans-35\" transform=\"scale(0.015625)\"/>\n       </defs>\n       <use xlink:href=\"#DejaVuSans-34\"/>\n       <use x=\"63.623047\" xlink:href=\"#DejaVuSans-2e\"/>\n       <use x=\"95.410156\" xlink:href=\"#DejaVuSans-35\"/>\n      </g>\n     </g>\n    </g>\n    <g id=\"ytick_2\">\n     <g id=\"line2d_10\">\n      <g>\n       <use style=\"stroke:#000000;stroke-width:0.8;\" x=\"30.103125\" xlink:href=\"#mfe1ea8f39e\" y=\"176.32\"/>\n      </g>\n     </g>\n     <g id=\"text_10\">\n      <!-- 5.0 -->\n      <g transform=\"translate(7.2 180.119219)scale(0.1 -0.1)\">\n       <use xlink:href=\"#DejaVuSans-35\"/>\n       <use x=\"63.623047\" xlink:href=\"#DejaVuSans-2e\"/>\n       <use x=\"95.410156\" xlink:href=\"#DejaVuSans-30\"/>\n      </g>\n     </g>\n    </g>\n    <g id=\"ytick_3\">\n     <g id=\"line2d_11\">\n      <g>\n       <use style=\"stroke:#000000;stroke-width:0.8;\" x=\"30.103125\" xlink:href=\"#mfe1ea8f39e\" y=\"148.865455\"/>\n      </g>\n     </g>\n     <g id=\"text_11\">\n      <!-- 5.5 -->\n      <g transform=\"translate(7.2 152.664673)scale(0.1 -0.1)\">\n       <use xlink:href=\"#DejaVuSans-35\"/>\n       <use x=\"63.623047\" xlink:href=\"#DejaVuSans-2e\"/>\n       <use x=\"95.410156\" xlink:href=\"#DejaVuSans-35\"/>\n      </g>\n     </g>\n    </g>\n    <g id=\"ytick_4\">\n     <g id=\"line2d_12\">\n      <g>\n       <use style=\"stroke:#000000;stroke-width:0.8;\" x=\"30.103125\" xlink:href=\"#mfe1ea8f39e\" y=\"121.410909\"/>\n      </g>\n     </g>\n     <g id=\"text_12\">\n      <!-- 6.0 -->\n      <g transform=\"translate(7.2 125.210128)scale(0.1 -0.1)\">\n       <use xlink:href=\"#DejaVuSans-36\"/>\n       <use x=\"63.623047\" xlink:href=\"#DejaVuSans-2e\"/>\n       <use x=\"95.410156\" xlink:href=\"#DejaVuSans-30\"/>\n      </g>\n     </g>\n    </g>\n    <g id=\"ytick_5\">\n     <g id=\"line2d_13\">\n      <g>\n       <use style=\"stroke:#000000;stroke-width:0.8;\" x=\"30.103125\" xlink:href=\"#mfe1ea8f39e\" y=\"93.956364\"/>\n      </g>\n     </g>\n     <g id=\"text_13\">\n      <!-- 6.5 -->\n      <g transform=\"translate(7.2 97.755582)scale(0.1 -0.1)\">\n       <use xlink:href=\"#DejaVuSans-36\"/>\n       <use x=\"63.623047\" xlink:href=\"#DejaVuSans-2e\"/>\n       <use x=\"95.410156\" xlink:href=\"#DejaVuSans-35\"/>\n      </g>\n     </g>\n    </g>\n    <g id=\"ytick_6\">\n     <g id=\"line2d_14\">\n      <g>\n       <use style=\"stroke:#000000;stroke-width:0.8;\" x=\"30.103125\" xlink:href=\"#mfe1ea8f39e\" y=\"66.501818\"/>\n      </g>\n     </g>\n     <g id=\"text_14\">\n      <!-- 7.0 -->\n      <g transform=\"translate(7.2 70.301037)scale(0.1 -0.1)\">\n       <defs>\n        <path d=\"M 525 4666 \nL 3525 4666 \nL 3525 4397 \nL 1831 0 \nL 1172 0 \nL 2766 4134 \nL 525 4134 \nL 525 4666 \nz\n\" id=\"DejaVuSans-37\" transform=\"scale(0.015625)\"/>\n       </defs>\n       <use xlink:href=\"#DejaVuSans-37\"/>\n       <use x=\"63.623047\" xlink:href=\"#DejaVuSans-2e\"/>\n       <use x=\"95.410156\" xlink:href=\"#DejaVuSans-30\"/>\n      </g>\n     </g>\n    </g>\n    <g id=\"ytick_7\">\n     <g id=\"line2d_15\">\n      <g>\n       <use style=\"stroke:#000000;stroke-width:0.8;\" x=\"30.103125\" xlink:href=\"#mfe1ea8f39e\" y=\"39.047273\"/>\n      </g>\n     </g>\n     <g id=\"text_15\">\n      <!-- 7.5 -->\n      <g transform=\"translate(7.2 42.846491)scale(0.1 -0.1)\">\n       <use xlink:href=\"#DejaVuSans-37\"/>\n       <use x=\"63.623047\" xlink:href=\"#DejaVuSans-2e\"/>\n       <use x=\"95.410156\" xlink:href=\"#DejaVuSans-35\"/>\n      </g>\n     </g>\n    </g>\n    <g id=\"ytick_8\">\n     <g id=\"line2d_16\">\n      <g>\n       <use style=\"stroke:#000000;stroke-width:0.8;\" x=\"30.103125\" xlink:href=\"#mfe1ea8f39e\" y=\"11.592727\"/>\n      </g>\n     </g>\n     <g id=\"text_16\">\n      <!-- 8.0 -->\n      <g transform=\"translate(7.2 15.391946)scale(0.1 -0.1)\">\n       <use xlink:href=\"#DejaVuSans-38\"/>\n       <use x=\"63.623047\" xlink:href=\"#DejaVuSans-2e\"/>\n       <use x=\"95.410156\" xlink:href=\"#DejaVuSans-30\"/>\n      </g>\n     </g>\n    </g>\n   </g>\n   <g id=\"patch_3\">\n    <path d=\"M 30.103125 224.64 \nL 30.103125 7.2 \n\" style=\"fill:none;stroke:#000000;stroke-linecap:square;stroke-linejoin:miter;stroke-width:0.8;\"/>\n   </g>\n   <g id=\"patch_4\">\n    <path d=\"M 364.903125 224.64 \nL 364.903125 7.2 \n\" style=\"fill:none;stroke:#000000;stroke-linecap:square;stroke-linejoin:miter;stroke-width:0.8;\"/>\n   </g>\n   <g id=\"patch_5\">\n    <path d=\"M 30.103125 224.64 \nL 364.903125 224.64 \n\" style=\"fill:none;stroke:#000000;stroke-linecap:square;stroke-linejoin:miter;stroke-width:0.8;\"/>\n   </g>\n   <g id=\"patch_6\">\n    <path d=\"M 30.103125 7.2 \nL 364.903125 7.2 \n\" style=\"fill:none;stroke:#000000;stroke-linecap:square;stroke-linejoin:miter;stroke-width:0.8;\"/>\n   </g>\n  </g>\n </g>\n <defs>\n  <clipPath id=\"p34a4929a73\">\n   <rect height=\"217.44\" width=\"334.8\" x=\"30.103125\" y=\"7.2\"/>\n  </clipPath>\n </defs>\n</svg>\n",
      "image/png": "[encoded data removed]"
     },
     "metadata": {
      "needs_background": "light"
     }
    }
   ],
   "source": [
    "# Crie um Gráficos de Dispersão (scatter Plot) da variável sepal length versus número da linha, \n",
    "# colorido por marcadores da variável target\n",
    "plt.scatter(x=range(len(df)), y=df['sepal length (cm)'], c=df['target'])"
   ]
  },
  {
   "cell_type": "code",
   "execution_count": 21,
   "metadata": {},
   "outputs": [],
   "source": [
    "# Crie um Scatter Plot de 2 Features (atributos)\n"
   ]
  },
  {
   "cell_type": "code",
   "execution_count": 22,
   "metadata": {},
   "outputs": [],
   "source": [
    "# Crie um Scatter Matrix das Features (atributos)\n"
   ]
  },
  {
   "cell_type": "code",
   "execution_count": 23,
   "metadata": {},
   "outputs": [],
   "source": [
    "# Crie um Histograma de todas as features\n"
   ]
  },
  {
   "cell_type": "markdown",
   "metadata": {},
   "source": [
    "Conheça a Formação Cientista de Dados, um programa completo, 100% online e 100% em português, com 400 horas, mais de 1.200 aulas em vídeos e 26 projetos, que vão ajudá-lo a se tornar um dos profissionais mais cobiçados do mercado de análise de dados. Clique no link abaixo, faça sua inscrição, comece hoje mesmo e aumente sua empregabilidade:\n",
    "\n",
    "https://www.datascienceacademy.com.br/pages/formacao-cientista-de-dados"
   ]
  },
  {
   "cell_type": "markdown",
   "metadata": {
    "collapsed": true
   },
   "source": [
    "# Fim"
   ]
  },
  {
   "cell_type": "markdown",
   "metadata": {},
   "source": [
    "### Obrigado - Data Science Academy - <a href=\"http://facebook.com/dsacademybr\">facebook.com/dsacademybr</a>"
   ]
  }
 ],
 "metadata": {
  "kernelspec": {
   "name": "python3",
   "display_name": "Python 3.9.5 64-bit"
  },
  "language_info": {
   "codemirror_mode": {
    "name": "ipython",
    "version": 3
   },
   "file_extension": ".py",
   "mimetype": "text/x-python",
   "name": "python",
   "nbconvert_exporter": "python",
   "pygments_lexer": "ipython3",
   "version": "3.9.5"
  },
  "interpreter": {
   "hash": "916dbcbb3f70747c44a77c7bcd40155683ae19c65e1c03b4aa3499c5328201f1"
  }
 },
 "nbformat": 4,
 "nbformat_minor": 1
}