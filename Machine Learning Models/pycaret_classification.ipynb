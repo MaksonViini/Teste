{
 "metadata": {
  "language_info": {
   "codemirror_mode": {
    "name": "ipython",
    "version": 3
   },
   "file_extension": ".py",
   "mimetype": "text/x-python",
   "name": "python",
   "nbconvert_exporter": "python",
   "pygments_lexer": "ipython3",
   "version": "3.8.6"
  },
  "orig_nbformat": 4,
  "kernelspec": {
   "name": "python3",
   "display_name": "Python 3.8.6 64-bit"
  },
  "interpreter": {
   "hash": "916dbcbb3f70747c44a77c7bcd40155683ae19c65e1c03b4aa3499c5328201f1"
  }
 },
 "nbformat": 4,
 "nbformat_minor": 2,
 "cells": [
  {
   "cell_type": "code",
   "execution_count": 4,
   "metadata": {},
   "outputs": [],
   "source": [
    "from pycaret.classification import *\n",
    "from pycaret.datasets import get_data   "
   ]
  },
  {
   "cell_type": "code",
   "execution_count": 5,
   "metadata": {},
   "outputs": [
    {
     "output_type": "display_data",
     "data": {
      "text/plain": "   LIMIT_BAL  SEX  EDUCATION  MARRIAGE  AGE  PAY_1  PAY_2  PAY_3  PAY_4  \\\n0      20000    2          2         1   24      2      2     -1     -1   \n1      90000    2          2         2   34      0      0      0      0   \n2      50000    2          2         1   37      0      0      0      0   \n3      50000    1          2         1   57     -1      0     -1      0   \n4      50000    1          1         2   37      0      0      0      0   \n\n   PAY_5  PAY_6  BILL_AMT1  BILL_AMT2  BILL_AMT3  BILL_AMT4  BILL_AMT5  \\\n0     -2     -2     3913.0     3102.0      689.0        0.0        0.0   \n1      0      0    29239.0    14027.0    13559.0    14331.0    14948.0   \n2      0      0    46990.0    48233.0    49291.0    28314.0    28959.0   \n3      0      0     8617.0     5670.0    35835.0    20940.0    19146.0   \n4      0      0    64400.0    57069.0    57608.0    19394.0    19619.0   \n\n   BILL_AMT6  PAY_AMT1  PAY_AMT2  PAY_AMT3  PAY_AMT4  PAY_AMT5  PAY_AMT6  \\\n0        0.0       0.0     689.0       0.0       0.0       0.0       0.0   \n1    15549.0    1518.0    1500.0    1000.0    1000.0    1000.0    5000.0   \n2    29547.0    2000.0    2019.0    1200.0    1100.0    1069.0    1000.0   \n3    19131.0    2000.0   36681.0   10000.0    9000.0     689.0     679.0   \n4    20024.0    2500.0    1815.0     657.0    1000.0    1000.0     800.0   \n\n   default  \n0        1  \n1        0  \n2        0  \n3        0  \n4        0  ",
      "text/html": "<div>\n<style scoped>\n    .dataframe tbody tr th:only-of-type {\n        vertical-align: middle;\n    }\n\n    .dataframe tbody tr th {\n        vertical-align: top;\n    }\n\n    .dataframe thead th {\n        text-align: right;\n    }\n</style>\n<table border=\"1\" class=\"dataframe\">\n  <thead>\n    <tr style=\"text-align: right;\">\n      <th></th>\n      <th>LIMIT_BAL</th>\n      <th>SEX</th>\n      <th>EDUCATION</th>\n      <th>MARRIAGE</th>\n      <th>AGE</th>\n      <th>PAY_1</th>\n      <th>PAY_2</th>\n      <th>PAY_3</th>\n      <th>PAY_4</th>\n      <th>PAY_5</th>\n      <th>PAY_6</th>\n      <th>BILL_AMT1</th>\n      <th>BILL_AMT2</th>\n      <th>BILL_AMT3</th>\n      <th>BILL_AMT4</th>\n      <th>BILL_AMT5</th>\n      <th>BILL_AMT6</th>\n      <th>PAY_AMT1</th>\n      <th>PAY_AMT2</th>\n      <th>PAY_AMT3</th>\n      <th>PAY_AMT4</th>\n      <th>PAY_AMT5</th>\n      <th>PAY_AMT6</th>\n      <th>default</th>\n    </tr>\n  </thead>\n  <tbody>\n    <tr>\n      <th>0</th>\n      <td>20000</td>\n      <td>2</td>\n      <td>2</td>\n      <td>1</td>\n      <td>24</td>\n      <td>2</td>\n      <td>2</td>\n      <td>-1</td>\n      <td>-1</td>\n      <td>-2</td>\n      <td>-2</td>\n      <td>3913.0</td>\n      <td>3102.0</td>\n      <td>689.0</td>\n      <td>0.0</td>\n      <td>0.0</td>\n      <td>0.0</td>\n      <td>0.0</td>\n      <td>689.0</td>\n      <td>0.0</td>\n      <td>0.0</td>\n      <td>0.0</td>\n      <td>0.0</td>\n      <td>1</td>\n    </tr>\n    <tr>\n      <th>1</th>\n      <td>90000</td>\n      <td>2</td>\n      <td>2</td>\n      <td>2</td>\n      <td>34</td>\n      <td>0</td>\n      <td>0</td>\n      <td>0</td>\n      <td>0</td>\n      <td>0</td>\n      <td>0</td>\n      <td>29239.0</td>\n      <td>14027.0</td>\n      <td>13559.0</td>\n      <td>14331.0</td>\n      <td>14948.0</td>\n      <td>15549.0</td>\n      <td>1518.0</td>\n      <td>1500.0</td>\n      <td>1000.0</td>\n      <td>1000.0</td>\n      <td>1000.0</td>\n      <td>5000.0</td>\n      <td>0</td>\n    </tr>\n    <tr>\n      <th>2</th>\n      <td>50000</td>\n      <td>2</td>\n      <td>2</td>\n      <td>1</td>\n      <td>37</td>\n      <td>0</td>\n      <td>0</td>\n      <td>0</td>\n      <td>0</td>\n      <td>0</td>\n      <td>0</td>\n      <td>46990.0</td>\n      <td>48233.0</td>\n      <td>49291.0</td>\n      <td>28314.0</td>\n      <td>28959.0</td>\n      <td>29547.0</td>\n      <td>2000.0</td>\n      <td>2019.0</td>\n      <td>1200.0</td>\n      <td>1100.0</td>\n      <td>1069.0</td>\n      <td>1000.0</td>\n      <td>0</td>\n    </tr>\n    <tr>\n      <th>3</th>\n      <td>50000</td>\n      <td>1</td>\n      <td>2</td>\n      <td>1</td>\n      <td>57</td>\n      <td>-1</td>\n      <td>0</td>\n      <td>-1</td>\n      <td>0</td>\n      <td>0</td>\n      <td>0</td>\n      <td>8617.0</td>\n      <td>5670.0</td>\n      <td>35835.0</td>\n      <td>20940.0</td>\n      <td>19146.0</td>\n      <td>19131.0</td>\n      <td>2000.0</td>\n      <td>36681.0</td>\n      <td>10000.0</td>\n      <td>9000.0</td>\n      <td>689.0</td>\n      <td>679.0</td>\n      <td>0</td>\n    </tr>\n    <tr>\n      <th>4</th>\n      <td>50000</td>\n      <td>1</td>\n      <td>1</td>\n      <td>2</td>\n      <td>37</td>\n      <td>0</td>\n      <td>0</td>\n      <td>0</td>\n      <td>0</td>\n      <td>0</td>\n      <td>0</td>\n      <td>64400.0</td>\n      <td>57069.0</td>\n      <td>57608.0</td>\n      <td>19394.0</td>\n      <td>19619.0</td>\n      <td>20024.0</td>\n      <td>2500.0</td>\n      <td>1815.0</td>\n      <td>657.0</td>\n      <td>1000.0</td>\n      <td>1000.0</td>\n      <td>800.0</td>\n      <td>0</td>\n    </tr>\n  </tbody>\n</table>\n</div>"
     },
     "metadata": {}
    }
   ],
   "source": [
    "data = get_data('credit')"
   ]
  },
  {
   "cell_type": "code",
   "execution_count": 7,
   "metadata": {},
   "outputs": [
    {
     "output_type": "execute_result",
     "data": {
      "text/plain": [
       "(24000, 24)"
      ]
     },
     "metadata": {},
     "execution_count": 7
    }
   ],
   "source": [
    "data.shape"
   ]
  },
  {
   "cell_type": "code",
   "execution_count": 8,
   "metadata": {},
   "outputs": [
    {
     "output_type": "execute_result",
     "data": {
      "text/plain": [
       "LIMIT_BAL    0\n",
       "SEX          0\n",
       "EDUCATION    0\n",
       "MARRIAGE     0\n",
       "AGE          0\n",
       "PAY_1        0\n",
       "PAY_2        0\n",
       "PAY_3        0\n",
       "PAY_4        0\n",
       "PAY_5        0\n",
       "PAY_6        0\n",
       "BILL_AMT1    0\n",
       "BILL_AMT2    0\n",
       "BILL_AMT3    0\n",
       "BILL_AMT4    0\n",
       "BILL_AMT5    0\n",
       "BILL_AMT6    0\n",
       "PAY_AMT1     0\n",
       "PAY_AMT2     0\n",
       "PAY_AMT3     0\n",
       "PAY_AMT4     0\n",
       "PAY_AMT5     0\n",
       "PAY_AMT6     0\n",
       "default      0\n",
       "dtype: int64"
      ]
     },
     "metadata": {},
     "execution_count": 8
    }
   ],
   "source": [
    "data.isna().sum()"
   ]
  },
  {
   "cell_type": "code",
   "execution_count": 9,
   "metadata": {},
   "outputs": [
    {
     "output_type": "stream",
     "name": "stdout",
     "text": [
      "<class 'pandas.core.frame.DataFrame'>\nRangeIndex: 24000 entries, 0 to 23999\nData columns (total 24 columns):\n #   Column     Non-Null Count  Dtype  \n---  ------     --------------  -----  \n 0   LIMIT_BAL  24000 non-null  int64  \n 1   SEX        24000 non-null  int64  \n 2   EDUCATION  24000 non-null  int64  \n 3   MARRIAGE   24000 non-null  int64  \n 4   AGE        24000 non-null  int64  \n 5   PAY_1      24000 non-null  int64  \n 6   PAY_2      24000 non-null  int64  \n 7   PAY_3      24000 non-null  int64  \n 8   PAY_4      24000 non-null  int64  \n 9   PAY_5      24000 non-null  int64  \n 10  PAY_6      24000 non-null  int64  \n 11  BILL_AMT1  24000 non-null  float64\n 12  BILL_AMT2  24000 non-null  float64\n 13  BILL_AMT3  24000 non-null  float64\n 14  BILL_AMT4  24000 non-null  float64\n 15  BILL_AMT5  24000 non-null  float64\n 16  BILL_AMT6  24000 non-null  float64\n 17  PAY_AMT1   24000 non-null  float64\n 18  PAY_AMT2   24000 non-null  float64\n 19  PAY_AMT3   24000 non-null  float64\n 20  PAY_AMT4   24000 non-null  float64\n 21  PAY_AMT5   24000 non-null  float64\n 22  PAY_AMT6   24000 non-null  float64\n 23  default    24000 non-null  int64  \ndtypes: float64(12), int64(12)\nmemory usage: 4.4 MB\n"
     ]
    }
   ],
   "source": [
    "data.info()"
   ]
  },
  {
   "source": [
    "# Create Model"
   ],
   "cell_type": "markdown",
   "metadata": {}
  },
  {
   "cell_type": "code",
   "execution_count": 11,
   "metadata": {},
   "outputs": [
    {
     "output_type": "display_data",
     "data": {
      "text/plain": "<pandas.io.formats.style.Styler at 0x7fe319461ee0>",
      "text/html": "<style  type=\"text/css\" >\n</style><table id=\"T_c788d_\" ><thead>    <tr>        <th class=\"blank level0\" ></th>        <th class=\"col_heading level0 col0\" >Description</th>        <th class=\"col_heading level0 col1\" >Value</th>    </tr></thead><tbody>\n                <tr>\n                        <th id=\"T_c788d_level0_row0\" class=\"row_heading level0 row0\" >0</th>\n                        <td id=\"T_c788d_row0_col0\" class=\"data row0 col0\" >session_id</td>\n                        <td id=\"T_c788d_row0_col1\" class=\"data row0 col1\" >42</td>\n            </tr>\n            <tr>\n                        <th id=\"T_c788d_level0_row1\" class=\"row_heading level0 row1\" >1</th>\n                        <td id=\"T_c788d_row1_col0\" class=\"data row1 col0\" >Target</td>\n                        <td id=\"T_c788d_row1_col1\" class=\"data row1 col1\" >default</td>\n            </tr>\n            <tr>\n                        <th id=\"T_c788d_level0_row2\" class=\"row_heading level0 row2\" >2</th>\n                        <td id=\"T_c788d_row2_col0\" class=\"data row2 col0\" >Target Type</td>\n                        <td id=\"T_c788d_row2_col1\" class=\"data row2 col1\" >Binary</td>\n            </tr>\n            <tr>\n                        <th id=\"T_c788d_level0_row3\" class=\"row_heading level0 row3\" >3</th>\n                        <td id=\"T_c788d_row3_col0\" class=\"data row3 col0\" >Label Encoded</td>\n                        <td id=\"T_c788d_row3_col1\" class=\"data row3 col1\" >0: 0, 1: 1</td>\n            </tr>\n            <tr>\n                        <th id=\"T_c788d_level0_row4\" class=\"row_heading level0 row4\" >4</th>\n                        <td id=\"T_c788d_row4_col0\" class=\"data row4 col0\" >Original Data</td>\n                        <td id=\"T_c788d_row4_col1\" class=\"data row4 col1\" >(24000, 24)</td>\n            </tr>\n            <tr>\n                        <th id=\"T_c788d_level0_row5\" class=\"row_heading level0 row5\" >5</th>\n                        <td id=\"T_c788d_row5_col0\" class=\"data row5 col0\" >Missing Values</td>\n                        <td id=\"T_c788d_row5_col1\" class=\"data row5 col1\" >False</td>\n            </tr>\n            <tr>\n                        <th id=\"T_c788d_level0_row6\" class=\"row_heading level0 row6\" >6</th>\n                        <td id=\"T_c788d_row6_col0\" class=\"data row6 col0\" >Numeric Features</td>\n                        <td id=\"T_c788d_row6_col1\" class=\"data row6 col1\" >14</td>\n            </tr>\n            <tr>\n                        <th id=\"T_c788d_level0_row7\" class=\"row_heading level0 row7\" >7</th>\n                        <td id=\"T_c788d_row7_col0\" class=\"data row7 col0\" >Categorical Features</td>\n                        <td id=\"T_c788d_row7_col1\" class=\"data row7 col1\" >9</td>\n            </tr>\n            <tr>\n                        <th id=\"T_c788d_level0_row8\" class=\"row_heading level0 row8\" >8</th>\n                        <td id=\"T_c788d_row8_col0\" class=\"data row8 col0\" >Ordinal Features</td>\n                        <td id=\"T_c788d_row8_col1\" class=\"data row8 col1\" >False</td>\n            </tr>\n            <tr>\n                        <th id=\"T_c788d_level0_row9\" class=\"row_heading level0 row9\" >9</th>\n                        <td id=\"T_c788d_row9_col0\" class=\"data row9 col0\" >High Cardinality Features</td>\n                        <td id=\"T_c788d_row9_col1\" class=\"data row9 col1\" >False</td>\n            </tr>\n            <tr>\n                        <th id=\"T_c788d_level0_row10\" class=\"row_heading level0 row10\" >10</th>\n                        <td id=\"T_c788d_row10_col0\" class=\"data row10 col0\" >High Cardinality Method</td>\n                        <td id=\"T_c788d_row10_col1\" class=\"data row10 col1\" >None</td>\n            </tr>\n            <tr>\n                        <th id=\"T_c788d_level0_row11\" class=\"row_heading level0 row11\" >11</th>\n                        <td id=\"T_c788d_row11_col0\" class=\"data row11 col0\" >Transformed Train Set</td>\n                        <td id=\"T_c788d_row11_col1\" class=\"data row11 col1\" >(16799, 89)</td>\n            </tr>\n            <tr>\n                        <th id=\"T_c788d_level0_row12\" class=\"row_heading level0 row12\" >12</th>\n                        <td id=\"T_c788d_row12_col0\" class=\"data row12 col0\" >Transformed Test Set</td>\n                        <td id=\"T_c788d_row12_col1\" class=\"data row12 col1\" >(7201, 89)</td>\n            </tr>\n            <tr>\n                        <th id=\"T_c788d_level0_row13\" class=\"row_heading level0 row13\" >13</th>\n                        <td id=\"T_c788d_row13_col0\" class=\"data row13 col0\" >Shuffle Train-Test</td>\n                        <td id=\"T_c788d_row13_col1\" class=\"data row13 col1\" >True</td>\n            </tr>\n            <tr>\n                        <th id=\"T_c788d_level0_row14\" class=\"row_heading level0 row14\" >14</th>\n                        <td id=\"T_c788d_row14_col0\" class=\"data row14 col0\" >Stratify Train-Test</td>\n                        <td id=\"T_c788d_row14_col1\" class=\"data row14 col1\" >False</td>\n            </tr>\n            <tr>\n                        <th id=\"T_c788d_level0_row15\" class=\"row_heading level0 row15\" >15</th>\n                        <td id=\"T_c788d_row15_col0\" class=\"data row15 col0\" >Fold Generator</td>\n                        <td id=\"T_c788d_row15_col1\" class=\"data row15 col1\" >StratifiedKFold</td>\n            </tr>\n            <tr>\n                        <th id=\"T_c788d_level0_row16\" class=\"row_heading level0 row16\" >16</th>\n                        <td id=\"T_c788d_row16_col0\" class=\"data row16 col0\" >Fold Number</td>\n                        <td id=\"T_c788d_row16_col1\" class=\"data row16 col1\" >10</td>\n            </tr>\n            <tr>\n                        <th id=\"T_c788d_level0_row17\" class=\"row_heading level0 row17\" >17</th>\n                        <td id=\"T_c788d_row17_col0\" class=\"data row17 col0\" >CPU Jobs</td>\n                        <td id=\"T_c788d_row17_col1\" class=\"data row17 col1\" >-1</td>\n            </tr>\n            <tr>\n                        <th id=\"T_c788d_level0_row18\" class=\"row_heading level0 row18\" >18</th>\n                        <td id=\"T_c788d_row18_col0\" class=\"data row18 col0\" >Use GPU</td>\n                        <td id=\"T_c788d_row18_col1\" class=\"data row18 col1\" >False</td>\n            </tr>\n            <tr>\n                        <th id=\"T_c788d_level0_row19\" class=\"row_heading level0 row19\" >19</th>\n                        <td id=\"T_c788d_row19_col0\" class=\"data row19 col0\" >Log Experiment</td>\n                        <td id=\"T_c788d_row19_col1\" class=\"data row19 col1\" >False</td>\n            </tr>\n            <tr>\n                        <th id=\"T_c788d_level0_row20\" class=\"row_heading level0 row20\" >20</th>\n                        <td id=\"T_c788d_row20_col0\" class=\"data row20 col0\" >Experiment Name</td>\n                        <td id=\"T_c788d_row20_col1\" class=\"data row20 col1\" >clf-default-name</td>\n            </tr>\n            <tr>\n                        <th id=\"T_c788d_level0_row21\" class=\"row_heading level0 row21\" >21</th>\n                        <td id=\"T_c788d_row21_col0\" class=\"data row21 col0\" >USI</td>\n                        <td id=\"T_c788d_row21_col1\" class=\"data row21 col1\" >1fd2</td>\n            </tr>\n            <tr>\n                        <th id=\"T_c788d_level0_row22\" class=\"row_heading level0 row22\" >22</th>\n                        <td id=\"T_c788d_row22_col0\" class=\"data row22 col0\" >Imputation Type</td>\n                        <td id=\"T_c788d_row22_col1\" class=\"data row22 col1\" >simple</td>\n            </tr>\n            <tr>\n                        <th id=\"T_c788d_level0_row23\" class=\"row_heading level0 row23\" >23</th>\n                        <td id=\"T_c788d_row23_col0\" class=\"data row23 col0\" >Iterative Imputation Iteration</td>\n                        <td id=\"T_c788d_row23_col1\" class=\"data row23 col1\" >None</td>\n            </tr>\n            <tr>\n                        <th id=\"T_c788d_level0_row24\" class=\"row_heading level0 row24\" >24</th>\n                        <td id=\"T_c788d_row24_col0\" class=\"data row24 col0\" >Numeric Imputer</td>\n                        <td id=\"T_c788d_row24_col1\" class=\"data row24 col1\" >mean</td>\n            </tr>\n            <tr>\n                        <th id=\"T_c788d_level0_row25\" class=\"row_heading level0 row25\" >25</th>\n                        <td id=\"T_c788d_row25_col0\" class=\"data row25 col0\" >Iterative Imputation Numeric Model</td>\n                        <td id=\"T_c788d_row25_col1\" class=\"data row25 col1\" >None</td>\n            </tr>\n            <tr>\n                        <th id=\"T_c788d_level0_row26\" class=\"row_heading level0 row26\" >26</th>\n                        <td id=\"T_c788d_row26_col0\" class=\"data row26 col0\" >Categorical Imputer</td>\n                        <td id=\"T_c788d_row26_col1\" class=\"data row26 col1\" >constant</td>\n            </tr>\n            <tr>\n                        <th id=\"T_c788d_level0_row27\" class=\"row_heading level0 row27\" >27</th>\n                        <td id=\"T_c788d_row27_col0\" class=\"data row27 col0\" >Iterative Imputation Categorical Model</td>\n                        <td id=\"T_c788d_row27_col1\" class=\"data row27 col1\" >None</td>\n            </tr>\n            <tr>\n                        <th id=\"T_c788d_level0_row28\" class=\"row_heading level0 row28\" >28</th>\n                        <td id=\"T_c788d_row28_col0\" class=\"data row28 col0\" >Unknown Categoricals Handling</td>\n                        <td id=\"T_c788d_row28_col1\" class=\"data row28 col1\" >least_frequent</td>\n            </tr>\n            <tr>\n                        <th id=\"T_c788d_level0_row29\" class=\"row_heading level0 row29\" >29</th>\n                        <td id=\"T_c788d_row29_col0\" class=\"data row29 col0\" >Normalize</td>\n                        <td id=\"T_c788d_row29_col1\" class=\"data row29 col1\" >False</td>\n            </tr>\n            <tr>\n                        <th id=\"T_c788d_level0_row30\" class=\"row_heading level0 row30\" >30</th>\n                        <td id=\"T_c788d_row30_col0\" class=\"data row30 col0\" >Normalize Method</td>\n                        <td id=\"T_c788d_row30_col1\" class=\"data row30 col1\" >None</td>\n            </tr>\n            <tr>\n                        <th id=\"T_c788d_level0_row31\" class=\"row_heading level0 row31\" >31</th>\n                        <td id=\"T_c788d_row31_col0\" class=\"data row31 col0\" >Transformation</td>\n                        <td id=\"T_c788d_row31_col1\" class=\"data row31 col1\" >False</td>\n            </tr>\n            <tr>\n                        <th id=\"T_c788d_level0_row32\" class=\"row_heading level0 row32\" >32</th>\n                        <td id=\"T_c788d_row32_col0\" class=\"data row32 col0\" >Transformation Method</td>\n                        <td id=\"T_c788d_row32_col1\" class=\"data row32 col1\" >None</td>\n            </tr>\n            <tr>\n                        <th id=\"T_c788d_level0_row33\" class=\"row_heading level0 row33\" >33</th>\n                        <td id=\"T_c788d_row33_col0\" class=\"data row33 col0\" >PCA</td>\n                        <td id=\"T_c788d_row33_col1\" class=\"data row33 col1\" >False</td>\n            </tr>\n            <tr>\n                        <th id=\"T_c788d_level0_row34\" class=\"row_heading level0 row34\" >34</th>\n                        <td id=\"T_c788d_row34_col0\" class=\"data row34 col0\" >PCA Method</td>\n                        <td id=\"T_c788d_row34_col1\" class=\"data row34 col1\" >None</td>\n            </tr>\n            <tr>\n                        <th id=\"T_c788d_level0_row35\" class=\"row_heading level0 row35\" >35</th>\n                        <td id=\"T_c788d_row35_col0\" class=\"data row35 col0\" >PCA Components</td>\n                        <td id=\"T_c788d_row35_col1\" class=\"data row35 col1\" >None</td>\n            </tr>\n            <tr>\n                        <th id=\"T_c788d_level0_row36\" class=\"row_heading level0 row36\" >36</th>\n                        <td id=\"T_c788d_row36_col0\" class=\"data row36 col0\" >Ignore Low Variance</td>\n                        <td id=\"T_c788d_row36_col1\" class=\"data row36 col1\" >False</td>\n            </tr>\n            <tr>\n                        <th id=\"T_c788d_level0_row37\" class=\"row_heading level0 row37\" >37</th>\n                        <td id=\"T_c788d_row37_col0\" class=\"data row37 col0\" >Combine Rare Levels</td>\n                        <td id=\"T_c788d_row37_col1\" class=\"data row37 col1\" >False</td>\n            </tr>\n            <tr>\n                        <th id=\"T_c788d_level0_row38\" class=\"row_heading level0 row38\" >38</th>\n                        <td id=\"T_c788d_row38_col0\" class=\"data row38 col0\" >Rare Level Threshold</td>\n                        <td id=\"T_c788d_row38_col1\" class=\"data row38 col1\" >None</td>\n            </tr>\n            <tr>\n                        <th id=\"T_c788d_level0_row39\" class=\"row_heading level0 row39\" >39</th>\n                        <td id=\"T_c788d_row39_col0\" class=\"data row39 col0\" >Numeric Binning</td>\n                        <td id=\"T_c788d_row39_col1\" class=\"data row39 col1\" >False</td>\n            </tr>\n            <tr>\n                        <th id=\"T_c788d_level0_row40\" class=\"row_heading level0 row40\" >40</th>\n                        <td id=\"T_c788d_row40_col0\" class=\"data row40 col0\" >Remove Outliers</td>\n                        <td id=\"T_c788d_row40_col1\" class=\"data row40 col1\" >False</td>\n            </tr>\n            <tr>\n                        <th id=\"T_c788d_level0_row41\" class=\"row_heading level0 row41\" >41</th>\n                        <td id=\"T_c788d_row41_col0\" class=\"data row41 col0\" >Outliers Threshold</td>\n                        <td id=\"T_c788d_row41_col1\" class=\"data row41 col1\" >None</td>\n            </tr>\n            <tr>\n                        <th id=\"T_c788d_level0_row42\" class=\"row_heading level0 row42\" >42</th>\n                        <td id=\"T_c788d_row42_col0\" class=\"data row42 col0\" >Remove Multicollinearity</td>\n                        <td id=\"T_c788d_row42_col1\" class=\"data row42 col1\" >False</td>\n            </tr>\n            <tr>\n                        <th id=\"T_c788d_level0_row43\" class=\"row_heading level0 row43\" >43</th>\n                        <td id=\"T_c788d_row43_col0\" class=\"data row43 col0\" >Multicollinearity Threshold</td>\n                        <td id=\"T_c788d_row43_col1\" class=\"data row43 col1\" >None</td>\n            </tr>\n            <tr>\n                        <th id=\"T_c788d_level0_row44\" class=\"row_heading level0 row44\" >44</th>\n                        <td id=\"T_c788d_row44_col0\" class=\"data row44 col0\" >Clustering</td>\n                        <td id=\"T_c788d_row44_col1\" class=\"data row44 col1\" >False</td>\n            </tr>\n            <tr>\n                        <th id=\"T_c788d_level0_row45\" class=\"row_heading level0 row45\" >45</th>\n                        <td id=\"T_c788d_row45_col0\" class=\"data row45 col0\" >Clustering Iteration</td>\n                        <td id=\"T_c788d_row45_col1\" class=\"data row45 col1\" >None</td>\n            </tr>\n            <tr>\n                        <th id=\"T_c788d_level0_row46\" class=\"row_heading level0 row46\" >46</th>\n                        <td id=\"T_c788d_row46_col0\" class=\"data row46 col0\" >Polynomial Features</td>\n                        <td id=\"T_c788d_row46_col1\" class=\"data row46 col1\" >False</td>\n            </tr>\n            <tr>\n                        <th id=\"T_c788d_level0_row47\" class=\"row_heading level0 row47\" >47</th>\n                        <td id=\"T_c788d_row47_col0\" class=\"data row47 col0\" >Polynomial Degree</td>\n                        <td id=\"T_c788d_row47_col1\" class=\"data row47 col1\" >None</td>\n            </tr>\n            <tr>\n                        <th id=\"T_c788d_level0_row48\" class=\"row_heading level0 row48\" >48</th>\n                        <td id=\"T_c788d_row48_col0\" class=\"data row48 col0\" >Trignometry Features</td>\n                        <td id=\"T_c788d_row48_col1\" class=\"data row48 col1\" >False</td>\n            </tr>\n            <tr>\n                        <th id=\"T_c788d_level0_row49\" class=\"row_heading level0 row49\" >49</th>\n                        <td id=\"T_c788d_row49_col0\" class=\"data row49 col0\" >Polynomial Threshold</td>\n                        <td id=\"T_c788d_row49_col1\" class=\"data row49 col1\" >None</td>\n            </tr>\n            <tr>\n                        <th id=\"T_c788d_level0_row50\" class=\"row_heading level0 row50\" >50</th>\n                        <td id=\"T_c788d_row50_col0\" class=\"data row50 col0\" >Group Features</td>\n                        <td id=\"T_c788d_row50_col1\" class=\"data row50 col1\" >False</td>\n            </tr>\n            <tr>\n                        <th id=\"T_c788d_level0_row51\" class=\"row_heading level0 row51\" >51</th>\n                        <td id=\"T_c788d_row51_col0\" class=\"data row51 col0\" >Feature Selection</td>\n                        <td id=\"T_c788d_row51_col1\" class=\"data row51 col1\" >False</td>\n            </tr>\n            <tr>\n                        <th id=\"T_c788d_level0_row52\" class=\"row_heading level0 row52\" >52</th>\n                        <td id=\"T_c788d_row52_col0\" class=\"data row52 col0\" >Feature Selection Method</td>\n                        <td id=\"T_c788d_row52_col1\" class=\"data row52 col1\" >classic</td>\n            </tr>\n            <tr>\n                        <th id=\"T_c788d_level0_row53\" class=\"row_heading level0 row53\" >53</th>\n                        <td id=\"T_c788d_row53_col0\" class=\"data row53 col0\" >Features Selection Threshold</td>\n                        <td id=\"T_c788d_row53_col1\" class=\"data row53 col1\" >None</td>\n            </tr>\n            <tr>\n                        <th id=\"T_c788d_level0_row54\" class=\"row_heading level0 row54\" >54</th>\n                        <td id=\"T_c788d_row54_col0\" class=\"data row54 col0\" >Feature Interaction</td>\n                        <td id=\"T_c788d_row54_col1\" class=\"data row54 col1\" >False</td>\n            </tr>\n            <tr>\n                        <th id=\"T_c788d_level0_row55\" class=\"row_heading level0 row55\" >55</th>\n                        <td id=\"T_c788d_row55_col0\" class=\"data row55 col0\" >Feature Ratio</td>\n                        <td id=\"T_c788d_row55_col1\" class=\"data row55 col1\" >False</td>\n            </tr>\n            <tr>\n                        <th id=\"T_c788d_level0_row56\" class=\"row_heading level0 row56\" >56</th>\n                        <td id=\"T_c788d_row56_col0\" class=\"data row56 col0\" >Interaction Threshold</td>\n                        <td id=\"T_c788d_row56_col1\" class=\"data row56 col1\" >None</td>\n            </tr>\n            <tr>\n                        <th id=\"T_c788d_level0_row57\" class=\"row_heading level0 row57\" >57</th>\n                        <td id=\"T_c788d_row57_col0\" class=\"data row57 col0\" >Fix Imbalance</td>\n                        <td id=\"T_c788d_row57_col1\" class=\"data row57 col1\" >False</td>\n            </tr>\n            <tr>\n                        <th id=\"T_c788d_level0_row58\" class=\"row_heading level0 row58\" >58</th>\n                        <td id=\"T_c788d_row58_col0\" class=\"data row58 col0\" >Fix Imbalance Method</td>\n                        <td id=\"T_c788d_row58_col1\" class=\"data row58 col1\" >SMOTE</td>\n            </tr>\n    </tbody></table>"
     },
     "metadata": {}
    }
   ],
   "source": [
    "setup = setup(data=data, target='default', session_id=42)"
   ]
  },
  {
   "source": [
    "# Comparing All Models"
   ],
   "cell_type": "markdown",
   "metadata": {}
  },
  {
   "cell_type": "code",
   "execution_count": 12,
   "metadata": {},
   "outputs": [
    {
     "output_type": "display_data",
     "data": {
      "text/plain": "IntProgress(value=0, description='Processing: ', max=79)",
      "application/vnd.jupyter.widget-view+json": {
       "version_major": 2,
       "version_minor": 0,
       "model_id": "88535d9ec044404ab33d1a71e023b27b"
      }
     },
     "metadata": {}
    },
    {
     "output_type": "display_data",
     "data": {
      "text/plain": "                                                                         \n                                                                         \nInitiated  . . . . . . . . . . . . . . . . . .                   20:50:26\nStatus     . . . . . . . . . . . . . . . . . .           Fitting 10 Folds\nEstimator  . . . . . . . . . . . . . . . . . .  Extreme Gradient Boosting",
      "text/html": "<div>\n<style scoped>\n    .dataframe tbody tr th:only-of-type {\n        vertical-align: middle;\n    }\n\n    .dataframe tbody tr th {\n        vertical-align: top;\n    }\n\n    .dataframe thead th {\n        text-align: right;\n    }\n</style>\n<table border=\"1\" class=\"dataframe\">\n  <thead>\n    <tr style=\"text-align: right;\">\n      <th></th>\n      <th></th>\n      <th></th>\n    </tr>\n    <tr>\n      <th></th>\n      <th></th>\n      <th></th>\n    </tr>\n  </thead>\n  <tbody>\n    <tr>\n      <th>Initiated</th>\n      <td>. . . . . . . . . . . . . . . . . .</td>\n      <td>20:50:26</td>\n    </tr>\n    <tr>\n      <th>Status</th>\n      <td>. . . . . . . . . . . . . . . . . .</td>\n      <td>Fitting 10 Folds</td>\n    </tr>\n    <tr>\n      <th>Estimator</th>\n      <td>. . . . . . . . . . . . . . . . . .</td>\n      <td>Extreme Gradient Boosting</td>\n    </tr>\n  </tbody>\n</table>\n</div>"
     },
     "metadata": {}
    },
    {
     "output_type": "display_data",
     "data": {
      "text/plain": "<pandas.io.formats.style.Styler at 0x7fe319c0ec40>",
      "text/html": "<style  type=\"text/css\" >\n    #T_2dca6_ th {\n          text-align: left;\n    }#T_2dca6_row0_col0,#T_2dca6_row0_col1,#T_2dca6_row0_col2,#T_2dca6_row0_col3,#T_2dca6_row0_col4,#T_2dca6_row0_col5,#T_2dca6_row0_col6,#T_2dca6_row0_col7,#T_2dca6_row0_col8,#T_2dca6_row1_col0,#T_2dca6_row1_col1,#T_2dca6_row1_col2,#T_2dca6_row1_col3,#T_2dca6_row1_col4,#T_2dca6_row1_col5,#T_2dca6_row1_col6,#T_2dca6_row1_col7,#T_2dca6_row1_col8,#T_2dca6_row2_col0,#T_2dca6_row2_col1,#T_2dca6_row2_col2,#T_2dca6_row2_col3,#T_2dca6_row2_col4,#T_2dca6_row2_col5,#T_2dca6_row2_col6,#T_2dca6_row2_col7,#T_2dca6_row2_col8,#T_2dca6_row3_col0,#T_2dca6_row3_col1,#T_2dca6_row3_col2,#T_2dca6_row3_col3,#T_2dca6_row3_col4,#T_2dca6_row3_col5,#T_2dca6_row3_col6,#T_2dca6_row3_col7,#T_2dca6_row3_col8,#T_2dca6_row4_col0,#T_2dca6_row4_col1,#T_2dca6_row4_col2,#T_2dca6_row4_col3,#T_2dca6_row4_col4,#T_2dca6_row4_col5,#T_2dca6_row4_col6,#T_2dca6_row4_col7,#T_2dca6_row4_col8,#T_2dca6_row5_col0,#T_2dca6_row5_col1,#T_2dca6_row5_col2,#T_2dca6_row5_col3,#T_2dca6_row5_col4,#T_2dca6_row5_col5,#T_2dca6_row5_col6,#T_2dca6_row5_col7,#T_2dca6_row5_col8,#T_2dca6_row6_col0,#T_2dca6_row6_col1,#T_2dca6_row6_col2,#T_2dca6_row6_col3,#T_2dca6_row6_col4,#T_2dca6_row6_col5,#T_2dca6_row6_col6,#T_2dca6_row6_col7,#T_2dca6_row6_col8,#T_2dca6_row7_col0,#T_2dca6_row7_col1,#T_2dca6_row7_col2,#T_2dca6_row7_col3,#T_2dca6_row7_col4,#T_2dca6_row7_col5,#T_2dca6_row7_col6,#T_2dca6_row7_col7,#T_2dca6_row7_col8,#T_2dca6_row8_col0,#T_2dca6_row8_col1,#T_2dca6_row8_col2,#T_2dca6_row8_col3,#T_2dca6_row8_col4,#T_2dca6_row8_col5,#T_2dca6_row8_col6,#T_2dca6_row8_col7,#T_2dca6_row8_col8,#T_2dca6_row9_col0,#T_2dca6_row9_col1,#T_2dca6_row9_col2,#T_2dca6_row9_col3,#T_2dca6_row9_col4,#T_2dca6_row9_col5,#T_2dca6_row9_col6,#T_2dca6_row9_col7,#T_2dca6_row9_col8,#T_2dca6_row10_col0,#T_2dca6_row10_col1,#T_2dca6_row10_col2,#T_2dca6_row10_col3,#T_2dca6_row10_col4,#T_2dca6_row10_col5,#T_2dca6_row10_col6,#T_2dca6_row10_col7,#T_2dca6_row10_col8,#T_2dca6_row11_col0,#T_2dca6_row11_col1,#T_2dca6_row11_col2,#T_2dca6_row11_col3,#T_2dca6_row11_col4,#T_2dca6_row11_col5,#T_2dca6_row11_col6,#T_2dca6_row11_col7,#T_2dca6_row11_col8{\n            text-align:  left;\n        }</style><table id=\"T_2dca6_\" ><thead>    <tr>        <th class=\"blank level0\" ></th>        <th class=\"col_heading level0 col0\" >Model</th>        <th class=\"col_heading level0 col1\" >Accuracy</th>        <th class=\"col_heading level0 col2\" >AUC</th>        <th class=\"col_heading level0 col3\" >Recall</th>        <th class=\"col_heading level0 col4\" >Prec.</th>        <th class=\"col_heading level0 col5\" >F1</th>        <th class=\"col_heading level0 col6\" >Kappa</th>        <th class=\"col_heading level0 col7\" >MCC</th>        <th class=\"col_heading level0 col8\" >TT (Sec)</th>    </tr></thead><tbody>\n                <tr>\n                        <th id=\"T_2dca6_level0_row0\" class=\"row_heading level0 row0\" >ridge</th>\n                        <td id=\"T_2dca6_row0_col0\" class=\"data row0 col0\" >Ridge Classifier</td>\n                        <td id=\"T_2dca6_row0_col1\" class=\"data row0 col1\" >0.8198</td>\n                        <td id=\"T_2dca6_row0_col2\" class=\"data row0 col2\" >0.0000</td>\n                        <td id=\"T_2dca6_row0_col3\" class=\"data row0 col3\" >0.3571</td>\n                        <td id=\"T_2dca6_row0_col4\" class=\"data row0 col4\" >0.6853</td>\n                        <td id=\"T_2dca6_row0_col5\" class=\"data row0 col5\" >0.4688</td>\n                        <td id=\"T_2dca6_row0_col6\" class=\"data row0 col6\" >0.3731</td>\n                        <td id=\"T_2dca6_row0_col7\" class=\"data row0 col7\" >0.4022</td>\n                        <td id=\"T_2dca6_row0_col8\" class=\"data row0 col8\" >0.0450</td>\n            </tr>\n            <tr>\n                        <th id=\"T_2dca6_level0_row1\" class=\"row_heading level0 row1\" >gbc</th>\n                        <td id=\"T_2dca6_row1_col0\" class=\"data row1 col0\" >Gradient Boosting Classifier</td>\n                        <td id=\"T_2dca6_row1_col1\" class=\"data row1 col1\" >0.8195</td>\n                        <td id=\"T_2dca6_row1_col2\" class=\"data row1 col2\" >0.7797</td>\n                        <td id=\"T_2dca6_row1_col3\" class=\"data row1 col3\" >0.3645</td>\n                        <td id=\"T_2dca6_row1_col4\" class=\"data row1 col4\" >0.6779</td>\n                        <td id=\"T_2dca6_row1_col5\" class=\"data row1 col5\" >0.4731</td>\n                        <td id=\"T_2dca6_row1_col6\" class=\"data row1 col6\" >0.3761</td>\n                        <td id=\"T_2dca6_row1_col7\" class=\"data row1 col7\" >0.4029</td>\n                        <td id=\"T_2dca6_row1_col8\" class=\"data row1 col8\" >1.6530</td>\n            </tr>\n            <tr>\n                        <th id=\"T_2dca6_level0_row2\" class=\"row_heading level0 row2\" >lda</th>\n                        <td id=\"T_2dca6_row2_col0\" class=\"data row2 col0\" >Linear Discriminant Analysis</td>\n                        <td id=\"T_2dca6_row2_col1\" class=\"data row2 col1\" >0.8194</td>\n                        <td id=\"T_2dca6_row2_col2\" class=\"data row2 col2\" >0.7620</td>\n                        <td id=\"T_2dca6_row2_col3\" class=\"data row2 col3\" >0.3723</td>\n                        <td id=\"T_2dca6_row2_col4\" class=\"data row2 col4\" >0.6729</td>\n                        <td id=\"T_2dca6_row2_col5\" class=\"data row2 col5\" >0.4786</td>\n                        <td id=\"T_2dca6_row2_col6\" class=\"data row2 col6\" >0.3803</td>\n                        <td id=\"T_2dca6_row2_col7\" class=\"data row2 col7\" >0.4050</td>\n                        <td id=\"T_2dca6_row2_col8\" class=\"data row2 col8\" >0.2810</td>\n            </tr>\n            <tr>\n                        <th id=\"T_2dca6_level0_row3\" class=\"row_heading level0 row3\" >ada</th>\n                        <td id=\"T_2dca6_row3_col0\" class=\"data row3 col0\" >Ada Boost Classifier</td>\n                        <td id=\"T_2dca6_row3_col1\" class=\"data row3 col1\" >0.8159</td>\n                        <td id=\"T_2dca6_row3_col2\" class=\"data row3 col2\" >0.7729</td>\n                        <td id=\"T_2dca6_row3_col3\" class=\"data row3 col3\" >0.3325</td>\n                        <td id=\"T_2dca6_row3_col4\" class=\"data row3 col4\" >0.6797</td>\n                        <td id=\"T_2dca6_row3_col5\" class=\"data row3 col5\" >0.4456</td>\n                        <td id=\"T_2dca6_row3_col6\" class=\"data row3 col6\" >0.3506</td>\n                        <td id=\"T_2dca6_row3_col7\" class=\"data row3 col7\" >0.3833</td>\n                        <td id=\"T_2dca6_row3_col8\" class=\"data row3 col8\" >0.4000</td>\n            </tr>\n            <tr>\n                        <th id=\"T_2dca6_level0_row4\" class=\"row_heading level0 row4\" >rf</th>\n                        <td id=\"T_2dca6_row4_col0\" class=\"data row4 col0\" >Random Forest Classifier</td>\n                        <td id=\"T_2dca6_row4_col1\" class=\"data row4 col1\" >0.8135</td>\n                        <td id=\"T_2dca6_row4_col2\" class=\"data row4 col2\" >0.7617</td>\n                        <td id=\"T_2dca6_row4_col3\" class=\"data row4 col3\" >0.3709</td>\n                        <td id=\"T_2dca6_row4_col4\" class=\"data row4 col4\" >0.6423</td>\n                        <td id=\"T_2dca6_row4_col5\" class=\"data row4 col5\" >0.4696</td>\n                        <td id=\"T_2dca6_row4_col6\" class=\"data row4 col6\" >0.3663</td>\n                        <td id=\"T_2dca6_row4_col7\" class=\"data row4 col7\" >0.3870</td>\n                        <td id=\"T_2dca6_row4_col8\" class=\"data row4 col8\" >0.8830</td>\n            </tr>\n            <tr>\n                        <th id=\"T_2dca6_level0_row5\" class=\"row_heading level0 row5\" >et</th>\n                        <td id=\"T_2dca6_row5_col0\" class=\"data row5 col0\" >Extra Trees Classifier</td>\n                        <td id=\"T_2dca6_row5_col1\" class=\"data row5 col1\" >0.8038</td>\n                        <td id=\"T_2dca6_row5_col2\" class=\"data row5 col2\" >0.7390</td>\n                        <td id=\"T_2dca6_row5_col3\" class=\"data row5 col3\" >0.3771</td>\n                        <td id=\"T_2dca6_row5_col4\" class=\"data row5 col4\" >0.5957</td>\n                        <td id=\"T_2dca6_row5_col5\" class=\"data row5 col5\" >0.4611</td>\n                        <td id=\"T_2dca6_row5_col6\" class=\"data row5 col6\" >0.3487</td>\n                        <td id=\"T_2dca6_row5_col7\" class=\"data row5 col7\" >0.3626</td>\n                        <td id=\"T_2dca6_row5_col8\" class=\"data row5 col8\" >0.9020</td>\n            </tr>\n            <tr>\n                        <th id=\"T_2dca6_level0_row6\" class=\"row_heading level0 row6\" >lr</th>\n                        <td id=\"T_2dca6_row6_col0\" class=\"data row6 col0\" >Logistic Regression</td>\n                        <td id=\"T_2dca6_row6_col1\" class=\"data row6 col1\" >0.7769</td>\n                        <td id=\"T_2dca6_row6_col2\" class=\"data row6 col2\" >0.6431</td>\n                        <td id=\"T_2dca6_row6_col3\" class=\"data row6 col3\" >0.0000</td>\n                        <td id=\"T_2dca6_row6_col4\" class=\"data row6 col4\" >0.0000</td>\n                        <td id=\"T_2dca6_row6_col5\" class=\"data row6 col5\" >0.0000</td>\n                        <td id=\"T_2dca6_row6_col6\" class=\"data row6 col6\" >-0.0001</td>\n                        <td id=\"T_2dca6_row6_col7\" class=\"data row6 col7\" >-0.0013</td>\n                        <td id=\"T_2dca6_row6_col8\" class=\"data row6 col8\" >0.9170</td>\n            </tr>\n            <tr>\n                        <th id=\"T_2dca6_level0_row7\" class=\"row_heading level0 row7\" >knn</th>\n                        <td id=\"T_2dca6_row7_col0\" class=\"data row7 col0\" >K Neighbors Classifier</td>\n                        <td id=\"T_2dca6_row7_col1\" class=\"data row7 col1\" >0.7464</td>\n                        <td id=\"T_2dca6_row7_col2\" class=\"data row7 col2\" >0.5997</td>\n                        <td id=\"T_2dca6_row7_col3\" class=\"data row7 col3\" >0.1777</td>\n                        <td id=\"T_2dca6_row7_col4\" class=\"data row7 col4\" >0.3605</td>\n                        <td id=\"T_2dca6_row7_col5\" class=\"data row7 col5\" >0.2376</td>\n                        <td id=\"T_2dca6_row7_col6\" class=\"data row7 col6\" >0.1065</td>\n                        <td id=\"T_2dca6_row7_col7\" class=\"data row7 col7\" >0.1161</td>\n                        <td id=\"T_2dca6_row7_col8\" class=\"data row7 col8\" >0.4380</td>\n            </tr>\n            <tr>\n                        <th id=\"T_2dca6_level0_row8\" class=\"row_heading level0 row8\" >dt</th>\n                        <td id=\"T_2dca6_row8_col0\" class=\"data row8 col0\" >Decision Tree Classifier</td>\n                        <td id=\"T_2dca6_row8_col1\" class=\"data row8 col1\" >0.7234</td>\n                        <td id=\"T_2dca6_row8_col2\" class=\"data row8 col2\" >0.6174</td>\n                        <td id=\"T_2dca6_row8_col3\" class=\"data row8 col3\" >0.4259</td>\n                        <td id=\"T_2dca6_row8_col4\" class=\"data row8 col4\" >0.3900</td>\n                        <td id=\"T_2dca6_row8_col5\" class=\"data row8 col5\" >0.4070</td>\n                        <td id=\"T_2dca6_row8_col6\" class=\"data row8 col6\" >0.2271</td>\n                        <td id=\"T_2dca6_row8_col7\" class=\"data row8 col7\" >0.2276</td>\n                        <td id=\"T_2dca6_row8_col8\" class=\"data row8 col8\" >0.1340</td>\n            </tr>\n            <tr>\n                        <th id=\"T_2dca6_level0_row9\" class=\"row_heading level0 row9\" >svm</th>\n                        <td id=\"T_2dca6_row9_col0\" class=\"data row9 col0\" >SVM - Linear Kernel</td>\n                        <td id=\"T_2dca6_row9_col1\" class=\"data row9 col1\" >0.7091</td>\n                        <td id=\"T_2dca6_row9_col2\" class=\"data row9 col2\" >0.0000</td>\n                        <td id=\"T_2dca6_row9_col3\" class=\"data row9 col3\" >0.1553</td>\n                        <td id=\"T_2dca6_row9_col4\" class=\"data row9 col4\" >0.1363</td>\n                        <td id=\"T_2dca6_row9_col5\" class=\"data row9 col5\" >0.1220</td>\n                        <td id=\"T_2dca6_row9_col6\" class=\"data row9 col6\" >0.0195</td>\n                        <td id=\"T_2dca6_row9_col7\" class=\"data row9 col7\" >0.0216</td>\n                        <td id=\"T_2dca6_row9_col8\" class=\"data row9 col8\" >0.2750</td>\n            </tr>\n            <tr>\n                        <th id=\"T_2dca6_level0_row10\" class=\"row_heading level0 row10\" >qda</th>\n                        <td id=\"T_2dca6_row10_col0\" class=\"data row10 col0\" >Quadratic Discriminant Analysis</td>\n                        <td id=\"T_2dca6_row10_col1\" class=\"data row10 col1\" >0.5193</td>\n                        <td id=\"T_2dca6_row10_col2\" class=\"data row10 col2\" >0.5367</td>\n                        <td id=\"T_2dca6_row10_col3\" class=\"data row10 col3\" >0.5682</td>\n                        <td id=\"T_2dca6_row10_col4\" class=\"data row10 col4\" >0.2508</td>\n                        <td id=\"T_2dca6_row10_col5\" class=\"data row10 col5\" >0.3409</td>\n                        <td id=\"T_2dca6_row10_col6\" class=\"data row10 col6\" >0.0523</td>\n                        <td id=\"T_2dca6_row10_col7\" class=\"data row10 col7\" >0.0639</td>\n                        <td id=\"T_2dca6_row10_col8\" class=\"data row10 col8\" >0.2310</td>\n            </tr>\n            <tr>\n                        <th id=\"T_2dca6_level0_row11\" class=\"row_heading level0 row11\" >nb</th>\n                        <td id=\"T_2dca6_row11_col0\" class=\"data row11 col0\" >Naive Bayes</td>\n                        <td id=\"T_2dca6_row11_col1\" class=\"data row11 col1\" >0.3542</td>\n                        <td id=\"T_2dca6_row11_col2\" class=\"data row11 col2\" >0.6389</td>\n                        <td id=\"T_2dca6_row11_col3\" class=\"data row11 col3\" >0.9098</td>\n                        <td id=\"T_2dca6_row11_col4\" class=\"data row11 col4\" >0.2449</td>\n                        <td id=\"T_2dca6_row11_col5\" class=\"data row11 col5\" >0.3859</td>\n                        <td id=\"T_2dca6_row11_col6\" class=\"data row11 col6\" >0.0532</td>\n                        <td id=\"T_2dca6_row11_col7\" class=\"data row11 col7\" >0.1156</td>\n                        <td id=\"T_2dca6_row11_col8\" class=\"data row11 col8\" >0.0390</td>\n            </tr>\n    </tbody></table>"
     },
     "metadata": {}
    }
   ],
   "source": [
    "best_model = compare_models()"
   ]
  },
  {
   "cell_type": "code",
   "execution_count": null,
   "metadata": {},
   "outputs": [],
   "source": [
    "print(best_model)"
   ]
  },
  {
   "source": [
    "# Some Models"
   ],
   "cell_type": "markdown",
   "metadata": {}
  },
  {
   "source": [
    "## Ridge Classifier"
   ],
   "cell_type": "markdown",
   "metadata": {}
  },
  {
   "cell_type": "code",
   "execution_count": null,
   "metadata": {},
   "outputs": [],
   "source": [
    "ridge = create_model('ridge')"
   ]
  },
  {
   "cell_type": "code",
   "execution_count": null,
   "metadata": {},
   "outputs": [],
   "source": [
    "print(ridge)"
   ]
  },
  {
   "source": [
    "##  K Neighbors Classifier"
   ],
   "cell_type": "markdown",
   "metadata": {}
  },
  {
   "cell_type": "code",
   "execution_count": null,
   "metadata": {},
   "outputs": [],
   "source": [
    "knn = create_model('knn')"
   ]
  },
  {
   "cell_type": "code",
   "execution_count": null,
   "metadata": {},
   "outputs": [],
   "source": [
    "print(knn)"
   ]
  },
  {
   "source": [
    "## Random Forest Classifier"
   ],
   "cell_type": "markdown",
   "metadata": {}
  },
  {
   "cell_type": "code",
   "execution_count": null,
   "metadata": {},
   "outputs": [],
   "source": [
    "clf = create_model('rf')"
   ]
  },
  {
   "cell_type": "code",
   "execution_count": null,
   "metadata": {},
   "outputs": [],
   "source": [
    "print(clf)"
   ]
  },
  {
   "source": [
    "# Tune Models"
   ],
   "cell_type": "markdown",
   "metadata": {}
  },
  {
   "source": [
    "## Ridge Classifier"
   ],
   "cell_type": "markdown",
   "metadata": {}
  },
  {
   "cell_type": "code",
   "execution_count": null,
   "metadata": {},
   "outputs": [],
   "source": [
    "tuned_ridge = tune_model(ridge)"
   ]
  },
  {
   "cell_type": "code",
   "execution_count": null,
   "metadata": {},
   "outputs": [],
   "source": [
    "print(tuned_ridge)"
   ]
  },
  {
   "cell_type": "code",
   "execution_count": null,
   "metadata": {},
   "outputs": [],
   "source": []
  }
 ]
}