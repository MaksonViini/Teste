{
 "cells": [
  {
   "cell_type": "markdown",
   "id": "07721546-86a4-46a7-b912-50cf009d6a98",
   "metadata": {},
   "source": [
    "# Introdução"
   ]
  },
  {
   "cell_type": "markdown",
   "id": "43df424a-175f-4f10-99a8-d8e35f01a40f",
   "metadata": {},
   "source": []
  },
  {
   "cell_type": "markdown",
   "id": "d597c461-cc98-4df7-9d44-487d5f1f027c",
   "metadata": {},
   "source": []
  },
  {
   "cell_type": "markdown",
   "id": "3a035654-24d8-4319-a781-e3f6514c9dce",
   "metadata": {},
   "source": [
    "# Table of contents\n",
    "[1. Loading and preparing data](#1.-Loading-and-preparing-data)\n",
    "\n",
    "[2. Standardization](#2.-Standardization)\n",
    "\n",
    "[3. Normalization](#3.-Normalization)\n",
    "\n",
    "[4. Predict with new data](#4.-Predict-with-new-data)"
   ]
  },
  {
   "cell_type": "markdown",
   "id": "8e7b769d-031b-45bd-9e63-532163994f32",
   "metadata": {},
   "source": [
    "Vamos dar início ao estudo..."
   ]
  },
  {
   "cell_type": "markdown",
   "id": "50fcf855-1c94-40d5-a774-0f858f6fc84e",
   "metadata": {},
   "source": [
    "# 1. Loading and preparing data"
   ]
  },
  {
   "cell_type": "code",
   "execution_count": 8,
   "id": "32cd97a3-eb7c-4a0b-ab5a-31cd43558e27",
   "metadata": {},
   "outputs": [],
   "source": [
    "import pandas as pd\n",
    "import numpy as np\n",
    "\n",
    "from sklearn.preprocessing import MinMaxScaler, StandardScaler\n",
    "from sklearn.model_selection import train_test_split\n",
    "from sklearn.linear_model import LinearRegression\n",
    "from sklearn.pipeline import Pipeline\n",
    "\n",
    "from sklearn.metrics import mean_absolute_error, mean_squared_error, r2_score, accuracy_score"
   ]
  },
  {
   "cell_type": "code",
   "execution_count": 9,
   "id": "cca90006-71f7-430b-89b5-f0a124f9b672",
   "metadata": {},
   "outputs": [],
   "source": [
    "data = pd.read_csv('https://raw.githubusercontent.com/MaksonViini/Teste/master/Machine%20Learning%20Models/Datasets/Advertising.csv')"
   ]
  },
  {
   "cell_type": "code",
   "execution_count": 10,
   "id": "6bf33c07-2e0c-4031-bce6-7d5fc567b645",
   "metadata": {},
   "outputs": [
    {
     "output_type": "execute_result",
     "data": {
      "text/plain": [
       "   Unnamed: 0     TV  Radio  Newspaper  Sales\n",
       "0           1  230.1   37.8       69.2   22.1\n",
       "1           2   44.5   39.3       45.1   10.4\n",
       "2           3   17.2   45.9       69.3    9.3\n",
       "3           4  151.5   41.3       58.5   18.5\n",
       "4           5  180.8   10.8       58.4   12.9"
      ],
      "text/html": "<div>\n<style scoped>\n    .dataframe tbody tr th:only-of-type {\n        vertical-align: middle;\n    }\n\n    .dataframe tbody tr th {\n        vertical-align: top;\n    }\n\n    .dataframe thead th {\n        text-align: right;\n    }\n</style>\n<table border=\"1\" class=\"dataframe\">\n  <thead>\n    <tr style=\"text-align: right;\">\n      <th></th>\n      <th>Unnamed: 0</th>\n      <th>TV</th>\n      <th>Radio</th>\n      <th>Newspaper</th>\n      <th>Sales</th>\n    </tr>\n  </thead>\n  <tbody>\n    <tr>\n      <th>0</th>\n      <td>1</td>\n      <td>230.1</td>\n      <td>37.8</td>\n      <td>69.2</td>\n      <td>22.1</td>\n    </tr>\n    <tr>\n      <th>1</th>\n      <td>2</td>\n      <td>44.5</td>\n      <td>39.3</td>\n      <td>45.1</td>\n      <td>10.4</td>\n    </tr>\n    <tr>\n      <th>2</th>\n      <td>3</td>\n      <td>17.2</td>\n      <td>45.9</td>\n      <td>69.3</td>\n      <td>9.3</td>\n    </tr>\n    <tr>\n      <th>3</th>\n      <td>4</td>\n      <td>151.5</td>\n      <td>41.3</td>\n      <td>58.5</td>\n      <td>18.5</td>\n    </tr>\n    <tr>\n      <th>4</th>\n      <td>5</td>\n      <td>180.8</td>\n      <td>10.8</td>\n      <td>58.4</td>\n      <td>12.9</td>\n    </tr>\n  </tbody>\n</table>\n</div>"
     },
     "metadata": {},
     "execution_count": 10
    }
   ],
   "source": [
    "data.head()"
   ]
  },
  {
   "source": [
    "### Spliting data"
   ],
   "cell_type": "markdown",
   "metadata": {}
  },
  {
   "cell_type": "code",
   "execution_count": null,
   "metadata": {},
   "outputs": [],
   "source": [
    "X = data.drop(['Unnamed: 0', 'Sales'], axis=1)\n",
    "y = data['Sales']\n",
    "X_train, X_test, y_train, y_test = train_test_split(X, y, test_size=0.25, random_state=42)"
   ]
  },
  {
   "cell_type": "markdown",
   "id": "2316f129-8851-4c38-a9e2-12ed03b53e56",
   "metadata": {},
   "source": [
    "# 2. Standardization"
   ]
  },
  {
   "cell_type": "markdown",
   "id": "d478c06a",
   "metadata": {},
   "source": [
    "## 2.1 Standard Scaler"
   ]
  },
  {
   "cell_type": "code",
   "execution_count": 74,
   "metadata": {},
   "outputs": [],
   "source": [
    "pipe_scaler = Pipeline([('scaler', StandardScaler()),\n",
    "                        ('lr', LinearRegression())])"
   ]
  },
  {
   "cell_type": "code",
   "execution_count": 79,
   "metadata": {},
   "outputs": [
    {
     "output_type": "execute_result",
     "data": {
      "text/plain": [
       "Pipeline(steps=[('scaler', StandardScaler()), ('lr', LinearRegression())])"
      ]
     },
     "metadata": {},
     "execution_count": 79
    }
   ],
   "source": [
    "pipe_scaler.fit(X_train, y_train)"
   ]
  },
  {
   "cell_type": "code",
   "execution_count": 80,
   "id": "05c12cc0",
   "metadata": {},
   "outputs": [
    {
     "output_type": "execute_result",
     "data": {
      "text/plain": [
       "0.8935163320163659"
      ]
     },
     "metadata": {},
     "execution_count": 80
    }
   ],
   "source": [
    "pipe_scaler.score(X_test, y_test)"
   ]
  },
  {
   "cell_type": "code",
   "execution_count": 81,
   "id": "7ff1bdfb",
   "metadata": {},
   "outputs": [],
   "source": [
    "y_pred = pipe_scaler.predict(X_test)"
   ]
  },
  {
   "cell_type": "code",
   "execution_count": 82,
   "id": "9d5c99f5",
   "metadata": {},
   "outputs": [
    {
     "output_type": "stream",
     "name": "stdout",
     "text": [
      "Valores do Mean Absolute Error:  1.4023124989385065\nValores do Mean Squared Error:  2.88002373009419\nValores do Root Mean Squared Error:  1.6970632663793621\nValores do R2 score:  0.8935163320163659\n"
     ]
    }
   ],
   "source": [
    "mae = mean_absolute_error(y_test, y_pred)\n",
    "mse = mean_squared_error(y_test, y_pred)\n",
    "rmse = np.sqrt(mse)\n",
    "r2 = r2_score(y_test, y_pred)\n",
    "\n",
    "print('Valores do Mean Absolute Error: ', mae)\n",
    "print('Valores do Mean Squared Error: ', mse)\n",
    "print('Valores do Root Mean Squared Error: ', rmse)\n",
    "print('Valores do R2 score: ', r2)"
   ]
  },
  {
   "cell_type": "markdown",
   "id": "abda8c1e-801e-4bc3-a673-cc04e3d41190",
   "metadata": {},
   "source": [
    "# 3. Normalization"
   ]
  },
  {
   "cell_type": "markdown",
   "id": "55075265",
   "metadata": {},
   "source": [
    "## 3.1 Min Max Scaler"
   ]
  },
  {
   "cell_type": "code",
   "execution_count": 71,
   "metadata": {},
   "outputs": [],
   "source": [
    "pipe_norm = Pipeline([('norm', MinMaxScaler()), \n",
    "                 ('lr', LinearRegression())])"
   ]
  },
  {
   "cell_type": "code",
   "execution_count": 72,
   "metadata": {},
   "outputs": [
    {
     "output_type": "execute_result",
     "data": {
      "text/plain": [
       "Pipeline(steps=[('norm', MinMaxScaler()), ('lr', LinearRegression())])"
      ]
     },
     "metadata": {},
     "execution_count": 72
    }
   ],
   "source": [
    "pipe_norm.fit(X_train, y_train)"
   ]
  },
  {
   "cell_type": "code",
   "execution_count": 68,
   "metadata": {},
   "outputs": [
    {
     "output_type": "execute_result",
     "data": {
      "text/plain": [
       "0.8935163320163658"
      ]
     },
     "metadata": {},
     "execution_count": 68
    }
   ],
   "source": [
    "pipe_norm.score(X_test, y_test)"
   ]
  },
  {
   "cell_type": "code",
   "execution_count": 69,
   "id": "5c51fa44",
   "metadata": {},
   "outputs": [],
   "source": [
    "y_pred = pipe_norm.predict(X_test)"
   ]
  },
  {
   "cell_type": "code",
   "execution_count": 56,
   "id": "203d224f",
   "metadata": {},
   "outputs": [
    {
     "output_type": "stream",
     "name": "stdout",
     "text": [
      "Valores do Mean Absolute Error:  1.402312498938507\nValores do Mean Squared Error:  2.8800237300941918\nValores do Root Mean Squared Error:  1.6970632663793628\nValores do R2 score:  0.8935163320163658\n"
     ]
    }
   ],
   "source": [
    "mae = mean_absolute_error(y_test, y_pred)\n",
    "mse = mean_squared_error(y_test, y_pred)\n",
    "rmse = np.sqrt(mse)\n",
    "r2 = r2_score(y_test, y_pred)\n",
    "\n",
    "print('Valores do Mean Absolute Error: ', mae)\n",
    "print('Valores do Mean Squared Error: ', mse)\n",
    "print('Valores do Root Mean Squared Error: ', rmse)\n",
    "print('Valores do R2 score: ', r2)"
   ]
  },
  {
   "source": [
    "# 4. Predict with new data"
   ],
   "cell_type": "markdown",
   "metadata": {}
  },
  {
   "cell_type": "code",
   "execution_count": 62,
   "metadata": {},
   "outputs": [
    {
     "output_type": "stream",
     "name": "stdout",
     "text": [
      "        TV  Radio  Newspaper\n95   163.3   31.6       52.9\n15   195.4   47.7       52.9\n30   292.9   28.3       43.2\n158   11.7   36.9       45.2\n128  220.3   49.0        3.2\n\n95     16.9\n15     22.4\n30     21.4\n158     7.3\n128    24.7\nName: Sales, dtype: float64\n"
     ]
    }
   ],
   "source": [
    "print(X_test.head())\n",
    "print()\n",
    "print(y_test.head())"
   ]
  },
  {
   "cell_type": "code",
   "execution_count": 60,
   "metadata": {},
   "outputs": [],
   "source": [
    "input_data = np.array([['163.3', '31.6', '52.9']])"
   ]
  },
  {
   "cell_type": "code",
   "execution_count": 70,
   "metadata": {},
   "outputs": [
    {
     "output_type": "execute_result",
     "data": {
      "text/plain": [
       "array([16.38348211])"
      ]
     },
     "metadata": {},
     "execution_count": 70
    }
   ],
   "source": [
    "pipe_norm.predict(input_data)"
   ]
  }
 ],
 "metadata": {
  "interpreter": {
   "hash": "916dbcbb3f70747c44a77c7bcd40155683ae19c65e1c03b4aa3499c5328201f1"
  },
  "kernelspec": {
   "name": "python3",
   "display_name": "Python 3.9.5 64-bit"
  },
  "language_info": {
   "codemirror_mode": {
    "name": "ipython",
    "version": 3
   },
   "file_extension": ".py",
   "mimetype": "text/x-python",
   "name": "python",
   "nbconvert_exporter": "python",
   "pygments_lexer": "ipython3",
   "version": "3.8.6"
  }
 },
 "nbformat": 4,
 "nbformat_minor": 5
}