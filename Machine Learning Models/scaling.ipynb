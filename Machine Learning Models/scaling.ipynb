{
 "cells": [
  {
   "cell_type": "markdown",
   "id": "8b3eb03b-2b52-45a9-8173-70651bf0c9f6",
   "metadata": {},
   "source": [
    "---\n",
    "By: Makson Vinicio\n",
    "\n",
    "<i>Follow me:</i><br>\n",
    "\n",
    "[![author](https://img.shields.io/badge/LinkedIn-%230077B5.svg?&style=flat-square&logo=linkedin&logoColor=white)](https://www.linkedin.com/in/maksonvinicio/)\n",
    "[![author](https://img.shields.io/badge/Instagram-%23E4405F.svg?&style=flat-square&logo=instagram&logoColor=white)](https://www.instagram.com/maksonvinicio/)\n",
    "[![author](https://img.shields.io/badge/Facebook-%231877F2.svg?&style=flat-square&logo=facebook&logoColor=white)](https://www.facebook.com/Makson.Vinicio.10/)\n",
    "[![author](https://img.shields.io/badge/GitHub-maksonviini-black)](https://github.com/maksonviini)\n",
    "\n",
    "---\n"
   ]
  },
  {
   "cell_type": "markdown",
   "id": "07721546-86a4-46a7-b912-50cf009d6a98",
   "metadata": {},
   "source": [
    "# Introducao"
   ]
  },
  {
   "cell_type": "markdown",
   "id": "43df424a-175f-4f10-99a8-d8e35f01a40f",
   "metadata": {},
   "source": []
  },
  {
   "cell_type": "markdown",
   "id": "d597c461-cc98-4df7-9d44-487d5f1f027c",
   "metadata": {},
   "source": []
  },
  {
   "cell_type": "markdown",
   "id": "3a035654-24d8-4319-a781-e3f6514c9dce",
   "metadata": {},
   "source": [
    "# Table of contents\n",
    "[1. Loading and preparing data](#1.-Loading-and-preparing-data)"
   ]
  },
  {
   "cell_type": "markdown",
   "id": "8e7b769d-031b-45bd-9e63-532163994f32",
   "metadata": {},
   "source": [
    "Vamos dar inicio a analise dos scalings"
   ]
  },
  {
   "cell_type": "markdown",
   "id": "50fcf855-1c94-40d5-a774-0f858f6fc84e",
   "metadata": {},
   "source": [
    "# 1. Loading and preparing data"
   ]
  },
  {
   "cell_type": "code",
   "execution_count": 9,
   "id": "32cd97a3-eb7c-4a0b-ab5a-31cd43558e27",
   "metadata": {},
   "outputs": [],
   "source": [
    "import pandas as pd\n",
    "import numpy as np\n",
    "from sklearn.preprocessing import MinMaxScaler, StandardScaler\n",
    "from sklearn.model_selection import train_test_split\n",
    "from sklearn.linear_model import LinearRegression"
   ]
  },
  {
   "cell_type": "code",
   "execution_count": 2,
   "id": "cca90006-71f7-430b-89b5-f0a124f9b672",
   "metadata": {},
   "outputs": [],
   "source": [
    "data = pd.read_csv('https://raw.githubusercontent.com/MaksonViini/Teste/master/Machine%20Learning%20Models/Datasets/Advertising.csv')"
   ]
  },
  {
   "cell_type": "code",
   "execution_count": 3,
   "id": "6bf33c07-2e0c-4031-bce6-7d5fc567b645",
   "metadata": {},
   "outputs": [
    {
     "output_type": "execute_result",
     "data": {
      "text/plain": [
       "   Unnamed: 0     TV  Radio  Newspaper  Sales\n",
       "0           1  230.1   37.8       69.2   22.1\n",
       "1           2   44.5   39.3       45.1   10.4\n",
       "2           3   17.2   45.9       69.3    9.3\n",
       "3           4  151.5   41.3       58.5   18.5\n",
       "4           5  180.8   10.8       58.4   12.9"
      ],
      "text/html": "<div>\n<style scoped>\n    .dataframe tbody tr th:only-of-type {\n        vertical-align: middle;\n    }\n\n    .dataframe tbody tr th {\n        vertical-align: top;\n    }\n\n    .dataframe thead th {\n        text-align: right;\n    }\n</style>\n<table border=\"1\" class=\"dataframe\">\n  <thead>\n    <tr style=\"text-align: right;\">\n      <th></th>\n      <th>Unnamed: 0</th>\n      <th>TV</th>\n      <th>Radio</th>\n      <th>Newspaper</th>\n      <th>Sales</th>\n    </tr>\n  </thead>\n  <tbody>\n    <tr>\n      <th>0</th>\n      <td>1</td>\n      <td>230.1</td>\n      <td>37.8</td>\n      <td>69.2</td>\n      <td>22.1</td>\n    </tr>\n    <tr>\n      <th>1</th>\n      <td>2</td>\n      <td>44.5</td>\n      <td>39.3</td>\n      <td>45.1</td>\n      <td>10.4</td>\n    </tr>\n    <tr>\n      <th>2</th>\n      <td>3</td>\n      <td>17.2</td>\n      <td>45.9</td>\n      <td>69.3</td>\n      <td>9.3</td>\n    </tr>\n    <tr>\n      <th>3</th>\n      <td>4</td>\n      <td>151.5</td>\n      <td>41.3</td>\n      <td>58.5</td>\n      <td>18.5</td>\n    </tr>\n    <tr>\n      <th>4</th>\n      <td>5</td>\n      <td>180.8</td>\n      <td>10.8</td>\n      <td>58.4</td>\n      <td>12.9</td>\n    </tr>\n  </tbody>\n</table>\n</div>"
     },
     "metadata": {},
     "execution_count": 3
    }
   ],
   "source": [
    "data.head()"
   ]
  },
  {
   "source": [
    "## Standard Scaler"
   ],
   "cell_type": "markdown",
   "metadata": {}
  },
  {
   "cell_type": "code",
   "execution_count": 24,
   "metadata": {},
   "outputs": [],
   "source": [
    "from sklearn.metrics import mean_absolute_error, mean_squared_error, r2_score, accuracy_score"
   ]
  },
  {
   "cell_type": "code",
   "execution_count": 36,
   "metadata": {},
   "outputs": [],
   "source": [
    "X = data.drop('Sales', axis=1).values\n",
    "y = data['Sales'].values\n",
    "X_train, X_test, y_train, y_test = train_test_split(X, y, test_size=0.25, random_state=42)"
   ]
  },
  {
   "cell_type": "code",
   "execution_count": 37,
   "id": "8c482c65-4afc-4311-879d-2cb7d52dd131",
   "metadata": {},
   "outputs": [],
   "source": [
    "X_train_scaled = StandardScaler().fit_transform(X_train)\n",
    "X_test_scaled = StandardScaler().fit_transform(X_test)"
   ]
  },
  {
   "cell_type": "code",
   "execution_count": 40,
   "metadata": {},
   "outputs": [],
   "source": [
    "lr = LinearRegression().fit(X_train_scaled, y_train)"
   ]
  },
  {
   "cell_type": "code",
   "execution_count": 42,
   "metadata": {},
   "outputs": [
    {
     "output_type": "execute_result",
     "data": {
      "text/plain": [
       "0.845109515763925"
      ]
     },
     "metadata": {},
     "execution_count": 42
    }
   ],
   "source": [
    "lr.score(X_test_scaled, y_test)"
   ]
  },
  {
   "cell_type": "code",
   "execution_count": 43,
   "metadata": {},
   "outputs": [],
   "source": [
    "y_pred = lr.predict(X_test_scaled)"
   ]
  },
  {
   "cell_type": "code",
   "execution_count": 44,
   "metadata": {},
   "outputs": [
    {
     "output_type": "stream",
     "name": "stdout",
     "text": [
      "Valores do Mean Absolute Error:  1.501459309498278\nValores do Mean Squared Error:  4.189264688311047\nValores do Root Mean Squared Error:  2.046769329531554\nValores do R2 score:  0.845109515763925\n"
     ]
    }
   ],
   "source": [
    "mae = mean_absolute_error(y_test, y_pred)\n",
    "mse = mean_squared_error(y_test, y_pred)\n",
    "rmse = np.sqrt(mse)\n",
    "r2 = r2_score(y_test, y_pred)\n",
    "\n",
    "print('Valores do Mean Absolute Error: ', mae)\n",
    "print('Valores do Mean Squared Error: ', mse)\n",
    "print('Valores do Root Mean Squared Error: ', rmse)\n",
    "print('Valores do R2 score: ', r2)"
   ]
  },
  {
   "source": [
    "## Min Max Scaler"
   ],
   "cell_type": "markdown",
   "metadata": {}
  },
  {
   "cell_type": "code",
   "execution_count": 45,
   "id": "c5680e65-1fda-4c9f-a29e-21e6acd52c8c",
   "metadata": {},
   "outputs": [],
   "source": [
    "X_train_max = MinMaxScaler().fit_transform(X_train)\n",
    "X_test_max = MinMaxScaler().fit_transform(X_test)"
   ]
  },
  {
   "cell_type": "code",
   "execution_count": 46,
   "metadata": {},
   "outputs": [],
   "source": [
    "lr = LinearRegression().fit(X_train_max, y_train)"
   ]
  },
  {
   "cell_type": "code",
   "execution_count": 47,
   "metadata": {},
   "outputs": [
    {
     "output_type": "execute_result",
     "data": {
      "text/plain": [
       "0.8868150367891218"
      ]
     },
     "metadata": {},
     "execution_count": 47
    }
   ],
   "source": [
    "lr.score(X_test_max, y_test)"
   ]
  },
  {
   "cell_type": "code",
   "execution_count": 49,
   "metadata": {},
   "outputs": [],
   "source": [
    "y_pred = lr.predict(X_test_max)"
   ]
  },
  {
   "cell_type": "code",
   "execution_count": null,
   "metadata": {},
   "outputs": [],
   "source": [
    "mae = mean_absolute_error(y_test, y_pred)\n",
    "mse = mean_squared_error(y_test, y_pred)\n",
    "rmse = np.sqrt(mse)\n",
    "r2 = r2_score(y_test, y_pred)\n",
    "\n",
    "print('Valores do Mean Absolute Error: ', mae)\n",
    "print('Valores do Mean Squared Error: ', mse)\n",
    "print('Valores do Root Mean Squared Error: ', rmse)\n",
    "print('Valores do R2 score: ', r2)"
   ]
  }
 ],
 "metadata": {
  "interpreter": {
   "hash": "916dbcbb3f70747c44a77c7bcd40155683ae19c65e1c03b4aa3499c5328201f1"
  },
  "kernelspec": {
   "name": "python3",
   "display_name": "Python 3.8.6 64-bit"
  },
  "language_info": {
   "codemirror_mode": {
    "name": "ipython",
    "version": 3
   },
   "file_extension": ".py",
   "mimetype": "text/x-python",
   "name": "python",
   "nbconvert_exporter": "python",
   "pygments_lexer": "ipython3",
   "version": "3.8.6"
  }
 },
 "nbformat": 4,
 "nbformat_minor": 5
}